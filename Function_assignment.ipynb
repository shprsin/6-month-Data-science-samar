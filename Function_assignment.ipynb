{
 "cells": [
  {
   "cell_type": "code",
   "execution_count": 1,
   "id": "b7a04a21-6210-49f6-8235-1a4095fcc692",
   "metadata": {},
   "outputs": [],
   "source": [
    "#Q1"
   ]
  },
  {
   "cell_type": "code",
   "execution_count": 2,
   "id": "8ded4c0f-1cbb-43da-9277-958751eb7652",
   "metadata": {},
   "outputs": [],
   "source": [
    "#def keyword is used to create a function"
   ]
  },
  {
   "cell_type": "code",
   "execution_count": 7,
   "id": "e39c03bf-f941-4ac4-9dc5-e123830974f1",
   "metadata": {},
   "outputs": [],
   "source": [
    "def f1():\n",
    "    for i in range(1,26,2):\n",
    "        print (i)"
   ]
  },
  {
   "cell_type": "code",
   "execution_count": 8,
   "id": "8f0a2386-b5ac-44cc-9422-f7b07832745f",
   "metadata": {},
   "outputs": [
    {
     "name": "stdout",
     "output_type": "stream",
     "text": [
      "1\n",
      "3\n",
      "5\n",
      "7\n",
      "9\n",
      "11\n",
      "13\n",
      "15\n",
      "17\n",
      "19\n",
      "21\n",
      "23\n",
      "25\n"
     ]
    }
   ],
   "source": [
    "f1()"
   ]
  },
  {
   "cell_type": "code",
   "execution_count": 9,
   "id": "d46b3bd9-961a-4efa-8fce-993db60e5256",
   "metadata": {},
   "outputs": [],
   "source": [
    "#*args &**kwargs are used to take runtime arguments and key value pairs(any number of args)"
   ]
  },
  {
   "cell_type": "code",
   "execution_count": 19,
   "id": "4464344a-d5e8-49ee-94d5-4838162a02ca",
   "metadata": {},
   "outputs": [],
   "source": [
    "def f2(*args):\n",
    "    return args"
   ]
  },
  {
   "cell_type": "code",
   "execution_count": 21,
   "id": "983c3320-5f8b-43b4-aab3-6b0af6ff0060",
   "metadata": {},
   "outputs": [],
   "source": [
    "def f2_1(**kwargs):\n",
    "    return kwargs"
   ]
  },
  {
   "cell_type": "code",
   "execution_count": 20,
   "id": "6c2ea868-5398-46c6-b5da-126c3a339671",
   "metadata": {},
   "outputs": [
    {
     "data": {
      "text/plain": [
       "(1, 2, 'sudh')"
      ]
     },
     "execution_count": 20,
     "metadata": {},
     "output_type": "execute_result"
    }
   ],
   "source": [
    "f2(1,2,'sudh')"
   ]
  },
  {
   "cell_type": "code",
   "execution_count": 25,
   "id": "bb8201f3-2284-4915-9333-4f0188f90a10",
   "metadata": {},
   "outputs": [
    {
     "data": {
      "text/plain": [
       "{'a': 1, 'b': 2}"
      ]
     },
     "execution_count": 25,
     "metadata": {},
     "output_type": "execute_result"
    }
   ],
   "source": [
    "f2_1(a= 1,b= 2)"
   ]
  },
  {
   "cell_type": "code",
   "execution_count": 26,
   "id": "61264789-ac2f-4928-a7c7-847c2bac0fba",
   "metadata": {},
   "outputs": [],
   "source": [
    "#Q3"
   ]
  },
  {
   "cell_type": "code",
   "execution_count": 27,
   "id": "fc6619a2-42e0-4c79-a1f6-0199ea3deb1b",
   "metadata": {},
   "outputs": [],
   "source": [
    "#iterator in python means an object that allows for looping through a set list or collection & others"
   ]
  },
  {
   "cell_type": "code",
   "execution_count": 30,
   "id": "f5d65ae5-aca3-4ab6-a78a-d0cde539bb3c",
   "metadata": {},
   "outputs": [],
   "source": [
    "#iter() function is used to initialize an iterator"
   ]
  },
  {
   "cell_type": "code",
   "execution_count": 48,
   "id": "e4750e54-d968-4867-b31c-9b932f1ca66a",
   "metadata": {},
   "outputs": [],
   "source": [
    "def p_rint(a):\n",
    "    for i in a:\n",
    "        if a.index(i)<5:\n",
    "            print(i)\n",
    "        else:\n",
    "            break"
   ]
  },
  {
   "cell_type": "code",
   "execution_count": 34,
   "id": "b84d0e23-9edb-4bd8-91b1-887f529298b4",
   "metadata": {},
   "outputs": [],
   "source": [
    "n=[]\n",
    "for i in range(2,21,2):\n",
    "    n.append(i)"
   ]
  },
  {
   "cell_type": "code",
   "execution_count": 49,
   "id": "5fe43771-b9bf-4b66-a3b3-42784e67374d",
   "metadata": {},
   "outputs": [
    {
     "name": "stdout",
     "output_type": "stream",
     "text": [
      "2\n",
      "4\n",
      "6\n",
      "8\n",
      "10\n"
     ]
    }
   ],
   "source": [
    "p_rint(n)"
   ]
  },
  {
   "cell_type": "code",
   "execution_count": 50,
   "id": "d2810b4a-3e6c-4a11-b02e-7a6764c6e0a1",
   "metadata": {},
   "outputs": [],
   "source": [
    "#q4"
   ]
  },
  {
   "cell_type": "code",
   "execution_count": 57,
   "id": "ee9b5b37-af09-4a88-b6d5-5a1c88cfe223",
   "metadata": {},
   "outputs": [],
   "source": [
    "# generator funcitons are functions used to create a series one by one\n",
    "# yield is used to create value one by one"
   ]
  },
  {
   "cell_type": "code",
   "execution_count": 53,
   "id": "90fb2cc2-080f-493e-b7e9-fbb51ad4d61c",
   "metadata": {},
   "outputs": [],
   "source": [
    "def gn_fn(n):\n",
    "    for i in range(n):\n",
    "        yield i"
   ]
  },
  {
   "cell_type": "code",
   "execution_count": 55,
   "id": "93536386-1bf6-4393-a61b-879721b2bc07",
   "metadata": {},
   "outputs": [
    {
     "name": "stdout",
     "output_type": "stream",
     "text": [
      "0\n",
      "1\n",
      "2\n",
      "3\n",
      "4\n",
      "5\n",
      "6\n",
      "7\n",
      "8\n",
      "9\n"
     ]
    }
   ],
   "source": [
    "for i in gn_fn(10):\n",
    "    print(i)"
   ]
  },
  {
   "cell_type": "code",
   "execution_count": 101,
   "id": "66172c16-7bdd-4965-9249-4dc36dae7855",
   "metadata": {},
   "outputs": [
    {
     "data": {
      "text/plain": [
       "2"
      ]
     },
     "execution_count": 101,
     "metadata": {},
     "output_type": "execute_result"
    }
   ],
   "source": [
    "#q5\n",
    "math.ceil((math.sqrt(4)))"
   ]
  },
  {
   "cell_type": "code",
   "execution_count": 115,
   "id": "54b8ba14-b370-4e76-838b-e973c330d388",
   "metadata": {},
   "outputs": [],
   "source": [
    "\n",
    "def pri():\n",
    "    for i in range(2,1000):\n",
    "        c=0\n",
    "        for j in range(2,i+1):\n",
    "            if (i%j==0):\n",
    "                c+=1\n",
    "        if c==1:\n",
    "            yield i\n",
    "            \n",
    "                       \n",
    "                       \n",
    "                       \n",
    "        \n",
    "          "
   ]
  },
  {
   "cell_type": "code",
   "execution_count": 121,
   "id": "58e603cf-72e4-4ebf-8935-5f4b1e5f3886",
   "metadata": {},
   "outputs": [],
   "source": [
    "l=iter(pri())"
   ]
  },
  {
   "cell_type": "code",
   "execution_count": 122,
   "id": "634eaf50-a4b3-4f53-bd6a-0df3e8b5f15d",
   "metadata": {},
   "outputs": [
    {
     "name": "stdout",
     "output_type": "stream",
     "text": [
      "2\n",
      "3\n",
      "5\n",
      "7\n",
      "11\n",
      "13\n",
      "17\n",
      "19\n",
      "23\n",
      "29\n",
      "31\n",
      "37\n",
      "41\n",
      "43\n",
      "47\n",
      "53\n",
      "59\n",
      "61\n",
      "67\n",
      "71\n"
     ]
    }
   ],
   "source": [
    "for i in range(20):\n",
    "    print(next(l))"
   ]
  },
  {
   "cell_type": "code",
   "execution_count": null,
   "id": "82d9fc4b-8880-46db-87f5-dcd993a76162",
   "metadata": {},
   "outputs": [],
   "source": []
  }
 ],
 "metadata": {
  "kernelspec": {
   "display_name": "Python 3 (ipykernel)",
   "language": "python",
   "name": "python3"
  },
  "language_info": {
   "codemirror_mode": {
    "name": "ipython",
    "version": 3
   },
   "file_extension": ".py",
   "mimetype": "text/x-python",
   "name": "python",
   "nbconvert_exporter": "python",
   "pygments_lexer": "ipython3",
   "version": "3.10.8"
  }
 },
 "nbformat": 4,
 "nbformat_minor": 5
}
