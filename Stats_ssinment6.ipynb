{
 "cells": [
  {
   "cell_type": "raw",
   "id": "dc49afe6-e04c-4f07-9a23-a810ac698c78",
   "metadata": {},
   "source": [
    "Q1\n",
    "A z-test is used to test a Null Hypothesis if the population variance is known, or if the sample size is larger than 30, for an unknown population variance. A t-test is used when the sample size is less than 30 and the population variance is unknown"
   ]
  },
  {
   "cell_type": "raw",
   "id": "72cd3c1a-c689-48ae-a872-b5a2565287c2",
   "metadata": {},
   "source": [
    "Example\n",
    "Z test: et's say that the mean score of students in a class is greater than 70 with a standard deviation of 10. If a sample of 50 students was selected with a mean score of 80, calculate the Z-value to check if there is enough evidence to support this claim at a 0.05 significance level.\n",
    "\n",
    "Ttest:A store wants to improve its sales. The previous sales data shows that the average sale of 30 salesmen was $40 per sale. After some training, the current data showed an average sale of $60 per transaction. If the standard deviation given is $20, find the t-value. Did training improve the sales?\n"
   ]
  },
  {
   "cell_type": "raw",
   "id": "5cd22bdf-e67b-4b6a-bb33-6bdd6ba1cbbc",
   "metadata": {},
   "source": [
    "Q2\n",
    "The main difference between one-tailed and two-tailed tests is that one-tailed tests will only have one critical region whereas two-tailed tests will have two critical regions."
   ]
  },
  {
   "cell_type": "markdown",
   "id": "dfa37e2a-b2b4-42cb-8d48-bcf0d1dc3d59",
   "metadata": {},
   "source": [
    "Q3"
   ]
  },
  {
   "cell_type": "raw",
   "id": "1ecc5579-bfcc-44b6-b731-adaf07fcfefb",
   "metadata": {},
   "source": [
    "A type I error (false-positive) occurs if an investigator rejects a null hypothesis that is actually true in the population; a type II error (false-negative) occurs if the investigator fails to reject a null hypothesis that is actually false in the population."
   ]
  },
  {
   "cell_type": "raw",
   "id": "246aba0b-1e21-4299-af88-606e66d071cc",
   "metadata": {},
   "source": [
    "Eg. Type 1: your clinical study, you compare the symptoms of patients who received the new drug intervention or a control treatment. Using a t test, you obtain a p value of .035. This p value is lower than your alpha of .05, so you consider your results statistically significant and reject the null hypothesis.\n",
    "However, the p value means that there is a 3.5% chance of your results occurring if the null hypothesis is true. Therefore, there is still a risk of making a Type I error.\n",
    "\n",
    "Type2:When preparing your clinical study, you complete a power analysis and determine that with your sample size, you have an 80% chance of detecting an effect size of 20% or greater. An effect size of 20% means that the drug intervention reduces symptoms by 20% more than the control treatment.\n",
    "However, a Type II may occur if an effect that’s smaller than this size. A smaller effect size is unlikely to be detected in your study due to inadequate statistical power."
   ]
  },
  {
   "cell_type": "raw",
   "id": "fcdf4a6f-5f4d-460f-a6b3-d4a3d0d342a1",
   "metadata": {},
   "source": [
    "Q4\n",
    "Bayes' Theorem follows simply from the axioms of conditional probability, which is the probability of an event given that another event occurred.\n",
    "E.g"
   ]
  },
  {
   "cell_type": "raw",
   "id": "d06f4216-206d-422e-8722-06ce32f909cc",
   "metadata": {},
   "source": [
    "A bag I contains 4 white and 6 black balls while another Bag II contains 4 white and 3 black balls. One ball is drawn at random from one of the bags, and it is found to be black. Find the probability that it was drawn from Bag I.\n",
    "\n",
    "Solution:\n",
    "\n",
    "Let E1 be the event of choosing bag I, E2 the event of choosing bag II, and A be the event of drawing a black ball.\n",
    "\n",
    "Then,\n",
    "\n",
    " \n",
    " \n",
    "Also, P(A|E1) = P(drawing a black ball from Bag I) = 6/10 = 3/5\n",
    "\n",
    "P(A|E2) = P(drawing a black ball from Bag II) = 3/7\n",
    "\n",
    "By using Bayes’ theorem, the probability of drawing a black ball from bag I out of two bags,\n",
    "\n",
    "\n",
    "P(E1|A)= P(E1)P(A|E1)/P(E1)P(A|E1) + P(E2)P(A|E2)\n",
    "\n",
    "       =(1/2 * 3/5)/(1/2 * 3/5 + 1/2 * 3/7)\n",
    "       =7/12\n",
    " \n",
    " \n",
    "\n",
    " \n",
    " \n",
    " \n",
    " \n",
    " \n",
    " \n",
    " \n",
    " \n",
    "\n"
   ]
  },
  {
   "cell_type": "raw",
   "id": "efa47ca4-6064-4ecd-be61-1eddadc0d8c2",
   "metadata": {},
   "source": [
    "Q5\n",
    "Confidence Interval is a range of values so defined that there is a specified probability that the value of a parameter lies within it. Eg"
   ]
  },
  {
   "cell_type": "code",
   "execution_count": 1,
   "id": "d13bbb90-6c98-4e84-bbe2-acc9ff0eb22d",
   "metadata": {},
   "outputs": [
    {
     "data": {
      "text/plain": [
       "[513.8592929112564, 486.1407070887437]"
      ]
     },
     "execution_count": 1,
     "metadata": {},
     "output_type": "execute_result"
    }
   ],
   "source": [
    "n=50\n",
    "S_mu=500\n",
    "std=50\n",
    "s_v=.05\n",
    "df=n-1\n",
    "pmu_range=[S_mu + (1.96*std)/n**(1/2),S_mu -(1.96*std)/n**(1/2)]\n",
    "pmu_range"
   ]
  },
  {
   "cell_type": "raw",
   "id": "155a6854-a895-4fe6-8cf5-e376e7e6439d",
   "metadata": {},
   "source": [
    "Q6.\n",
    "A bag I contains 4 white and 6 black balls while another Bag II contains 4 white and 3 black balls. One ball is drawn at random from one of the bags, and it is found to be black. Find the probability that it was drawn from Bag I.\n",
    "\n",
    "Solution:\n",
    "\n",
    "Let E1 be the event of choosing bag I, E2 the event of choosing bag II, and A be the event of drawing a black ball.\n",
    "\n",
    "Then,\n",
    "\n",
    " \n",
    " \n",
    "Also, P(A|E1) = P(drawing a black ball from Bag I) = 6/10 = 3/5\n",
    "\n",
    "P(A|E2) = P(drawing a black ball from Bag II) = 3/7\n",
    "\n",
    "By using Bayes’ theorem, the probability of drawing a black ball from bag I out of two bags,\n",
    "\n",
    "\n",
    "P(E1|A)= P(E1)P(A|E1)/P(E1)P(A|E1) + P(E2)P(A|E2)\n",
    "\n",
    "       =(1/2 * 3/5)/(1/2 * 3/5 + 1/2 * 3/7)\n",
    "       =7/12\n",
    " \n",
    " \n",
    "\n",
    " "
   ]
  },
  {
   "cell_type": "raw",
   "id": "4ef71b81-96d7-42ff-ac0a-27f1da6331d5",
   "metadata": {},
   "source": [
    "Q7"
   ]
  },
  {
   "cell_type": "code",
   "execution_count": 2,
   "id": "f69d79e2-519f-409a-9cbe-3e05dcb5482d",
   "metadata": {},
   "outputs": [
    {
     "data": {
      "text/plain": [
       "[51.385929291125635, 48.614070708874365]"
      ]
     },
     "execution_count": 2,
     "metadata": {},
     "output_type": "execute_result"
    }
   ],
   "source": [
    "n=50\n",
    "S_mu=50\n",
    "std=5\n",
    "s_v=.05\n",
    "df=n-1\n",
    "pmu_range=[S_mu + (1.96*std)/n**(1/2),S_mu -(1.96*std)/n**(1/2)]\n",
    "pmu_range"
   ]
  },
  {
   "cell_type": "markdown",
   "id": "8014991a-ecaa-4634-afe2-40b406d0cf72",
   "metadata": {},
   "source": [
    "Q8"
   ]
  },
  {
   "cell_type": "raw",
   "id": "3ed6957b-7268-4671-a011-2b36b31c5515",
   "metadata": {},
   "source": [
    "Margin of error is used in research to determine the precision of a result, such as a poll, survey, or a scientific study.\n",
    "\n",
    "As sample size increases, the margin of error decreases. As the variability in the population increases, the margin of error increases. As the confidence level increases, the margin of error increases.\n",
    "\n"
   ]
  },
  {
   "cell_type": "markdown",
   "id": "9db7375c-0b88-49f3-ad7f-603699e2ef6a",
   "metadata": {},
   "source": [
    "Q9"
   ]
  },
  {
   "cell_type": "code",
   "execution_count": 2,
   "id": "fd1d12b8-05a4-45f9-8320-f477faf588d7",
   "metadata": {},
   "outputs": [
    {
     "data": {
      "text/plain": [
       "1.0"
      ]
     },
     "execution_count": 2,
     "metadata": {},
     "output_type": "execute_result"
    }
   ],
   "source": [
    "d=75\n",
    "mu=70\n",
    "std=5\n",
    "s_v=.05\n",
    "\n",
    "Zs=(d-mu)/(std)\n",
    "Zs\n"
   ]
  },
  {
   "cell_type": "code",
   "execution_count": 3,
   "id": "dd06e6dd-3ab6-4400-910b-45097f0bcf4a",
   "metadata": {},
   "outputs": [
    {
     "name": "stdout",
     "output_type": "stream",
     "text": [
      "It means that the 75 is one deviation away from the mean\n"
     ]
    }
   ],
   "source": [
    "print(\"It means that the 75 is one deviation away from the mean\")"
   ]
  },
  {
   "cell_type": "markdown",
   "id": "4f587777-2379-4712-8957-282da6d4c5f0",
   "metadata": {},
   "source": [
    "Q10"
   ]
  },
  {
   "cell_type": "code",
   "execution_count": 6,
   "id": "75a5d8fa-52b0-4f4b-8260-c195a155b6fb",
   "metadata": {},
   "outputs": [],
   "source": [
    "n=50\n",
    "s_mu=6\n",
    "s_std=2.5\n",
    "s_val=.05\n",
    "df=n-1\n",
    "CI=1.677\n",
    "mg=2.010*(2.5/n**1/2)"
   ]
  },
  {
   "cell_type": "code",
   "execution_count": 7,
   "id": "8bb780de-2e91-46fb-ba8a-b6e2c2f5bf21",
   "metadata": {},
   "outputs": [],
   "source": [
    "pmu_range=[s_mu-mg,s_mu+mg]"
   ]
  },
  {
   "cell_type": "code",
   "execution_count": 8,
   "id": "a6ac5160-55d5-47b9-9f46-9cf30966fa00",
   "metadata": {},
   "outputs": [
    {
     "data": {
      "text/plain": [
       "[5.94975, 6.05025]"
      ]
     },
     "execution_count": 8,
     "metadata": {},
     "output_type": "execute_result"
    }
   ],
   "source": [
    "pmu_range"
   ]
  },
  {
   "cell_type": "code",
   "execution_count": 9,
   "id": "87127cc7-a401-4e9d-9a47-858d4d3a8a85",
   "metadata": {},
   "outputs": [
    {
     "name": "stdout",
     "output_type": "stream",
     "text": [
      "Sample mean lies within the poplution mean range, We accept the Hypothesis\n"
     ]
    }
   ],
   "source": [
    "print(\"Sample mean lies within the poplution mean range, We accept the Hypothesis\")"
   ]
  },
  {
   "cell_type": "raw",
   "id": "094ba347-aa88-4532-9e21-d718bfe3d1a9",
   "metadata": {},
   "source": [
    "Q11"
   ]
  },
  {
   "cell_type": "code",
   "execution_count": 14,
   "id": "8fb3423b-449d-4ebb-93f6-eaa8b45f0a04",
   "metadata": {},
   "outputs": [],
   "source": [
    "mu=.65\n",
    "n=500\n",
    "ci=.95\n",
    "alpha=1-ci\n",
    "Zal=1.96"
   ]
  },
  {
   "cell_type": "code",
   "execution_count": 15,
   "id": "147f3c55-a2d0-4bd0-a5bd-0153ae6bd628",
   "metadata": {},
   "outputs": [],
   "source": [
    "mg=mu*(mu*(1-mu)/n)**1/2"
   ]
  },
  {
   "cell_type": "code",
   "execution_count": 16,
   "id": "112d5049-7c33-4da6-8fb9-2225f2c1cf50",
   "metadata": {},
   "outputs": [
    {
     "data": {
      "text/plain": [
       "0.00014787499999999998"
      ]
     },
     "execution_count": 16,
     "metadata": {},
     "output_type": "execute_result"
    }
   ],
   "source": [
    "mg"
   ]
  },
  {
   "cell_type": "code",
   "execution_count": 18,
   "id": "2124c2e4-7627-4670-832c-be1fcff3bcf9",
   "metadata": {},
   "outputs": [
    {
     "data": {
      "text/plain": [
       "[0.650147875, 0.649852125]"
      ]
     },
     "execution_count": 18,
     "metadata": {},
     "output_type": "execute_result"
    }
   ],
   "source": [
    "mu_range"
   ]
  },
  {
   "cell_type": "code",
   "execution_count": 5,
   "id": "8f542862-fffb-4b84-8efe-ff4ede83195c",
   "metadata": {},
   "outputs": [],
   "source": [
    "# Assuming N1 and N2 =30 for both samples.\n",
    "#H0 is MUp1=Mup2\n",
    "n1=30\n",
    "S1_mu=85\n",
    "std1=6\n",
    "n2=30\n",
    "S2_mu=82\n",
    "std2=5\n",
    "s_v=.01\n",
    "df=n1+n2-2\n",
    "t=(S1_mu-S2_mu)/((S1_mu**2/n1)+(S2_mu**2/n2))**1/2"
   ]
  },
  {
   "cell_type": "code",
   "execution_count": 7,
   "id": "f9f1e5d2-117e-4108-9876-ba4c76cdb337",
   "metadata": {},
   "outputs": [
    {
     "data": {
      "text/plain": [
       "0.003226037708796329"
      ]
     },
     "execution_count": 7,
     "metadata": {},
     "output_type": "execute_result"
    }
   ],
   "source": [
    "CV=2.392\n",
    "t"
   ]
  },
  {
   "cell_type": "code",
   "execution_count": 6,
   "id": "6eb8fee4-8fc4-42d9-8bd6-7d9f63b875d7",
   "metadata": {},
   "outputs": [
    {
     "name": "stdout",
     "output_type": "stream",
     "text": [
      "Accept the Null Hypothesis\n"
     ]
    }
   ],
   "source": [
    "if (t>CV):\n",
    "    print(\"Reject the Null Hypothesis\")\n",
    "else:\n",
    "    print(\"Accept the Null Hypothesis\")"
   ]
  },
  {
   "cell_type": "code",
   "execution_count": 18,
   "id": "634bfe98-2de1-4be3-871d-e10dc52b9056",
   "metadata": {},
   "outputs": [],
   "source": [
    "#Q13\n",
    "mu_p=60\n",
    "std_p=8\n",
    "n=50\n",
    "mu_s=65\n",
    "Sig_v=.1\n"
   ]
  },
  {
   "cell_type": "code",
   "execution_count": 26,
   "id": "e4fc9066-605e-4d09-ac94-ae591d83b934",
   "metadata": {},
   "outputs": [],
   "source": [
    "zd=(mu_s-mu_p)/(std_p/math.sqrt(n))"
   ]
  },
  {
   "cell_type": "code",
   "execution_count": 28,
   "id": "657d6335-f848-455b-933b-b3c877d994b8",
   "metadata": {},
   "outputs": [
    {
     "data": {
      "text/plain": [
       "4.419417382415922"
      ]
     },
     "execution_count": 28,
     "metadata": {},
     "output_type": "execute_result"
    }
   ],
   "source": [
    "A=1-Sig_v\n",
    "zd"
   ]
  },
  {
   "cell_type": "code",
   "execution_count": 34,
   "id": "c69ccde2-8149-4c1e-ad90-27a652fd9109",
   "metadata": {},
   "outputs": [],
   "source": [
    "ct=1.29"
   ]
  },
  {
   "cell_type": "code",
   "execution_count": 35,
   "id": "1508a102-fca6-4c67-8fc8-0d08a104e227",
   "metadata": {},
   "outputs": [
    {
     "name": "stdout",
     "output_type": "stream",
     "text": [
      "Reject the Null Hypothesis\n"
     ]
    }
   ],
   "source": [
    "if (abs(zd)>ct):\n",
    "    print(\"Reject the Null Hypothesis\")\n",
    "else:\n",
    "    print(\"Accept the Null Hypothesis\")"
   ]
  },
  {
   "cell_type": "code",
   "execution_count": 36,
   "id": "a62ea010-3924-47ff-816d-7a3909aabfc2",
   "metadata": {},
   "outputs": [],
   "source": [
    "#Q14"
   ]
  },
  {
   "cell_type": "code",
   "execution_count": 38,
   "id": "9712f57d-9ab7-40e8-9426-a155baa12dc9",
   "metadata": {},
   "outputs": [],
   "source": [
    "n=30\n",
    "s_mu=.25\n",
    "s_std=.05\n",
    "s_val=.1\n",
    "df=n-1"
   ]
  },
  {
   "cell_type": "code",
   "execution_count": 40,
   "id": "17ea92e6-4633-497a-80d0-dcd2765457e6",
   "metadata": {},
   "outputs": [],
   "source": [
    "mg=1.311*s_std/n**(1/2)"
   ]
  },
  {
   "cell_type": "code",
   "execution_count": 41,
   "id": "aad5d1f0-911a-4c07-9a56-18e50f8abe02",
   "metadata": {},
   "outputs": [],
   "source": [
    "pmu_range=[s_mu+mg,s_mu-mg]"
   ]
  },
  {
   "cell_type": "code",
   "execution_count": 42,
   "id": "fd46517b-76e5-4777-9033-af4a4dd056e1",
   "metadata": {},
   "outputs": [
    {
     "data": {
      "text/plain": [
       "[0.26196773788148786, 0.2380322621185121]"
      ]
     },
     "execution_count": 42,
     "metadata": {},
     "output_type": "execute_result"
    }
   ],
   "source": [
    "pmu_range"
   ]
  },
  {
   "cell_type": "code",
   "execution_count": null,
   "id": "bbb2a287-a0b8-42ad-8983-6dca72eaaf76",
   "metadata": {},
   "outputs": [],
   "source": []
  }
 ],
 "metadata": {
  "kernelspec": {
   "display_name": "Python 3 (ipykernel)",
   "language": "python",
   "name": "python3"
  },
  "language_info": {
   "codemirror_mode": {
    "name": "ipython",
    "version": 3
   },
   "file_extension": ".py",
   "mimetype": "text/x-python",
   "name": "python",
   "nbconvert_exporter": "python",
   "pygments_lexer": "ipython3",
   "version": "3.10.8"
  }
 },
 "nbformat": 4,
 "nbformat_minor": 5
}
