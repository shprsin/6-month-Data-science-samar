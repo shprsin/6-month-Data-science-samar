{
 "cells": [
  {
   "cell_type": "code",
   "execution_count": 1,
   "id": "5882ba7d-314c-45ed-9d84-a6553425f192",
   "metadata": {},
   "outputs": [],
   "source": [
    "#1"
   ]
  },
  {
   "cell_type": "code",
   "execution_count": 2,
   "id": "b73e6102-5c5e-4d4a-a934-2e6075e42759",
   "metadata": {},
   "outputs": [],
   "source": [
    "# GridSearchCV (Grid Search Cross-Validation) is a technique used in machine learning to search and find \n",
    "#the optimal combination of hyperparameters for a given model. It systematically explores a predefined set \n",
    "#of hyperparameter values, creating a “grid” of possible combinations"
   ]
  },
  {
   "cell_type": "code",
   "execution_count": 3,
   "id": "b4998826-639a-453d-8d09-53d49dd0a1fe",
   "metadata": {},
   "outputs": [],
   "source": [
    "#2"
   ]
  },
  {
   "cell_type": "code",
   "execution_count": 4,
   "id": "0cafbfed-4526-4356-a0bd-47b4fd5b4abb",
   "metadata": {},
   "outputs": [],
   "source": [
    "# Grid search can search a large number of hyperparameters, but it can become computationally expensive as \n",
    "# the number of hyperparameters increases. Random search, on the other hand, can search a larger number of \n",
    "# hyperparameters without becoming too computationally expensive, as it samples hyperparameters randomly"
   ]
  },
  {
   "cell_type": "code",
   "execution_count": 6,
   "id": "2f5c3e59-7d58-4562-b75d-24baf4b9d589",
   "metadata": {},
   "outputs": [],
   "source": [
    "#3"
   ]
  },
  {
   "cell_type": "code",
   "execution_count": 11,
   "id": "749c18bd-9406-4bd6-a108-bc82cf06888a",
   "metadata": {},
   "outputs": [],
   "source": [
    "# Right from the start of the project, you must ensure that part of the data is set aside. If this is not \n",
    "# done properly, data not intended for training could leak out and be used to train the model. \n",
    "# This would then bias the results of the model when evaluated. \n",
    "#This is what is known as data leakage in Machine Learning.\n",
    "# To Solve this we may use Train Test Split\n",
    "# The example of leaking could be attempting to forecast whether a customer visiting a bank’s website \n",
    "# will open an account. If the user’s record includes an account number field, it may be blank for users who \n",
    "# are still browsing the site, but it will be filled in after the user creates an account. \n",
    "# Clearly, the user account field is not a viable feature to use in this situation, as \n",
    "# it may not be available while the user is still browsing the site"
   ]
  },
  {
   "cell_type": "code",
   "execution_count": 12,
   "id": "b47b4204-51ce-49b5-a7f0-fe1b2eaf4efa",
   "metadata": {},
   "outputs": [],
   "source": [
    "#4"
   ]
  },
  {
   "cell_type": "code",
   "execution_count": 13,
   "id": "88ba39ae-4769-4400-8ba2-51295362757c",
   "metadata": {},
   "outputs": [],
   "source": [
    "# We can minimize data leakage in machine learning in many different ways. We can start by partitioning your \n",
    "# data into training and test subsets before engaging in any preprocessing. Maintain the chronological sequence\n",
    "# in time series data and avoid using subsequent data for predictions related to earlier time points"
   ]
  },
  {
   "cell_type": "code",
   "execution_count": 14,
   "id": "2c828705-ab65-473b-9059-952908df3b28",
   "metadata": {},
   "outputs": [],
   "source": [
    "#5"
   ]
  },
  {
   "cell_type": "code",
   "execution_count": 15,
   "id": "1f039f98-d280-41d1-950e-7e8880d3ab67",
   "metadata": {},
   "outputs": [],
   "source": [
    "# A confusion matrix, also known as an error matrix, is a summarized table used to assess the performance of a \n",
    "# classification model. The number of correct and incorrect predictions are summarized with count values and \n",
    "# broken down by each class."
   ]
  },
  {
   "cell_type": "code",
   "execution_count": 16,
   "id": "72e4ced1-9ec5-4ee9-a3b1-4b94c0570728",
   "metadata": {},
   "outputs": [],
   "source": [
    "#6"
   ]
  },
  {
   "cell_type": "code",
   "execution_count": 17,
   "id": "0bf4eb14-d53a-40cb-bc0d-f5235543a070",
   "metadata": {},
   "outputs": [],
   "source": [
    "#Precision and recall are two evaluation metrics used to measure the performance of a classifier in binary \n",
    "# and multiclass classification problems. Precision measures the accuracy of positive predictions, \n",
    "# while recall measures the completeness of positive predictions"
   ]
  },
  {
   "cell_type": "code",
   "execution_count": 18,
   "id": "3bca4fa3-cff1-4844-be13-179c66963238",
   "metadata": {},
   "outputs": [],
   "source": [
    "#7"
   ]
  },
  {
   "cell_type": "code",
   "execution_count": 19,
   "id": "66849825-2e67-421c-bef9-35943c11d2b4",
   "metadata": {},
   "outputs": [],
   "source": [
    "# The confusion matrix shows the number of correct predictions: true positives (TP) and true negatives (TN). \n",
    "# It also shows the model errors: false positives (FP) are “false alarms,” and false negatives (FN) \n",
    "# are missed cases."
   ]
  },
  {
   "cell_type": "code",
   "execution_count": 20,
   "id": "e6790234-75eb-43c3-9ca4-4917f575050b",
   "metadata": {},
   "outputs": [],
   "source": [
    "#Example\n",
    "import numpy as np"
   ]
  },
  {
   "cell_type": "code",
   "execution_count": 24,
   "id": "f27660c6-1cea-4313-afcf-2ef20f665e57",
   "metadata": {},
   "outputs": [
    {
     "data": {
      "text/plain": [
       "matrix([[23, 43],\n",
       "        [ 5,  7]])"
      ]
     },
     "execution_count": 24,
     "metadata": {},
     "output_type": "execute_result"
    }
   ],
   "source": [
    "np.matrix([[23,43],[5,7]])"
   ]
  },
  {
   "cell_type": "code",
   "execution_count": 30,
   "id": "9b79871b-6e1a-4f0b-b6db-687b4967d92a",
   "metadata": {},
   "outputs": [],
   "source": [
    "TP=23\n",
    "TN=7\n",
    "FN=43\n",
    "FP=5"
   ]
  },
  {
   "cell_type": "code",
   "execution_count": 38,
   "id": "2bf22ddb-ef24-41a4-a1a3-14cc97adf8ad",
   "metadata": {},
   "outputs": [],
   "source": [
    "#8\n",
    "Beta=1"
   ]
  },
  {
   "cell_type": "code",
   "execution_count": 39,
   "id": "c8d2317c-9f31-47b9-bdde-016d555af91e",
   "metadata": {},
   "outputs": [],
   "source": [
    "Accuracy=(TP+TN)/(TP+TN+FP+FN)\n",
    "Precision= (TP)/TP+FP\n",
    "Recall=TP/TP+FN\n",
    "F_Beat_Score=(1+Beta**2)*(Precision*Recall)/(Precision+Recall)"
   ]
  },
  {
   "cell_type": "code",
   "execution_count": 40,
   "id": "d657ba33-a0ce-4e4d-8b42-782922f1c231",
   "metadata": {},
   "outputs": [],
   "source": [
    "#9"
   ]
  },
  {
   "cell_type": "code",
   "execution_count": 41,
   "id": "b03971e5-1d60-4d86-bcb4-c87ba2463f20",
   "metadata": {},
   "outputs": [],
   "source": [
    "# We can derive Accuracy from Confusion Metric\n",
    "# Accuracy=(TP+TN)/(TP+TN+FP+FN)"
   ]
  },
  {
   "cell_type": "code",
   "execution_count": 42,
   "id": "99b8d29c-4904-4298-b683-fbd09eb91260",
   "metadata": {},
   "outputs": [],
   "source": [
    "#10"
   ]
  },
  {
   "cell_type": "code",
   "execution_count": 44,
   "id": "8bce485d-16cc-4074-9931-4668b2135d2b",
   "metadata": {},
   "outputs": [],
   "source": [
    "# #he basic structure of a confusion matrix, the predictions are broken down into four categories: True Positive, True Negative, False Positive, and False Negative.\n",
    "\n",
    "# This detailed breakdown offers valuable insight and solutions to improve a model's performance:\n",
    "\n",
    "# Solving imbalanced data: using accuracy as a standalone metric has limitations when it comes to imbalanced data. \n",
    "# Using other metrics, such as precision and recall, allows a more balanced view and accurate representation.\n",
    "# For example, false positives and false negatives can lead to high consequences in sectors such as Finance.\n",
    "# Error type differentiator: Understanding the different types of errors produced by the machine learning model provides knowledge of its limitations and areas of improvement.\n",
    "# Trade-offs: The trade-off between using different metrics in a Confusion Matrix is essential as they impact one another. For example, an increase in precision typically leads to a decrease in recall. This will guide you in improving the performance of the model using knowledge from impacted metric values."
   ]
  },
  {
   "cell_type": "code",
   "execution_count": null,
   "id": "a846ac6f-197b-42f8-97ca-6df7792d0710",
   "metadata": {},
   "outputs": [],
   "source": []
  }
 ],
 "metadata": {
  "kernelspec": {
   "display_name": "Python 3 (ipykernel)",
   "language": "python",
   "name": "python3"
  },
  "language_info": {
   "codemirror_mode": {
    "name": "ipython",
    "version": 3
   },
   "file_extension": ".py",
   "mimetype": "text/x-python",
   "name": "python",
   "nbconvert_exporter": "python",
   "pygments_lexer": "ipython3",
   "version": "3.10.8"
  }
 },
 "nbformat": 4,
 "nbformat_minor": 5
}
