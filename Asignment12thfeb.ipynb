{
 "cells": [
  {
   "cell_type": "code",
   "execution_count": 1,
   "id": "9b487b1e-218e-4801-af4f-30792cc814a4",
   "metadata": {},
   "outputs": [],
   "source": [
    "#1 Syntax error is an error which occurs when there is error in writing the format of code which can be compiled. Whereas exception is a runtime error occur because of incomprehensible operation. "
   ]
  },
  {
   "cell_type": "code",
   "execution_count": 2,
   "id": "68a882c7-9b9d-4bac-b53c-e907250ca1f5",
   "metadata": {},
   "outputs": [],
   "source": [
    "#2"
   ]
  },
  {
   "cell_type": "code",
   "execution_count": 3,
   "id": "f6bf868f-12e4-4f4b-980a-695ec0c8b20d",
   "metadata": {},
   "outputs": [],
   "source": [
    "# It shows an error. "
   ]
  },
  {
   "cell_type": "code",
   "execution_count": 4,
   "id": "f3b0a01a-7c7f-4464-b85d-bfdd456f407a",
   "metadata": {},
   "outputs": [
    {
     "ename": "FileNotFoundError",
     "evalue": "[Errno 2] No such file or directory: 'f.txt'",
     "output_type": "error",
     "traceback": [
      "\u001b[0;31m---------------------------------------------------------------------------\u001b[0m",
      "\u001b[0;31mFileNotFoundError\u001b[0m                         Traceback (most recent call last)",
      "Cell \u001b[0;32mIn[4], line 1\u001b[0m\n\u001b[0;32m----> 1\u001b[0m f \u001b[38;5;241m=\u001b[39m\u001b[38;5;28;43mopen\u001b[39;49m\u001b[43m(\u001b[49m\u001b[38;5;124;43m\"\u001b[39;49m\u001b[38;5;124;43mf.txt\u001b[39;49m\u001b[38;5;124;43m\"\u001b[39;49m\u001b[43m,\u001b[49m\u001b[38;5;124;43m'\u001b[39;49m\u001b[38;5;124;43mr\u001b[39;49m\u001b[38;5;124;43m'\u001b[39;49m\u001b[43m)\u001b[49m\n",
      "File \u001b[0;32m/opt/conda/lib/python3.10/site-packages/IPython/core/interactiveshell.py:282\u001b[0m, in \u001b[0;36m_modified_open\u001b[0;34m(file, *args, **kwargs)\u001b[0m\n\u001b[1;32m    275\u001b[0m \u001b[38;5;28;01mif\u001b[39;00m file \u001b[38;5;129;01min\u001b[39;00m {\u001b[38;5;241m0\u001b[39m, \u001b[38;5;241m1\u001b[39m, \u001b[38;5;241m2\u001b[39m}:\n\u001b[1;32m    276\u001b[0m     \u001b[38;5;28;01mraise\u001b[39;00m \u001b[38;5;167;01mValueError\u001b[39;00m(\n\u001b[1;32m    277\u001b[0m         \u001b[38;5;124mf\u001b[39m\u001b[38;5;124m\"\u001b[39m\u001b[38;5;124mIPython won\u001b[39m\u001b[38;5;124m'\u001b[39m\u001b[38;5;124mt let you open fd=\u001b[39m\u001b[38;5;132;01m{\u001b[39;00mfile\u001b[38;5;132;01m}\u001b[39;00m\u001b[38;5;124m by default \u001b[39m\u001b[38;5;124m\"\u001b[39m\n\u001b[1;32m    278\u001b[0m         \u001b[38;5;124m\"\u001b[39m\u001b[38;5;124mas it is likely to crash IPython. If you know what you are doing, \u001b[39m\u001b[38;5;124m\"\u001b[39m\n\u001b[1;32m    279\u001b[0m         \u001b[38;5;124m\"\u001b[39m\u001b[38;5;124myou can use builtins\u001b[39m\u001b[38;5;124m'\u001b[39m\u001b[38;5;124m open.\u001b[39m\u001b[38;5;124m\"\u001b[39m\n\u001b[1;32m    280\u001b[0m     )\n\u001b[0;32m--> 282\u001b[0m \u001b[38;5;28;01mreturn\u001b[39;00m \u001b[43mio_open\u001b[49m\u001b[43m(\u001b[49m\u001b[43mfile\u001b[49m\u001b[43m,\u001b[49m\u001b[43m \u001b[49m\u001b[38;5;241;43m*\u001b[39;49m\u001b[43margs\u001b[49m\u001b[43m,\u001b[49m\u001b[43m \u001b[49m\u001b[38;5;241;43m*\u001b[39;49m\u001b[38;5;241;43m*\u001b[39;49m\u001b[43mkwargs\u001b[49m\u001b[43m)\u001b[49m\n",
      "\u001b[0;31mFileNotFoundError\u001b[0m: [Errno 2] No such file or directory: 'f.txt'"
     ]
    }
   ],
   "source": [
    "f =open(\"f.txt\",'r')"
   ]
  },
  {
   "cell_type": "code",
   "execution_count": 5,
   "id": "f8a3fa68-174c-4da2-b175-3a78d0e01acb",
   "metadata": {},
   "outputs": [
    {
     "name": "stdout",
     "output_type": "stream",
     "text": [
      "This is a wrong code [Errno 2] No such file or directory: 'f.txt'\n"
     ]
    }
   ],
   "source": [
    "#3\n",
    "try:\n",
    "    f =open(\"f.txt\",'r')\n",
    "except Exception as e:\n",
    "    print(\"This is a wrong code\", e)"
   ]
  },
  {
   "cell_type": "code",
   "execution_count": 6,
   "id": "aa39a6dd-04d2-4728-9c7f-c5a4e10f4d3d",
   "metadata": {},
   "outputs": [],
   "source": [
    "#4 & #5"
   ]
  },
  {
   "cell_type": "code",
   "execution_count": 7,
   "id": "9dc953be-e03c-4321-b9c5-a0b3b6ddbddc",
   "metadata": {},
   "outputs": [
    {
     "name": "stdout",
     "output_type": "stream",
     "text": [
      "this will execute\n"
     ]
    }
   ],
   "source": [
    "try:\n",
    "    f =open(\"test.txt\",'r')\n",
    "except Exception as e:\n",
    "    print(\"This is a wrong code\", e)\n",
    "else:\n",
    "    f.close()\n",
    "    print(\"this will execute\")"
   ]
  },
  {
   "cell_type": "code",
   "execution_count": 8,
   "id": "896ccb46-790f-4d0a-9f0f-878a8d41c7bd",
   "metadata": {},
   "outputs": [
    {
     "name": "stdout",
     "output_type": "stream",
     "text": [
      "This is a wrong code [Errno 2] No such file or directory: 'f.txt'\n",
      "This will always execute\n"
     ]
    }
   ],
   "source": [
    "try:\n",
    "    f =open(\"f.txt\",'r')\n",
    "except Exception as e:\n",
    "    print(\"This is a wrong code\", e)\n",
    "finally:\n",
    "    print(\"This will always execute\")"
   ]
  },
  {
   "cell_type": "code",
   "execution_count": 9,
   "id": "f524a863-91c3-48aa-b12d-024baed3476b",
   "metadata": {},
   "outputs": [],
   "source": [
    "class v_age(Exception):\n",
    "    def __init__(self,msg):\n",
    "        self.msg=msg"
   ]
  },
  {
   "cell_type": "code",
   "execution_count": 10,
   "id": "df13d1e0-3860-40ed-b456-70f9bc09bb4f",
   "metadata": {},
   "outputs": [],
   "source": [
    "def validate_a(age):\n",
    "    if age < 0:\n",
    "        raise v_age(\"Input is invalid\")\n",
    "    else:\n",
    "        print(\"age is valid\")"
   ]
  },
  {
   "cell_type": "code",
   "execution_count": 11,
   "id": "3d2bdb18-753c-49f3-abc0-9d56fccd820f",
   "metadata": {},
   "outputs": [
    {
     "name": "stdin",
     "output_type": "stream",
     "text": [
      "Enter your age -24\n"
     ]
    },
    {
     "name": "stdout",
     "output_type": "stream",
     "text": [
      "Input is invalid\n"
     ]
    }
   ],
   "source": [
    "try:\n",
    "    age= int(input(\"Enter your age\"))\n",
    "    validate_a(age)\n",
    "except v_age as e:\n",
    "    print(e)"
   ]
  },
  {
   "cell_type": "code",
   "execution_count": null,
   "id": "81392b57-24bd-42dd-a087-f3b16dac5a6a",
   "metadata": {},
   "outputs": [],
   "source": []
  }
 ],
 "metadata": {
  "kernelspec": {
   "display_name": "Python 3 (ipykernel)",
   "language": "python",
   "name": "python3"
  },
  "language_info": {
   "codemirror_mode": {
    "name": "ipython",
    "version": 3
   },
   "file_extension": ".py",
   "mimetype": "text/x-python",
   "name": "python",
   "nbconvert_exporter": "python",
   "pygments_lexer": "ipython3",
   "version": "3.10.8"
  }
 },
 "nbformat": 4,
 "nbformat_minor": 5
}
