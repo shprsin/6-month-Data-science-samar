{
 "cells": [
  {
   "cell_type": "code",
   "execution_count": 2,
   "id": "5cfcea31-0183-4c34-ab7a-a844ef7b26a5",
   "metadata": {},
   "outputs": [],
   "source": [
    "list1 = [1,2,3,4,\n",
    "         [44,55,66, True], \n",
    "         False, (34,56,78,89,34), \n",
    "         {1,2,3,3,2,1}, \n",
    "         {1:34, \"key2\": [55, 67, 78, 89], 4: (45,  22, 61, 34)}\n",
    "         , [56, 'data science'], 'Machine Learning'] "
   ]
  },
  {
   "cell_type": "code",
   "execution_count": 30,
   "id": "c1ea4178-304a-4c8b-9f23-4340cf36962f",
   "metadata": {},
   "outputs": [],
   "source": [
    "def func1(a):\n",
    "    l=[]\n",
    "    p=1\n",
    "    for i in a:\n",
    "        if type(i)==list or type(i)==tuple or type(i)==set:\n",
    "            for j in i:\n",
    "                if type(j)==int:\n",
    "                    l.append(j)\n",
    "        elif type(i)==dict:\n",
    "            for j in i.values():\n",
    "                if type(j)==list or type(j)==tuple or type(j)==set:\n",
    "                    for k in j:\n",
    "                        if type(k)== int:\n",
    "                            l.append(k)\n",
    "        elif type(i)==int:\n",
    "            l.append(i)\n",
    "    print(l)\n",
    "    for i in l:\n",
    "        p*=i\n",
    "        \n",
    "    return p\n",
    "        \n",
    "                "
   ]
  },
  {
   "cell_type": "code",
   "execution_count": 31,
   "id": "83d362c3-9cb2-4403-b26b-728fabbb8ec4",
   "metadata": {},
   "outputs": [
    {
     "name": "stdout",
     "output_type": "stream",
     "text": [
      "[1, 2, 3, 4, 44, 55, 66, 34, 56, 78, 89, 34, 1, 2, 3, 55, 67, 78, 89, 45, 22, 61, 34, 56]\n",
      "30402292933728569697307656192000\n"
     ]
    }
   ],
   "source": [
    "print(func1(list1))"
   ]
  },
  {
   "cell_type": "code",
   "execution_count": 32,
   "id": "5701fa8e-30fd-4eeb-b528-bb3d98add2ba",
   "metadata": {},
   "outputs": [],
   "source": [
    "a='A'"
   ]
  },
  {
   "cell_type": "code",
   "execution_count": 34,
   "id": "94ccca08-9cab-4102-9f5b-3eeb6ffe59f2",
   "metadata": {},
   "outputs": [
    {
     "data": {
      "text/plain": [
       "65"
      ]
     },
     "execution_count": 34,
     "metadata": {},
     "output_type": "execute_result"
    }
   ],
   "source": [
    "ord(a)\n"
   ]
  },
  {
   "cell_type": "code",
   "execution_count": 36,
   "id": "c77475b0-6f0a-4b4c-8a5b-9eccbedad604",
   "metadata": {},
   "outputs": [
    {
     "data": {
      "text/plain": [
       "97"
      ]
     },
     "execution_count": 36,
     "metadata": {},
     "output_type": "execute_result"
    }
   ],
   "source": [
    "ord('a')"
   ]
  },
  {
   "cell_type": "code",
   "execution_count": 38,
   "id": "fd8eeaa1-799b-4441-80b4-97a01585e0fd",
   "metadata": {},
   "outputs": [],
   "source": [
    "def func4(**kwargs):\n",
    "    return kwargs\n"
   ]
  },
  {
   "cell_type": "code",
   "execution_count": 63,
   "id": "5ec32337-7888-4123-964a-6a13a1436bb4",
   "metadata": {},
   "outputs": [],
   "source": [
    "d=func4(a='z',b='y',c='x',d='w',e='v',f='u',g='t',h='s',i='r',j='q',k='p',l='o',m='n',n='m',o='l',p='k',q='j',r='i',s='h',t='g',u='f',v='e',w='d',x='c',y='b',z='a')\n",
    "     "
   ]
  },
  {
   "cell_type": "code",
   "execution_count": 64,
   "id": "2963fdb3-1813-4522-b0bd-058851bf513e",
   "metadata": {},
   "outputs": [],
   "source": [
    "d[' ']='$'"
   ]
  },
  {
   "cell_type": "code",
   "execution_count": 66,
   "id": "8a3fca1e-05e4-4a5b-af07-587c568a42f9",
   "metadata": {},
   "outputs": [],
   "source": [
    "def encryp(s):\n",
    "    a=s.lower()\n",
    "    e=''\n",
    "    for i in a:\n",
    "        e+=d[i]\n",
    "    return e"
   ]
  },
  {
   "cell_type": "code",
   "execution_count": 67,
   "id": "366b9e69-830b-4873-b0ee-fac8f3f1fd39",
   "metadata": {},
   "outputs": [],
   "source": [
    " x='I want to become a Data Scientist'"
   ]
  },
  {
   "cell_type": "code",
   "execution_count": 68,
   "id": "69695e9a-d3d4-4fdc-be22-67e6063b4bfe",
   "metadata": {},
   "outputs": [
    {
     "data": {
      "text/plain": [
       "'r$dzmg$gl$yvxlnv$z$wzgz$hxrvmgrhg'"
      ]
     },
     "execution_count": 68,
     "metadata": {},
     "output_type": "execute_result"
    }
   ],
   "source": [
    "encryp(x)"
   ]
  },
  {
   "cell_type": "code",
   "execution_count": null,
   "id": "cf9b2f36-37b8-4d66-896b-d6957290c1e5",
   "metadata": {},
   "outputs": [],
   "source": []
  }
 ],
 "metadata": {
  "kernelspec": {
   "display_name": "Python 3 (ipykernel)",
   "language": "python",
   "name": "python3"
  },
  "language_info": {
   "codemirror_mode": {
    "name": "ipython",
    "version": 3
   },
   "file_extension": ".py",
   "mimetype": "text/x-python",
   "name": "python",
   "nbconvert_exporter": "python",
   "pygments_lexer": "ipython3",
   "version": "3.10.8"
  }
 },
 "nbformat": 4,
 "nbformat_minor": 5
}
