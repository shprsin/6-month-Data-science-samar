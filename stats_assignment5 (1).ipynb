{
 "cells": [
  {
   "cell_type": "markdown",
   "id": "8aad9464-07ae-47a3-8311-1c9f5e4b9151",
   "metadata": {},
   "source": [
    "Q1"
   ]
  },
  {
   "cell_type": "markdown",
   "id": "92043ff0-4b4b-4800-8cdd-7bc8490ad799",
   "metadata": {},
   "source": [
    "Estimation is the process by which the numerical value of unknown population values are inferred from incomplete data, such as a sample"
   ]
  },
  {
   "cell_type": "markdown",
   "id": "b2428e77-d59f-4435-960c-892dd2cd1dcc",
   "metadata": {},
   "source": [
    "1. If a single figure is calculated for each unknown parameter, the process is called point estimation.\n",
    " \n",
    "2. interval estimation, in statistics, the evaluation of a parameter—for example, the mean (average)—of a population by computing an interval, or range of values, within which the parameter is most likely to be located."
   ]
  },
  {
   "cell_type": "markdown",
   "id": "d3995175-f3dc-4951-ac1b-8cbcbcf67706",
   "metadata": {},
   "source": [
    "Q2\n"
   ]
  },
  {
   "cell_type": "code",
   "execution_count": 1,
   "id": "e12402e0-1af5-434d-a1a6-ff9f79c80f3e",
   "metadata": {},
   "outputs": [],
   "source": [
    "x=[23,25,18,34,32,31,30,26,21,24]"
   ]
  },
  {
   "cell_type": "code",
   "execution_count": 34,
   "id": "6965dc43-48c6-4ac7-bef8-2fbde71dd477",
   "metadata": {},
   "outputs": [],
   "source": [
    "from scipy import stats\n",
    "import statistics as st\n",
    "import numpy as np"
   ]
  },
  {
   "cell_type": "code",
   "execution_count": 14,
   "id": "6529e57e-8930-43e6-999b-3fbd7aeb9ee9",
   "metadata": {},
   "outputs": [],
   "source": [
    "s=sum(x)/(len(x)-1) #mean sample"
   ]
  },
  {
   "cell_type": "code",
   "execution_count": 24,
   "id": "48fcdc01-a858-446e-8717-5ff2a365b243",
   "metadata": {},
   "outputs": [],
   "source": [
    "sv=st.stdev(x) #standard deviation sample\n",
    "mu=sum(x)/len(x)#Mean population\n",
    "pv=st.pstdev(x)#standard deviation Population"
   ]
  },
  {
   "cell_type": "code",
   "execution_count": 21,
   "id": "fb36c2b4-e4c3-4482-89c1-a13db8e5b04d",
   "metadata": {},
   "outputs": [],
   "source": [
    "samplingerror=abs(mu-s)"
   ]
  },
  {
   "cell_type": "code",
   "execution_count": 25,
   "id": "90fc7c68-19a2-43e2-9e5b-5625bd3ee64f",
   "metadata": {},
   "outputs": [
    {
     "data": {
      "text/plain": [
       "(29.333333333333332,\n",
       " 5.18973345494095,\n",
       " 26.4,\n",
       " 4.923413450036469,\n",
       " 2.9333333333333336)"
      ]
     },
     "execution_count": 25,
     "metadata": {},
     "output_type": "execute_result"
    }
   ],
   "source": [
    "s,sv,mu,pv,samplingerror"
   ]
  },
  {
   "cell_type": "markdown",
   "id": "20fbf904-8892-48e3-95c7-e9c36ce74b86",
   "metadata": {},
   "source": [
    "Q3\n",
    "Hypothesis testing is a statistical procedure for testing whether chance is a plausible explanation of an experimental finding"
   ]
  },
  {
   "cell_type": "markdown",
   "id": "34a54bb5-ba71-4125-b1d4-0eda13cd3510",
   "metadata": {},
   "source": [
    "Hypothesis testing is used to assess the plausibility of a hypothesis by using sample data."
   ]
  },
  {
   "cell_type": "markdown",
   "id": "9699f4c5-da06-482b-a6b9-60c25c886c65",
   "metadata": {},
   "source": [
    "It is important because ahypothesis helps in identifying the areas that should be focused on for solving the research problem. It helps frame the concepts of study in a meaningful and effective manner. It also helps the researcher arrive at a conclusion for the study based on organized empirical data examination."
   ]
  },
  {
   "cell_type": "markdown",
   "id": "1987757a-4afa-46f4-809c-203ca03bbb54",
   "metadata": {},
   "source": [
    "Q4"
   ]
  },
  {
   "cell_type": "markdown",
   "id": "e818044a-3f70-4d59-a90e-9b5a45f29817",
   "metadata": {},
   "source": [
    "a hypothesis that states whether the average weight of male college students is greater than\n",
    "the average weight of female college students\n",
    "1. Null Hypothesis:- Average weight of male college students >= average weight of female college students\n",
    "2. Alternate Hypothesis: Average weight of male college students < average weight of female college students"
   ]
  },
  {
   "cell_type": "markdown",
   "id": "c4c9bd5d-4912-4d98-ae39-0018730a894f",
   "metadata": {},
   "source": [
    "Q5"
   ]
  },
  {
   "cell_type": "code",
   "execution_count": 32,
   "id": "a2756b95-dfd6-4d55-acae-e5b7ee655699",
   "metadata": {},
   "outputs": [],
   "source": [
    "# Creating data groups\n",
    "data_group1 = np.array([14, 15, 15, 16, 13, 8, 14, \n",
    "                        17, 16, 14, 19, 20, 21, 15,\n",
    "                        15, 16, 16, 13, 14, 12])\n",
    " \n",
    "data_group2 = np.array([15, 17, 14, 17, 14, 8, 12, \n",
    "                        19, 19, 14, 17, 22, 24, 16, \n",
    "                        13, 16, 13, 18, 15, 13])\n",
    "\n",
    "#Hypothesis \n",
    "# Null : Mu1=Mu2\n",
    "#Alternate: Mu1 != Mu2\n",
    "# Perform the two sample t-test with equal variances\n",
    "a=stats.ttest_ind(a=data_group1, b=data_group2, equal_var=True)"
   ]
  },
  {
   "cell_type": "code",
   "execution_count": 34,
   "id": "c469794c-605e-4a98-a9ee-24f778b6e98b",
   "metadata": {},
   "outputs": [],
   "source": [
    "significance_value=.05"
   ]
  },
  {
   "cell_type": "code",
   "execution_count": 36,
   "id": "6042f74c-4d96-4148-a059-7a6e93af42bc",
   "metadata": {},
   "outputs": [
    {
     "name": "stdout",
     "output_type": "stream",
     "text": [
      "Reject the Null Hypothesis\n"
     ]
    }
   ],
   "source": [
    "if (a.pvalue>signifcance_value):\n",
    "    print(\"Reject the Null Hypothesis\")\n",
    "else:\n",
    "    print(\"Accept the Null Hypothesis\")"
   ]
  },
  {
   "cell_type": "markdown",
   "id": "a955ab89-d42b-451b-a04f-1261cebc1078",
   "metadata": {},
   "source": [
    "Q6"
   ]
  },
  {
   "cell_type": "markdown",
   "id": "962c4e26-b6b2-4f06-918c-6f552367a890",
   "metadata": {},
   "source": [
    "The null and alternative hypotheses are two competing claims that researchers weigh evidence for and against using a statistical test: Null hypothesis (H0): There's no effect in the population. Alternative hypothesis (Ha or H1): There's an effect in the population"
   ]
  },
  {
   "cell_type": "raw",
   "id": "10837089-901b-4938-9001-c75fdb6bda4e",
   "metadata": {},
   "source": [
    "1. Research Question: Are artists more likely to be left-handed than people found in the general population?\n",
    "Response Variable: Classification of the student as either right-handed or left-handed\n",
    "State Null and Alternative Hypotheses\n",
    "Null Hypothesis: Students in the College of Arts and Architecture are no more likely to be left-handed than people in the general population (population percent of left-handed students in the College of Art and Architecture = 10% or p = .10).\n",
    "Alternative Hypothesis: Students in the College of Arts and Architecture are more likely to be left-handed than people in the general population (population percent of left-handed students in the College of Arts and Architecture > 10% or p > .10). This is a one-sided alternative hypothesis.\n",
    "\n",
    "2. Research Question: Does the data suggest that the population mean dosage of this brand is different than 50 mg?\n",
    "Response Variable: dosage of the active ingredient found by a chemical assay.\n",
    "State Null and Alternative Hypotheses\n",
    "Null Hypothesis: On the average, the dosage sold under this brand is 50 mg (population mean dosage = 50 mg).\n",
    "Alternative Hypothesis: On the average, the dosage sold under this brand is not 50 mg (population mean dosage ≠ 50 mg). This is a two-sided alternative hypothesis.\n",
    "\n",
    "3.Research Question: A financial analyst believes there might be a positive association between the change in a stock's price and the amount of the stock purchased by non-management employees the previous day (stock trading by management being under \"insider-trading\" regulatory restrictions).\n",
    "Variables: Daily price change information (the response variable) and previous day stock purchases by non-management employees (explanatory variable). These are two different measurement variables.\n",
    "State Null and Alternative Hypotheses\n",
    "Null Hypothesis: The correlation between the daily stock price change ($) and the daily stock purchases by non-management employees ($) = 0.\n",
    "Alternative Hypothesis: The correlation between the daily stock price change ($) and the daily stock purchases by non-management employees ($) > 0. This is a one-sided alternative hypothesis.\n",
    "\n",
    "4.Research Question: Does the data suggest that, on the average, people are able to lose more weight on a low carbohydrate diet than on a low fat diet?\n",
    "Response Variable: Weight loss (pounds)\n",
    "Explanatory (Grouping) Variable: Type of diet\n",
    "State Null and Alternative Hypotheses\n",
    "Null Hypothesis: There is no difference in the mean amount of weight loss when comparing a low carbohydrate diet with a low fat diet (population mean weight loss on a low carbohydrate diet = population mean weight loss on a low fat diet).\n",
    "Alternative Hypothesis: The mean weight loss should be greater for those on a low carbohydrate diet when compared with those on a low fat diet (population mean weight loss on a low carbohydrate diet > population mean weight loss on a low fat diet). This is a one-sided alternative hypothesis."
   ]
  },
  {
   "cell_type": "markdown",
   "id": "15ac8155-a2ef-48eb-9b5d-6981c016f6aa",
   "metadata": {},
   "source": [
    "Q7 The steps are\n",
    "\n",
    "1. Write the Null Hypothesis\n",
    "2. Write the Alternate Hypothesis\n",
    "3. Conduct Experiment\n",
    "4. Accept or Reject the Null Hypothesis."
   ]
  },
  {
   "cell_type": "markdown",
   "id": "b664c9f2-9361-4dc2-aa0d-7426c2f6a696",
   "metadata": {},
   "source": [
    "Q8"
   ]
  },
  {
   "cell_type": "markdown",
   "id": "5e11a4ec-f720-46d4-9dd8-8a9d8354eb9b",
   "metadata": {},
   "source": [
    "The P value is defined as the probability under the assumption of no effect or no difference (null hypothesis), of obtaining a result equal to or more extreme than what was actually observed. The P stands for probability and measures how likely it is that any observed difference between groups is due to chance.\n"
   ]
  },
  {
   "cell_type": "markdown",
   "id": "92728ac0-eac2-4972-b31e-4c61345d93a3",
   "metadata": {},
   "source": [
    "It is important because P values are used in hypothesis testing to help decide whether to reject the null hypothesis."
   ]
  },
  {
   "cell_type": "markdown",
   "id": "d119317e-a6d1-464d-89d9-7841c1739aee",
   "metadata": {},
   "source": [
    "Q9"
   ]
  },
  {
   "cell_type": "code",
   "execution_count": 49,
   "id": "3276201f-b10a-49e4-8057-6f0e6a23e916",
   "metadata": {},
   "outputs": [],
   "source": [
    "import matplotlib.pyplot as plt"
   ]
  },
  {
   "cell_type": "code",
   "execution_count": 79,
   "id": "8907443c-2298-433c-b9c8-1b452d6cd707",
   "metadata": {},
   "outputs": [],
   "source": [
    "X=np.linspace(-4,4,15)"
   ]
  },
  {
   "cell_type": "code",
   "execution_count": 66,
   "id": "bdf32246-b6b1-4f7b-a0a7-f512a726892a",
   "metadata": {},
   "outputs": [
    {
     "data": {
      "text/plain": [
       "array([-4.        , -3.95979899, -3.91959799, -3.87939698, -3.83919598,\n",
       "       -3.79899497, -3.75879397, -3.71859296, -3.67839196, -3.63819095,\n",
       "       -3.59798995, -3.55778894, -3.51758794, -3.47738693, -3.43718593,\n",
       "       -3.39698492, -3.35678392, -3.31658291, -3.27638191, -3.2361809 ,\n",
       "       -3.1959799 , -3.15577889, -3.11557789, -3.07537688, -3.03517588,\n",
       "       -2.99497487, -2.95477387, -2.91457286, -2.87437186, -2.83417085,\n",
       "       -2.79396985, -2.75376884, -2.71356784, -2.67336683, -2.63316583,\n",
       "       -2.59296482, -2.55276382, -2.51256281, -2.47236181, -2.4321608 ,\n",
       "       -2.3919598 , -2.35175879, -2.31155779, -2.27135678, -2.23115578,\n",
       "       -2.19095477, -2.15075377, -2.11055276, -2.07035176, -2.03015075,\n",
       "       -1.98994975, -1.94974874, -1.90954774, -1.86934673, -1.82914573,\n",
       "       -1.78894472, -1.74874372, -1.70854271, -1.66834171, -1.6281407 ,\n",
       "       -1.5879397 , -1.54773869, -1.50753769, -1.46733668, -1.42713568,\n",
       "       -1.38693467, -1.34673367, -1.30653266, -1.26633166, -1.22613065,\n",
       "       -1.18592965, -1.14572864, -1.10552764, -1.06532663, -1.02512563,\n",
       "       -0.98492462, -0.94472362, -0.90452261, -0.86432161, -0.8241206 ,\n",
       "       -0.7839196 , -0.74371859, -0.70351759, -0.66331658, -0.62311558,\n",
       "       -0.58291457, -0.54271357, -0.50251256, -0.46231156, -0.42211055,\n",
       "       -0.38190955, -0.34170854, -0.30150754, -0.26130653, -0.22110553,\n",
       "       -0.18090452, -0.14070352, -0.10050251, -0.06030151, -0.0201005 ,\n",
       "        0.0201005 ,  0.06030151,  0.10050251,  0.14070352,  0.18090452,\n",
       "        0.22110553,  0.26130653,  0.30150754,  0.34170854,  0.38190955,\n",
       "        0.42211055,  0.46231156,  0.50251256,  0.54271357,  0.58291457,\n",
       "        0.62311558,  0.66331658,  0.70351759,  0.74371859,  0.7839196 ,\n",
       "        0.8241206 ,  0.86432161,  0.90452261,  0.94472362,  0.98492462,\n",
       "        1.02512563,  1.06532663,  1.10552764,  1.14572864,  1.18592965,\n",
       "        1.22613065,  1.26633166,  1.30653266,  1.34673367,  1.38693467,\n",
       "        1.42713568,  1.46733668,  1.50753769,  1.54773869,  1.5879397 ,\n",
       "        1.6281407 ,  1.66834171,  1.70854271,  1.74874372,  1.78894472,\n",
       "        1.82914573,  1.86934673,  1.90954774,  1.94974874,  1.98994975,\n",
       "        2.03015075,  2.07035176,  2.11055276,  2.15075377,  2.19095477,\n",
       "        2.23115578,  2.27135678,  2.31155779,  2.35175879,  2.3919598 ,\n",
       "        2.4321608 ,  2.47236181,  2.51256281,  2.55276382,  2.59296482,\n",
       "        2.63316583,  2.67336683,  2.71356784,  2.75376884,  2.79396985,\n",
       "        2.83417085,  2.87437186,  2.91457286,  2.95477387,  2.99497487,\n",
       "        3.03517588,  3.07537688,  3.11557789,  3.15577889,  3.1959799 ,\n",
       "        3.2361809 ,  3.27638191,  3.31658291,  3.35678392,  3.39698492,\n",
       "        3.43718593,  3.47738693,  3.51758794,  3.55778894,  3.59798995,\n",
       "        3.63819095,  3.67839196,  3.71859296,  3.75879397,  3.79899497,\n",
       "        3.83919598,  3.87939698,  3.91959799,  3.95979899,  4.        ])"
      ]
     },
     "execution_count": 66,
     "metadata": {},
     "output_type": "execute_result"
    }
   ],
   "source": [
    "X"
   ]
  },
  {
   "cell_type": "code",
   "execution_count": 80,
   "id": "5da277f5-f8d4-4b6a-a903-239adb3c6ec6",
   "metadata": {},
   "outputs": [],
   "source": [
    "Y=stats.t.pdf(X,df=10)"
   ]
  },
  {
   "cell_type": "code",
   "execution_count": 81,
   "id": "1a89e379-16d2-46ad-90b4-244951d6d201",
   "metadata": {},
   "outputs": [
    {
     "data": {
      "text/plain": [
       "[<matplotlib.lines.Line2D at 0x7f72916ae800>]"
      ]
     },
     "execution_count": 81,
     "metadata": {},
     "output_type": "execute_result"
    },
    {
     "data": {
      "image/png": "[encoded data removed]",
      "text/plain": [
       "<Figure size 640x480 with 1 Axes>"
      ]
     },
     "metadata": {},
     "output_type": "display_data"
    }
   ],
   "source": [
    "plt.plot(X,Y)"
   ]
  },
  {
   "cell_type": "markdown",
   "id": "3de8e03b-e7b7-470f-a5db-da5eca102706",
   "metadata": {},
   "source": [
    "Q10"
   ]
  },
  {
   "cell_type": "code",
   "execution_count": 82,
   "id": "e623860e-3e2e-4d74-a3d1-c76b0a50af65",
   "metadata": {},
   "outputs": [],
   "source": [
    "# Creating data groups\n",
    "data_group1 = np.array([14, 15, 15, 16, 13, 8, 14, \n",
    "                        17, 16, 14, 19, 20, 21, 15,\n",
    "                        15, 16, 16, 13, 14, 12])\n",
    " \n",
    "data_group2 = np.array([15, 17, 14, 17, 14, 8, 12, \n",
    "                        19, 19, 14, 17, 22, 24, 16, \n",
    "                        13, 16, 13, 18, 15, 13])\n",
    "\n",
    "#Hypothesis \n",
    "# Null : Mu1=Mu2\n",
    "#Alternate: Mu1 != Mu2\n",
    "# Perform the two sample t-test with equal variances\n",
    "a=stats.ttest_ind(a=data_group1, b=data_group2, equal_var=True)"
   ]
  },
  {
   "cell_type": "code",
   "execution_count": 83,
   "id": "b6ad03cc-0425-456c-b6b9-4d7d8db3a1c5",
   "metadata": {},
   "outputs": [],
   "source": [
    "significance_value=.05"
   ]
  },
  {
   "cell_type": "code",
   "execution_count": 84,
   "id": "6bbeaf6c-0d52-4473-80ad-33e80851e34e",
   "metadata": {},
   "outputs": [
    {
     "name": "stdout",
     "output_type": "stream",
     "text": [
      "Reject the Null Hypothesis\n"
     ]
    }
   ],
   "source": [
    "if (a.pvalue>signifcance_value):\n",
    "    print(\"Reject the Null Hypothesis\")\n",
    "else:\n",
    "    print(\"Accept the Null Hypothesis\")"
   ]
  },
  {
   "cell_type": "code",
   "execution_count": 85,
   "id": "0244b0cd-c461-4f9c-b952-4d2c5b58fe3f",
   "metadata": {},
   "outputs": [
    {
     "data": {
      "text/plain": [
       "(20, 20)"
      ]
     },
     "execution_count": 85,
     "metadata": {},
     "output_type": "execute_result"
    }
   ],
   "source": [
    "len(data_group1),len(data_group2)"
   ]
  },
  {
   "cell_type": "markdown",
   "id": "da45dfe6-598c-48f2-b104-9b271b2ab48e",
   "metadata": {},
   "source": [
    "Q11"
   ]
  },
  {
   "cell_type": "markdown",
   "id": "7f4379c4-4bc6-4691-998e-5fe51cb5c710",
   "metadata": {},
   "source": [
    "The t-distribution, also known as the Student's t-distribution, is a type of probability distribution that is similar to the normal distribution with its bell shape but has heavier tails. It is used for estimating population parameters for small sample sizes(<30) or unknown variances."
   ]
  },
  {
   "cell_type": "markdown",
   "id": "4ef92b79-0e57-4cd5-ac5d-c2c94920638a",
   "metadata": {},
   "source": [
    "Q12"
   ]
  },
  {
   "cell_type": "markdown",
   "id": "f32e3f1b-9dcb-4873-a45c-3dbbdb42e0fd",
   "metadata": {},
   "source": [
    "The t-statistic is the ratio of the departure of the estimated value of a parameter from its hypothesized value to its standard error. It is used in hypothesis testing via Student's t-test. The t-statistic is used in a t-test to determine whether to support or reject the null hypothesis."
   ]
  },
  {
   "cell_type": "raw",
   "id": "7765eb1a-cb9f-4b79-a67a-77d670d73a77",
   "metadata": {},
   "source": [
    " t = (X‾ - μ0) / (s / √n), where X‾ is the sample mean, μ0 represents the population mean, s is the standard deviation of the sample and n stands for the size of the sample"
   ]
  },
  {
   "cell_type": "markdown",
   "id": "80415e68-cb54-45f4-b9cf-20aa76778f33",
   "metadata": {},
   "source": [
    "Q13"
   ]
  },
  {
   "cell_type": "code",
   "execution_count": 22,
   "id": "a5c5a0c6-cfa4-488a-a053-5b3def4023d4",
   "metadata": {},
   "outputs": [],
   "source": [
    "n=50\n",
    "S_mu=500\n",
    "std=50\n",
    "s_v=.05\n",
    "df=n-1\n",
    "pmu_range=[S_mu + (1.96*std)/n**(1/2),S_mu -(1.96*std)/n**(1/2)]"
   ]
  },
  {
   "cell_type": "code",
   "execution_count": 23,
   "id": "c6759e84-42d5-4326-9907-00b7e199679d",
   "metadata": {},
   "outputs": [
    {
     "data": {
      "text/plain": [
       "[513.8592929112564, 486.1407070887437]"
      ]
     },
     "execution_count": 23,
     "metadata": {},
     "output_type": "execute_result"
    }
   ],
   "source": [
    "pmu_range"
   ]
  },
  {
   "cell_type": "markdown",
   "id": "f43e1ed6-bacf-43cb-9094-79e1fc6d75de",
   "metadata": {},
   "source": [
    "Q14"
   ]
  },
  {
   "cell_type": "code",
   "execution_count": 2,
   "id": "e6d652c0-bcc9-40a6-9eea-832c420e76da",
   "metadata": {},
   "outputs": [],
   "source": [
    "n=10\n",
    "p_mu=10\n",
    "s_mu=8\n",
    "s_std=3\n",
    "s_val=.05"
   ]
  },
  {
   "cell_type": "code",
   "execution_count": 13,
   "id": "c000a033-fef3-43dc-bf97-3d43a88e0acb",
   "metadata": {},
   "outputs": [],
   "source": [
    "t=(8-10)/(s_std/n**1/2)"
   ]
  },
  {
   "cell_type": "code",
   "execution_count": 14,
   "id": "d4309465-c8ba-46f7-8b5a-eeba989e4a05",
   "metadata": {},
   "outputs": [
    {
     "data": {
      "text/plain": [
       "-13.333333333333334"
      ]
     },
     "execution_count": 14,
     "metadata": {},
     "output_type": "execute_result"
    }
   ],
   "source": [
    "t"
   ]
  },
  {
   "cell_type": "code",
   "execution_count": 8,
   "id": "dcf809af-a66e-4c5e-97e5-ef8c24bb2609",
   "metadata": {},
   "outputs": [],
   "source": [
    "df=n-1"
   ]
  },
  {
   "cell_type": "code",
   "execution_count": 16,
   "id": "556d9865-f0f3-463f-8927-73ce15c8ada0",
   "metadata": {},
   "outputs": [],
   "source": [
    "ct=1.833"
   ]
  },
  {
   "cell_type": "code",
   "execution_count": 17,
   "id": "7aaf4d5d-6ea0-4199-b1b4-3decccaf9734",
   "metadata": {},
   "outputs": [
    {
     "name": "stdout",
     "output_type": "stream",
     "text": [
      "Reject the Null Hypothesis\n"
     ]
    }
   ],
   "source": [
    "if (t<ct):\n",
    "    print(\"Reject the Null Hypothesis\")\n",
    "else:\n",
    "    print(\"Accept the Null Hypothesis\")"
   ]
  },
  {
   "cell_type": "markdown",
   "id": "6e341bc2-b815-44be-b72f-4b15d6cd10d8",
   "metadata": {},
   "source": [
    "Q15"
   ]
  },
  {
   "cell_type": "code",
   "execution_count": 18,
   "id": "4b124bf2-cdf4-4bce-87c0-1f4185b2a24b",
   "metadata": {},
   "outputs": [],
   "source": [
    "n=25\n",
    "p_mu=5\n",
    "s_mu=4.8\n",
    "p_std=.5\n",
    "s_val=.01"
   ]
  },
  {
   "cell_type": "code",
   "execution_count": 22,
   "id": "73f9d9c6-9e6f-48fc-b74d-12051809eb32",
   "metadata": {},
   "outputs": [],
   "source": [
    "zd=(4.8-5)/(p_std/n**1/2)"
   ]
  },
  {
   "cell_type": "code",
   "execution_count": 23,
   "id": "1e3835f7-bd3c-46d1-826e-1471da6b0d0e",
   "metadata": {},
   "outputs": [
    {
     "data": {
      "text/plain": [
       "-20.000000000000018"
      ]
     },
     "execution_count": 23,
     "metadata": {},
     "output_type": "execute_result"
    }
   ],
   "source": [
    "zd"
   ]
  },
  {
   "cell_type": "code",
   "execution_count": 26,
   "id": "0353ed5a-eba3-4ac9-9441-801c3f3d59fc",
   "metadata": {},
   "outputs": [],
   "source": [
    "A=1-s_val"
   ]
  },
  {
   "cell_type": "code",
   "execution_count": 27,
   "id": "b4a74fcb-96e1-4b68-a5e3-62c070d64290",
   "metadata": {},
   "outputs": [
    {
     "data": {
      "text/plain": [
       "0.99"
      ]
     },
     "execution_count": 27,
     "metadata": {},
     "output_type": "execute_result"
    }
   ],
   "source": [
    "A"
   ]
  },
  {
   "cell_type": "code",
   "execution_count": 29,
   "id": "3b823151-1379-4fa3-af33-44b7a5f56e6e",
   "metadata": {},
   "outputs": [],
   "source": [
    "C=2.3"
   ]
  },
  {
   "cell_type": "code",
   "execution_count": 31,
   "id": "8e7aaf7d-6f83-4436-a3b9-4e7f303db2a0",
   "metadata": {},
   "outputs": [
    {
     "name": "stdout",
     "output_type": "stream",
     "text": [
      "Accept the Null Hypothesis\n"
     ]
    }
   ],
   "source": [
    "if (zd>ct):\n",
    "    print(\"Reject the Null Hypothesis\")\n",
    "else:\n",
    "    print(\"Accept the Null Hypothesis\")"
   ]
  },
  {
   "cell_type": "markdown",
   "id": "e7b53f84-d702-496f-b883-5e50c9ccd170",
   "metadata": {},
   "source": [
    "Q16"
   ]
  },
  {
   "cell_type": "code",
   "execution_count": 4,
   "id": "1ceeec54-3722-4653-89d5-9268d6dc4ee1",
   "metadata": {},
   "outputs": [],
   "source": [
    "n1=30\n",
    "S1_mu=80\n",
    "std1=10\n",
    "n2=40\n",
    "S2_mu=75\n",
    "std2=8\n",
    "s_v=.01\n",
    "df=n1+n2-2\n"
   ]
  },
  {
   "cell_type": "code",
   "execution_count": 5,
   "id": "b54613d5-db0c-4493-bc96-968887b23a87",
   "metadata": {},
   "outputs": [],
   "source": [
    "t=(80-75)/((S1_mu**2/n1)+(S2_mu**2/n2))**1/2"
   ]
  },
  {
   "cell_type": "code",
   "execution_count": 29,
   "id": "89461b4c-62c2-460c-9969-5b79dc2fc32a",
   "metadata": {},
   "outputs": [],
   "source": [
    "CV=2.382"
   ]
  },
  {
   "cell_type": "code",
   "execution_count": 30,
   "id": "1c1efef3-d44d-46c2-bc17-a2f5efcb5c86",
   "metadata": {},
   "outputs": [
    {
     "data": {
      "text/plain": [
       "[78.42537916149439, 71.57462083850561]"
      ]
     },
     "execution_count": 30,
     "metadata": {},
     "output_type": "execute_result"
    }
   ],
   "source": [
    "if (t>cv):\n",
    "    print(\"Reject the Null Hypothesis\")\n",
    "else:\n",
    "    print(\"Accept the Null Hypothesis\")"
   ]
  },
  {
   "cell_type": "markdown",
   "id": "be9974cc-ac66-4cdc-aa69-a13a51c29484",
   "metadata": {},
   "source": [
    "Q17"
   ]
  },
  {
   "cell_type": "code",
   "execution_count": 27,
   "id": "57749b2e-885b-4035-acc9-4f9415dd995b",
   "metadata": {},
   "outputs": [],
   "source": [
    "n=50\n",
    "S_mu=4\n",
    "std=1.5\n",
    "s_v=.01\n",
    "df=n-1\n",
    "pmu_range=[S_mu + (2.680*std)/n**(1/2),S_mu-(2.680*std)/n**(1/2)]"
   ]
  },
  {
   "cell_type": "code",
   "execution_count": 28,
   "id": "bf849d52-66c1-4075-8e01-be748f6b8b0f",
   "metadata": {},
   "outputs": [
    {
     "data": {
      "text/plain": [
       "[4.568513852073984, 3.431486147926016]"
      ]
     },
     "execution_count": 28,
     "metadata": {},
     "output_type": "execute_result"
    }
   ],
   "source": [
    "pmu_range"
   ]
  },
  {
   "cell_type": "code",
   "execution_count": null,
   "id": "db222be7-b11f-43cd-8b39-2ec97e01a437",
   "metadata": {},
   "outputs": [],
   "source": []
  }
 ],
 "metadata": {
  "kernelspec": {
   "display_name": "Python 3 (ipykernel)",
   "language": "python",
   "name": "python3"
  },
  "language_info": {
   "codemirror_mode": {
    "name": "ipython",
    "version": 3
   },
   "file_extension": ".py",
   "mimetype": "text/x-python",
   "name": "python",
   "nbconvert_exporter": "python",
   "pygments_lexer": "ipython3",
   "version": "3.10.8"
  }
 },
 "nbformat": 4,
 "nbformat_minor": 5
}
