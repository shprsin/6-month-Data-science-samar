{
 "cells": [
  {
   "cell_type": "code",
   "execution_count": 1,
   "id": "17c664bd-04b0-4980-8a6d-a316e4463811",
   "metadata": {},
   "outputs": [],
   "source": [
    "#q1\n",
    "# So the curse of dimensionality states that a high number of features may lead to decrease in accuracy and may cause confusion in term of interpretabilty."
   ]
  },
  {
   "cell_type": "code",
   "execution_count": 2,
   "id": "2c389109-661f-45f3-8a89-12aed2fb98ad",
   "metadata": {},
   "outputs": [],
   "source": [
    "#Q2"
   ]
  },
  {
   "cell_type": "code",
   "execution_count": 5,
   "id": "1db9d0ab-b789-482c-aae5-48391ab599e1",
   "metadata": {},
   "outputs": [],
   "source": [
    "# It decreases the performance of the model as with a high number of features there is high probabality of irrelevant/unimportant features being included in training of the model increasing complexity and confusion in interpretabilty. "
   ]
  },
  {
   "cell_type": "code",
   "execution_count": 4,
   "id": "e26f8332-17f9-4414-98f1-7c947afa732e",
   "metadata": {},
   "outputs": [],
   "source": [
    "#Q3"
   ]
  },
  {
   "cell_type": "code",
   "execution_count": 6,
   "id": "44eb6fdb-57ed-4bfe-a482-7c3143292965",
   "metadata": {},
   "outputs": [],
   "source": [
    "# Consequences of curse of Dimensionality: decreases performance of model as  high-dimensional data analysis leads to increased computational complexity, data sparsity, sensitivity to outliers, and model selection difficulties."
   ]
  },
  {
   "cell_type": "code",
   "execution_count": 7,
   "id": "d2a41d93-3937-4c1c-bdb2-aba54c837e6d",
   "metadata": {},
   "outputs": [],
   "source": [
    "#Q4"
   ]
  },
  {
   "cell_type": "code",
   "execution_count": 8,
   "id": "584f26eb-4b5b-4829-8f19-9d3d69e0d15a",
   "metadata": {},
   "outputs": [],
   "source": [
    "# Features selection refers to concept of selecting features based on their impact on the target variable to reduce high dimensional data analysis."
   ]
  },
  {
   "cell_type": "code",
   "execution_count": 9,
   "id": "bb9d61f5-2cf5-4e44-9359-27ac45d51e23",
   "metadata": {},
   "outputs": [],
   "source": [
    "#Q5"
   ]
  },
  {
   "cell_type": "code",
   "execution_count": 10,
   "id": "f09fdd23-87d7-4a55-8c02-fadf6c1aff3e",
   "metadata": {},
   "outputs": [],
   "source": [
    "# We lost some data during the dimensionality reduction process, which can impact how well future training algorithms work.\n",
    "# It may need a lot of processing power.\n",
    "# Interpreting transformed characteristics might be challenging.\n",
    "# The independent variables become harder to comprehend as a result."
   ]
  },
  {
   "cell_type": "code",
   "execution_count": 11,
   "id": "b2b9a57e-dccd-4360-9cca-afa2f562c400",
   "metadata": {},
   "outputs": [],
   "source": [
    "#Q6"
   ]
  },
  {
   "cell_type": "code",
   "execution_count": 12,
   "id": "c85141a2-fd78-4d6a-a591-eef15879795e",
   "metadata": {},
   "outputs": [],
   "source": [
    "# If you want to make simple predictions (e.g. ice cream sales and temperature). When you add too many dimensions (e.g. time of the day,\n",
    "# ice cream brand, etc.), the model has a hard time to make sense of all that noise. The curse of dimensionality leads to underfitting \n",
    "# the data.\n",
    "\n",
    "# If you have all this additional information, but do not increase the number of data points, the the model will have a hard time making\n",
    "# sense of unseen data. This is when the curse of dimensionality leads to overfitting de data."
   ]
  },
  {
   "cell_type": "code",
   "execution_count": 13,
   "id": "7daf289c-0e54-4602-9c09-7291e3137d5a",
   "metadata": {},
   "outputs": [],
   "source": [
    "#Q7"
   ]
  },
  {
   "cell_type": "code",
   "execution_count": 16,
   "id": "e9416dab-56a1-4619-9bb7-627e177c939c",
   "metadata": {},
   "outputs": [],
   "source": [
    "# One can know how to select the optimum number of features by selecting Pricipal Component which represenets the maximum variance leading to high dta retention.\n",
    "    \n",
    "    \n",
    "    "
   ]
  },
  {
   "cell_type": "code",
   "execution_count": null,
   "id": "6b05c73b-8cee-4ac8-bdcc-e1ed6d0d682e",
   "metadata": {},
   "outputs": [],
   "source": []
  }
 ],
 "metadata": {
  "kernelspec": {
   "display_name": "Python 3 (ipykernel)",
   "language": "python",
   "name": "python3"
  },
  "language_info": {
   "codemirror_mode": {
    "name": "ipython",
    "version": 3
   },
   "file_extension": ".py",
   "mimetype": "text/x-python",
   "name": "python",
   "nbconvert_exporter": "python",
   "pygments_lexer": "ipython3",
   "version": "3.10.8"
  }
 },
 "nbformat": 4,
 "nbformat_minor": 5
}
