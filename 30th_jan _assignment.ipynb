{
 "cells": [
  {
   "cell_type": "code",
   "execution_count": 7,
   "id": "5e0bc05b-21e0-4773-95ba-917bca10a0d4",
   "metadata": {},
   "outputs": [],
   "source": [
    "#1 \n",
    "def func1():\n",
    "    grade=''\n",
    "    a= int(input(\"Enter the percentage\"))\n",
    "    if a>90:\n",
    "           grade=\"A\"\n",
    "    elif a<=90 & a>80:\n",
    "           grade='B'\n",
    "    elif a<=80 & a > 60:\n",
    "           grade='C'\n",
    "    else:\n",
    "           grade='D'\n",
    "    print(\"Grade is \",grade)\n",
    "           "
   ]
  },
  {
   "cell_type": "code",
   "execution_count": 8,
   "id": "9ca703ac-f171-4eea-a38d-529a195bddca",
   "metadata": {},
   "outputs": [
    {
     "name": "stdin",
     "output_type": "stream",
     "text": [
      "Enter the percentage 64\n"
     ]
    },
    {
     "name": "stdout",
     "output_type": "stream",
     "text": [
      "Grade is  C\n"
     ]
    }
   ],
   "source": [
    "func1()"
   ]
  },
  {
   "cell_type": "code",
   "execution_count": 11,
   "id": "8d3e3206-0eba-4407-b880-ba5455b0da11",
   "metadata": {},
   "outputs": [],
   "source": [
    "#2\n",
    "def func2():\n",
    "    r_t=''\n",
    "    a= int(input(\"Enter the cost\"))\n",
    "    if a>100000:\n",
    "           r_t= .15 * a\n",
    "    elif a<=100000 & a>50000:\n",
    "           r_t=.1 *a\n",
    "    else:\n",
    "           r_t=.05 * a\n",
    "    print(\"Road tax is \",r_t)"
   ]
  },
  {
   "cell_type": "code",
   "execution_count": 12,
   "id": "be73322e-a17f-4ebd-b82d-4328f28f66d5",
   "metadata": {},
   "outputs": [
    {
     "name": "stdin",
     "output_type": "stream",
     "text": [
      "Enter the cost 100006\n"
     ]
    },
    {
     "name": "stdout",
     "output_type": "stream",
     "text": [
      "Road tax is  15000.9\n"
     ]
    }
   ],
   "source": [
    "func2()"
   ]
  },
  {
   "cell_type": "code",
   "execution_count": 21,
   "id": "d19bcb6e-263f-4f4a-af4b-9add4c35d48d",
   "metadata": {},
   "outputs": [],
   "source": [
    "def func3():\n",
    "    mon=''\n",
    "    a= input(\"Enter the city\")\n",
    "    if a== 'Delhi':\n",
    "           mon=\"Red fort\"\n",
    "    elif a=='Agra':\n",
    "           mon='Taj mahal'\n",
    "    elif a=='Jaipur':\n",
    "           mon='Jal Mahal'\n",
    "    else:\n",
    "        print(\"No info about this city..... Reenter\")\n",
    "        return func3()\n",
    "    print(\"Monument is \",mon)"
   ]
  },
  {
   "cell_type": "code",
   "execution_count": 22,
   "id": "21f48abb-8f86-4cbc-9729-33999198ac55",
   "metadata": {},
   "outputs": [
    {
     "name": "stdin",
     "output_type": "stream",
     "text": [
      "Enter the city Ajmer\n"
     ]
    },
    {
     "name": "stdout",
     "output_type": "stream",
     "text": [
      "No info about this city..... Reenter\n"
     ]
    },
    {
     "name": "stdin",
     "output_type": "stream",
     "text": [
      "Enter the city Delhi\n"
     ]
    },
    {
     "name": "stdout",
     "output_type": "stream",
     "text": [
      "Monument is  Red fort\n"
     ]
    }
   ],
   "source": [
    "func3()"
   ]
  },
  {
   "cell_type": "code",
   "execution_count": 26,
   "id": "e3ff1586-b4ac-4269-99ca-55c61aba55af",
   "metadata": {},
   "outputs": [],
   "source": [
    "def func4():\n",
    "    a= int(input(\"Enter the number\"))\n",
    "    b=a\n",
    "    count=0\n",
    "    while b>10:\n",
    "        b/=3\n",
    "        count+=1\n",
    "    print(\"Number of times \", a , \" is divided by 3 is \",count)"
   ]
  },
  {
   "cell_type": "code",
   "execution_count": 27,
   "id": "5ea22f5e-bf26-4aca-a6f5-58fc8f65edc0",
   "metadata": {},
   "outputs": [
    {
     "name": "stdin",
     "output_type": "stream",
     "text": [
      "Enter the number 1331\n"
     ]
    },
    {
     "name": "stdout",
     "output_type": "stream",
     "text": [
      "Number of time 1331  is divided by 3 is  5\n"
     ]
    }
   ],
   "source": [
    "func4()"
   ]
  },
  {
   "cell_type": "code",
   "execution_count": 28,
   "id": "76b8fe03-3811-4145-9b7f-eef456fdcf54",
   "metadata": {},
   "outputs": [],
   "source": [
    "# Q5\n",
    "# A while loop will run a piece of code while a condition is True. \n",
    "#It will keep executing the desired set of code statements until that condition is no longer True.\n",
    "# A while loop will always first check the condition before running. \n",
    "#If the condition evaluates to True then the loop will run the code within the loop's body\n",
    "# Example is the func4() stated above"
   ]
  },
  {
   "cell_type": "code",
   "execution_count": 35,
   "id": "5cbb321c-8993-48f6-9192-f1d81d450d37",
   "metadata": {},
   "outputs": [
    {
     "name": "stdout",
     "output_type": "stream",
     "text": [
      "*\n",
      "**\n",
      "***\n",
      "****\n",
      "*****\n"
     ]
    }
   ],
   "source": [
    "#Q6\n",
    "i =0\n",
    "\n",
    "while i<5:\n",
    "    j=0\n",
    "    while j<=i:\n",
    "        print('*',end=\"\")\n",
    "        j+=1\n",
    "    print(\"\")\n",
    "    i+=1\n",
    "    "
   ]
  },
  {
   "cell_type": "code",
   "execution_count": 36,
   "id": "23b632b5-50cf-48c5-b679-33899f7b095d",
   "metadata": {},
   "outputs": [
    {
     "name": "stdout",
     "output_type": "stream",
     "text": [
      "******\n",
      "*****\n",
      "****\n",
      "***\n",
      "**\n",
      "*\n"
     ]
    }
   ],
   "source": [
    "i =5\n",
    "\n",
    "while i>=0:\n",
    "    j=0\n",
    "    while j<=i:\n",
    "        print('*',end=\"\")\n",
    "        j+=1\n",
    "    print(\"\")\n",
    "    i-=1"
   ]
  },
  {
   "cell_type": "code",
   "execution_count": 45,
   "id": "87abf597-feab-4b12-aa66-da135457a26c",
   "metadata": {},
   "outputs": [
    {
     "name": "stdout",
     "output_type": "stream",
     "text": [
      "  *  * *   * * *   * * * *    * * * * *    * * * * * *     * * * * * * *     * * * * * * * *      * * * * * * * * *"
     ]
    }
   ],
   "source": [
    "\n",
    "i=0\n",
    "\n",
    "while i<10:\n",
    "    j=0\n",
    "    while j < i/2:\n",
    "        print(\" \",end=\"\")\n",
    "        j+=1\n",
    "    k=0\n",
    "    while k<i:\n",
    "        print(' *',end=\"\")\n",
    "        k+=1\n",
    "    i+=1"
   ]
  },
  {
   "cell_type": "code",
   "execution_count": 48,
   "id": "b47713c7-91b8-4106-bbb8-d9cfea2b7f99",
   "metadata": {},
   "outputs": [
    {
     "name": "stdout",
     "output_type": "stream",
     "text": [
      "10\n",
      "9\n",
      "8\n",
      "7\n",
      "6\n",
      "5\n",
      "4\n",
      "3\n",
      "2\n",
      "1\n"
     ]
    }
   ],
   "source": [
    "#q7\n",
    "i=10\n",
    "while i>=1:\n",
    "    print(i)\n",
    "    i-=1"
   ]
  },
  {
   "cell_type": "code",
   "execution_count": null,
   "id": "db1c448a-69af-4c07-b7fc-060f1e5a1896",
   "metadata": {},
   "outputs": [],
   "source": [
    "#Q8 same as Q7"
   ]
  }
 ],
 "metadata": {
  "kernelspec": {
   "display_name": "Python 3 (ipykernel)",
   "language": "python",
   "name": "python3"
  },
  "language_info": {
   "codemirror_mode": {
    "name": "ipython",
    "version": 3
   },
   "file_extension": ".py",
   "mimetype": "text/x-python",
   "name": "python",
   "nbconvert_exporter": "python",
   "pygments_lexer": "ipython3",
   "version": "3.10.8"
  }
 },
 "nbformat": 4,
 "nbformat_minor": 5
}
