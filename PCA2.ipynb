{
 "cells": [
  {
   "cell_type": "code",
   "execution_count": 1,
   "id": "f1a1ef38-4070-4e77-86f4-25dcf3288d7b",
   "metadata": {},
   "outputs": [],
   "source": [
    "# Q1"
   ]
  },
  {
   "cell_type": "code",
   "execution_count": 1,
   "id": "e38270c1-1e58-4f89-bdca-70c19a18379e",
   "metadata": {},
   "outputs": [],
   "source": [
    "# Projection is a way of to reflect data which is in n-dimensional plane to a q-dimensional plane."
   ]
  },
  {
   "cell_type": "code",
   "execution_count": 4,
   "id": "c49d4280-b206-4f1b-a095-ab51476613aa",
   "metadata": {},
   "outputs": [],
   "source": [
    "#Q2"
   ]
  },
  {
   "cell_type": "code",
   "execution_count": 5,
   "id": "e898e210-5a2a-4a22-8666-98e90c776c5a",
   "metadata": {},
   "outputs": [],
   "source": [
    "#In PCA dimenionality reduction method we try to optimize the data retention by choosing principal components in a way which allows for maximum variance."
   ]
  },
  {
   "cell_type": "code",
   "execution_count": 7,
   "id": "5994443c-6958-455a-9f79-a5fc4fb01da6",
   "metadata": {},
   "outputs": [],
   "source": [
    "#Q3"
   ]
  },
  {
   "cell_type": "code",
   "execution_count": 2,
   "id": "2090ea91-12a4-4901-9fcd-1e9e920f6723",
   "metadata": {},
   "outputs": [],
   "source": [
    "# Covariance Matrix * Vector = lambda * vector where Lambda gives the value of the spread of Principal Components."
   ]
  },
  {
   "cell_type": "code",
   "execution_count": 5,
   "id": "11087d1a-1238-4bda-9f2a-445346247fab",
   "metadata": {},
   "outputs": [],
   "source": [
    "#q4"
   ]
  },
  {
   "cell_type": "code",
   "execution_count": 6,
   "id": "7c244f60-7f75-4e64-88bd-8b047362ec18",
   "metadata": {},
   "outputs": [],
   "source": [
    "# The number of principal components directly impacts the amount of information captures when dimensionality reduction occurs. The idea\n",
    "# is to choose a number which carries the maximum information with minimal loss of data."
   ]
  },
  {
   "cell_type": "code",
   "execution_count": 3,
   "id": "bbda875a-3c22-471e-825a-7ade470bbe05",
   "metadata": {},
   "outputs": [],
   "source": [
    "#Q5"
   ]
  },
  {
   "cell_type": "code",
   "execution_count": 4,
   "id": "60531a17-76f9-4649-b9c0-9385aef39481",
   "metadata": {},
   "outputs": [],
   "source": [
    "# PCA can be used for Feature Selection by finding out the neccesarry features and its impact on the target variable."
   ]
  },
  {
   "cell_type": "code",
   "execution_count": 7,
   "id": "253837ef-e112-40ec-af27-84efeba48c9a",
   "metadata": {},
   "outputs": [],
   "source": [
    "# Q6\n",
    "# Applications of PCA in Machine Learning\n",
    "# PCA is used to visualize multidimensional data.\n",
    "# It is used to reduce the number of dimensions in healthcare data.\n",
    "# PCA can help resize an image.\n",
    "# It can be used in finance to analyze stock data and forecast returns.\n",
    "# PCA helps to find patterns in the high-dimensional datasets."
   ]
  },
  {
   "cell_type": "code",
   "execution_count": 8,
   "id": "24e55aaa-e9a5-47df-9952-cf7023b88ff6",
   "metadata": {},
   "outputs": [],
   "source": [
    "#Q7"
   ]
  },
  {
   "cell_type": "code",
   "execution_count": 9,
   "id": "1b0952e6-3662-42a9-b36b-b731a0f0370a",
   "metadata": {},
   "outputs": [],
   "source": [
    "# Variance is the spread of the data in a dataset. \n",
    "# In PCA, the variables are transformed in such a way that they explain variance of the dataset in decreasing manner."
   ]
  },
  {
   "cell_type": "code",
   "execution_count": 10,
   "id": "cbd19071-f0d7-4dc6-bed8-b8fab25a1f7c",
   "metadata": {},
   "outputs": [],
   "source": [
    "#Q8"
   ]
  },
  {
   "cell_type": "code",
   "execution_count": 12,
   "id": "904a5984-3b98-4b58-b34a-cf679596531b",
   "metadata": {},
   "outputs": [],
   "source": [
    "# In PCA, the variables are transformed in such a way that they explain variance of the dataset in decreasing manner. Thus the higher the variance of the component the more important the component is."
   ]
  },
  {
   "cell_type": "code",
   "execution_count": 13,
   "id": "8412a3c9-c98f-46c4-9202-117a52b35c6a",
   "metadata": {},
   "outputs": [],
   "source": [
    "#Q9"
   ]
  },
  {
   "cell_type": "code",
   "execution_count": 14,
   "id": "cffcf0f1-b3e1-41aa-9095-45931e7b4ff5",
   "metadata": {},
   "outputs": [],
   "source": [
    "# PCA gives more weight to variables that have higher variances than variables with low variances, \n",
    "# so it is important to normalize the data on the same scale to get a reasonable covariance."
   ]
  },
  {
   "cell_type": "code",
   "execution_count": null,
   "id": "c3b0faff-09f5-446b-be64-251828925b4a",
   "metadata": {},
   "outputs": [],
   "source": []
  }
 ],
 "metadata": {
  "kernelspec": {
   "display_name": "Python 3 (ipykernel)",
   "language": "python",
   "name": "python3"
  },
  "language_info": {
   "codemirror_mode": {
    "name": "ipython",
    "version": 3
   },
   "file_extension": ".py",
   "mimetype": "text/x-python",
   "name": "python",
   "nbconvert_exporter": "python",
   "pygments_lexer": "ipython3",
   "version": "3.10.8"
  }
 },
 "nbformat": 4,
 "nbformat_minor": 5
}
