{
 "cells": [
  {
   "cell_type": "markdown",
   "id": "263157b2-71be-4b7b-89ed-50bc6d15eb15",
   "metadata": {},
   "source": [
    "Q1"
   ]
  },
  {
   "cell_type": "markdown",
   "id": "2e6ca292-9992-4b9a-b802-257e77eaee5f",
   "metadata": {},
   "source": [
    "Statistics is the science of Collecting, organising and analysng data."
   ]
  },
  {
   "cell_type": "markdown",
   "id": "faacf714-fd37-4d06-a9db-c27299949a52",
   "metadata": {},
   "source": [
    "Q2"
   ]
  },
  {
   "cell_type": "markdown",
   "id": "6ecc53f0-ccc1-427a-8383-7d857caa04a5",
   "metadata": {},
   "source": [
    "Different types of Statistics:\n",
    "1. Descreptive statistics : It is used to describe various features of the data. It is used when we are trying to organise and describe the data in a set. E.g. Cricket Batting stats.\n",
    "2. Inferential Statistics: It is used when we want to infer or predict from a sample dataset regarding the features or characteristics of a larger Data set. Eg. Pre poll Data in elections."
   ]
  },
  {
   "cell_type": "markdown",
   "id": "f8abcd39-40ed-4b13-bb57-a788b0cd6ae1",
   "metadata": {},
   "source": [
    "Q3\n",
    "\n",
    "Different types of Data:\n",
    "Quantitative Data:\n",
    "1. Discrete Data: These are Absolute numerical dataform which is an integer. E.g. The number of People in a classroom\n",
    "2. Continuous Data: These are numerical data with floating point number. E.g. Temp, Height etc.\n",
    "Qualitative:\n",
    "1. Nominal: Non numerical data that be categorized but not ranked.E.G Color etc.\n",
    "2. Ordinal: Non numerical Data that can be categorised and Ranked. Eg. Grades etc.  "
   ]
  },
  {
   "cell_type": "markdown",
   "id": "e353b289-86e6-4bb3-9ea2-93cf3b2f9d6b",
   "metadata": {},
   "source": [
    "Q4\n",
    "1. {A+, A, B+, B, C+, C, D, E} : Ordinal Qualitative Data\n",
    "2. Colour of mangoes {yellow, green, orange, red}: Nominal Qualitative Data\n",
    "3. Height data of a class [178.9, 179, 179.5, 176, 177.2, 178.3, 175.8,...]: Continuous Quantative Data\n",
    "4. Number of mangoes exported by a farm [500, 600, 478, 672, ...] : Discrete Quantative Data"
   ]
  },
  {
   "cell_type": "markdown",
   "id": "cd267f72-5fdd-4214-96cd-a667972a823c",
   "metadata": {},
   "source": [
    "Q5. \n",
    "Different types of datasets require different forms of measuring. Hence, the concept of levels of measurement comes into the picture which tells us how precisely variables are recorded. Types are:\n",
    "1. Ordinal Scale: This deals with data that can be categorised and ordered. E.g . Level of Education \n",
    "2. Nominal: This deals with data that can be ordered. E.g. color \n",
    "3. Interval level: This deals with data which are numerical and the difference between data points can be found bbut not ratio. E.g Temp\n",
    "4. Ratio Level: This deals with data where difference can be found including ratio and has a true zero point. Eg. Marks in a test."
   ]
  },
  {
   "cell_type": "markdown",
   "id": "b3e60dc3-d38d-423e-8756-a50356ed9191",
   "metadata": {},
   "source": [
    "Q6.\n",
    "Levels of measurement, also called scales of measurement, tell you how precisely variables are recorded. In scientific research, a variable is anything that can take on different values across your data set (e.g., height or test scores).The level at which you measure a variable determines how you can analyze your data.\n",
    "Example of a variable at 2 levels of measurement\n",
    "You can measure the variable of income at an ordinal or ratio level.\n",
    "Ordinal level: You create brackets of income ranges: $0–$19,999, $20,000–$39,999, and $40,000–$59,999. You ask participants to select the bracket that represents their annual income. The brackets are coded with numbers from 1–3.\n",
    "Ratio level: You collect data on the exact annual incomes of your participants.\n",
    "A\n",
    "Bracket 1\n",
    "$12,550\n",
    "B\n",
    "Bracket 2\n",
    "$39,700\n",
    "C\n",
    "Bracket 3\n",
    "$40,300\n",
    "At a ratio level, you can see that the difference between A and B’s incomes is far greater than the difference between B and C’s incomes.\n",
    "\n",
    "At an ordinal level, however, you only know the income bracket for each participant, not their exact income. "
   ]
  },
  {
   "cell_type": "markdown",
   "id": "7a5478b0-13a9-4c21-9efa-60f60011fa66",
   "metadata": {},
   "source": [
    "Q7\n",
    "Ordinal data type is data tha can be categorized and ranked whereas nomimal data can only be categorized."
   ]
  },
  {
   "cell_type": "markdown",
   "id": "bcf91885-f9b0-4c6a-ad93-927eff15c048",
   "metadata": {},
   "source": [
    "Q8\n",
    "Histogram can be used to display data in terms of range."
   ]
  },
  {
   "cell_type": "markdown",
   "id": "eb3ff2b9-25e4-47fe-b154-7c32bd06e9ce",
   "metadata": {},
   "source": [
    "Q9\n",
    "Descriptive statistics focus on describing the visible characteristics of a dataset (a population or sample). Meanwhile, inferential statistics focus on making predictions or generalizations about a larger dataset, based on a sample of those data.\n",
    "Eg. Data about patient details in a hospital in district. If we want to understand the most recurring complaint of the patients. We can use descriptive stats to analyse the information.  However if want to guess the most recurring disease in a district we can use the sample data from to infer the same."
   ]
  },
  {
   "cell_type": "markdown",
   "id": "23358021-d3c1-4855-9ba2-b553721b5faa",
   "metadata": {},
   "source": [
    "Q10\n",
    "Measures of central tendency used are:\n",
    "1. Mean: Gives the average value.\n",
    "2. Mode: "
   ]
  }
 ],
 "metadata": {
  "kernelspec": {
   "display_name": "Python 3 (ipykernel)",
   "language": "python",
   "name": "python3"
  },
  "language_info": {
   "codemirror_mode": {
    "name": "ipython",
    "version": 3
   },
   "file_extension": ".py",
   "mimetype": "text/x-python",
   "name": "python",
   "nbconvert_exporter": "python",
   "pygments_lexer": "ipython3",
   "version": "3.10.8"
  }
 },
 "nbformat": 4,
 "nbformat_minor": 5
}
