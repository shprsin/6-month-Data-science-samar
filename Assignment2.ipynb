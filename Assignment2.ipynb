{
 "cells": [
  {
   "cell_type": "code",
   "execution_count": 1,
   "id": "22886ac1-c394-4649-93d9-d01ed9577098",
   "metadata": {},
   "outputs": [],
   "source": [
    "##What are the characteristics of the tuples? Is tuple immutable? "
   ]
  },
  {
   "cell_type": "code",
   "execution_count": 2,
   "id": "ec2d9f7e-a823-4af9-be7b-878e018857b3",
   "metadata": {},
   "outputs": [],
   "source": [
    "## Tuples are immutable"
   ]
  },
  {
   "cell_type": "code",
   "execution_count": 12,
   "id": "11cee742-1649-491e-987f-8577385c6811",
   "metadata": {},
   "outputs": [],
   "source": [
    "### Tuples has only two built-in methods\n",
    "\n",
    "###Tuples does auto indexing"
   ]
  },
  {
   "cell_type": "code",
   "execution_count": 8,
   "id": "f15b1c41-0b2d-4c3a-9530-31517757e9b3",
   "metadata": {},
   "outputs": [],
   "source": [
    "##What are the two tuple methods in python? Give an example of each method. Give a reason why  tuples have only two in-built methods as compared to Lists.\n",
    "a=(1,2,2,3,\"Sudh\",5)"
   ]
  },
  {
   "cell_type": "code",
   "execution_count": 11,
   "id": "8ed89598-2032-4466-a6d4-4719aed97b1a",
   "metadata": {},
   "outputs": [
    {
     "data": {
      "text/plain": [
       "2"
      ]
     },
     "execution_count": 11,
     "metadata": {},
     "output_type": "execute_result"
    }
   ],
   "source": [
    "a.count(2)"
   ]
  },
  {
   "cell_type": "code",
   "execution_count": 10,
   "id": "8693871a-e9d4-48e1-ab23-30e82d48dc5c",
   "metadata": {},
   "outputs": [
    {
     "data": {
      "text/plain": [
       "3"
      ]
     },
     "execution_count": 10,
     "metadata": {},
     "output_type": "execute_result"
    }
   ],
   "source": [
    "a.index(3)"
   ]
  },
  {
   "cell_type": "code",
   "execution_count": 13,
   "id": "af3340d1-3ce4-4a91-959e-d7b12271c208",
   "metadata": {},
   "outputs": [],
   "source": [
    "## Q3."
   ]
  },
  {
   "cell_type": "code",
   "execution_count": 17,
   "id": "ea7dd823-79ee-4244-93fc-64c8b073a826",
   "metadata": {},
   "outputs": [],
   "source": [
    "l = [1, 1, 1, 2, 1, 3, 1, 4, 2, 1, 2, 2, 2, 3, 2, 4, 3, 1, 3, 2, 3, 3, 3, 4, 4, 1, 4, 2, 4, 3, 4, 4] "
   ]
  },
  {
   "cell_type": "code",
   "execution_count": 18,
   "id": "0b8dd538-974b-43e8-a24c-4bdf8aa1386b",
   "metadata": {},
   "outputs": [
    {
     "data": {
      "text/plain": [
       "{1, 2, 3, 4}"
      ]
     },
     "execution_count": 18,
     "metadata": {},
     "output_type": "execute_result"
    }
   ],
   "source": [
    "set(l)"
   ]
  },
  {
   "cell_type": "code",
   "execution_count": 19,
   "id": "4abb9dac-e3ce-42b9-9c3d-b8a2d2d0b577",
   "metadata": {},
   "outputs": [],
   "source": [
    "#Q4"
   ]
  },
  {
   "cell_type": "code",
   "execution_count": 20,
   "id": "de16e235-86f0-4a18-82a4-3d09860c1e2e",
   "metadata": {},
   "outputs": [],
   "source": [
    "s={1,2,3,4}"
   ]
  },
  {
   "cell_type": "code",
   "execution_count": 32,
   "id": "726418bc-4a37-427e-b4fe-f344fadd9a10",
   "metadata": {},
   "outputs": [],
   "source": [
    "## Update function updates the set by adding another set to itself\n",
    "s.update({5,6,4})"
   ]
  },
  {
   "cell_type": "code",
   "execution_count": 30,
   "id": "fd912599-6fe3-4147-9b4b-ed9db24c3f06",
   "metadata": {},
   "outputs": [
    {
     "data": {
      "text/plain": [
       "{1, 2, 3, 4, 5, 6}"
      ]
     },
     "execution_count": 30,
     "metadata": {},
     "output_type": "execute_result"
    }
   ],
   "source": [
    "s"
   ]
  },
  {
   "cell_type": "code",
   "execution_count": 31,
   "id": "0fc05b71-be50-451b-94a4-1006fa17ee90",
   "metadata": {},
   "outputs": [
    {
     "data": {
      "text/plain": [
       "{1, 2, 3, 4, 5, 6}"
      ]
     },
     "execution_count": 31,
     "metadata": {},
     "output_type": "execute_result"
    }
   ],
   "source": [
    "## returns a new set from the union\n",
    "s.union({5,6,4})"
   ]
  },
  {
   "cell_type": "code",
   "execution_count": 33,
   "id": "2a91be0c-14ac-4c1a-a114-5daec706eb9b",
   "metadata": {},
   "outputs": [],
   "source": [
    "##Q5"
   ]
  },
  {
   "cell_type": "code",
   "execution_count": 34,
   "id": "bf5131f1-1f2a-4937-9d0d-67dedc415411",
   "metadata": {},
   "outputs": [],
   "source": [
    "d2={\"batch\":{'DS','ECE','AI'},\n",
    "    \"Mentor\":(\"Anurag\",\"babu\",\"cat\",\"dan\")}"
   ]
  },
  {
   "cell_type": "code",
   "execution_count": 36,
   "id": "0e8c45f3-4cbc-4a9f-9a9c-e778725fb073",
   "metadata": {},
   "outputs": [
    {
     "data": {
      "text/plain": [
       "{'AI', 'DS', 'ECE'}"
      ]
     },
     "execution_count": 36,
     "metadata": {},
     "output_type": "execute_result"
    }
   ],
   "source": [
    "d2[\"batch\"]"
   ]
  },
  {
   "cell_type": "code",
   "execution_count": 37,
   "id": "eca35d6d-f0ff-485f-8ab3-955061a3d3cc",
   "metadata": {},
   "outputs": [],
   "source": [
    "## Dictionaries are unordered\n"
   ]
  },
  {
   "cell_type": "code",
   "execution_count": 38,
   "id": "960b21d4-2316-4d89-82cf-f19e21ec4871",
   "metadata": {},
   "outputs": [],
   "source": [
    "##Q6"
   ]
  },
  {
   "cell_type": "code",
   "execution_count": 40,
   "id": "8a28d6f5-2671-48fc-9be7-f01b608afdfb",
   "metadata": {},
   "outputs": [],
   "source": [
    "d2={\"batch\":{'DS':\"Data Science\",'ECE':\"Electronics\",'AI':\"Aritficial Intelligence\"},\n",
    "    \"Mentor\":{\"Anurag\":\"A\",\"babu\":\"B\",\"cat\":\"C\",\"dan\":\"D\"}}"
   ]
  },
  {
   "cell_type": "code",
   "execution_count": 41,
   "id": "973abcc8-28bb-41d6-a6aa-8b56fa95aeb1",
   "metadata": {},
   "outputs": [
    {
     "data": {
      "text/plain": [
       "'Data Science'"
      ]
     },
     "execution_count": 41,
     "metadata": {},
     "output_type": "execute_result"
    }
   ],
   "source": [
    "d2[\"batch\"]['DS']"
   ]
  },
  {
   "cell_type": "code",
   "execution_count": 42,
   "id": "6ccd0d36-2811-46e7-bb9c-926ea23871a3",
   "metadata": {},
   "outputs": [],
   "source": [
    "##Q7"
   ]
  },
  {
   "cell_type": "code",
   "execution_count": 1,
   "id": "d6f87720-ef63-4c84-83ba-6d7080671102",
   "metadata": {},
   "outputs": [],
   "source": [
    "dict1 = {'language' : 'Python', 'course': 'Data Science Masters','ML':\"Machine Learning\",\"DL\":\"Deep Learning\"}"
   ]
  },
  {
   "cell_type": "code",
   "execution_count": 2,
   "id": "631ff98f-c3be-4e92-b8bc-9d9f01aadd24",
   "metadata": {},
   "outputs": [
    {
     "data": {
      "text/plain": [
       "'Fire'"
      ]
     },
     "execution_count": 2,
     "metadata": {},
     "output_type": "execute_result"
    }
   ],
   "source": [
    "dict1.setdefault('Prometheus','Fire')"
   ]
  },
  {
   "cell_type": "code",
   "execution_count": 3,
   "id": "ee6a7c23-d41f-4df7-9c42-06fa13ab76fa",
   "metadata": {},
   "outputs": [
    {
     "data": {
      "text/plain": [
       "{'language': 'Python',\n",
       " 'course': 'Data Science Masters',\n",
       " 'ML': 'Machine Learning',\n",
       " 'DL': 'Deep Learning',\n",
       " 'Prometheus': 'Fire'}"
      ]
     },
     "execution_count": 3,
     "metadata": {},
     "output_type": "execute_result"
    }
   ],
   "source": [
    "dict1"
   ]
  },
  {
   "cell_type": "code",
   "execution_count": 4,
   "id": "9beb99fd-e1cd-47cd-9257-b881cc193fd7",
   "metadata": {},
   "outputs": [],
   "source": [
    "#Q8"
   ]
  },
  {
   "cell_type": "code",
   "execution_count": 12,
   "id": "7280890f-9a04-436b-8a70-55bf1bdc88e4",
   "metadata": {},
   "outputs": [],
   "source": [
    "dict2 = {'Sport': 'Cricket' , 'Teams': ['India', 'Australia', 'England', 'South Africa', 'Sri Lanka', 'New Zealand']}"
   ]
  },
  {
   "cell_type": "code",
   "execution_count": 13,
   "id": "1a7882df-f52e-4e11-b79d-e3382a5031f0",
   "metadata": {},
   "outputs": [
    {
     "data": {
      "text/plain": [
       "dict_keys(['Sport', 'Teams'])"
      ]
     },
     "execution_count": 13,
     "metadata": {},
     "output_type": "execute_result"
    }
   ],
   "source": [
    "dict2.keys()"
   ]
  },
  {
   "cell_type": "code",
   "execution_count": 14,
   "id": "57944073-b865-4632-b3d7-9355ccfeaeed",
   "metadata": {},
   "outputs": [
    {
     "data": {
      "text/plain": [
       "dict_values(['Cricket', ['India', 'Australia', 'England', 'South Africa', 'Sri Lanka', 'New Zealand']])"
      ]
     },
     "execution_count": 14,
     "metadata": {},
     "output_type": "execute_result"
    }
   ],
   "source": [
    "dict2.values()"
   ]
  },
  {
   "cell_type": "code",
   "execution_count": 15,
   "id": "5a28824d-4bf7-4bed-9512-35f358115c83",
   "metadata": {},
   "outputs": [
    {
     "data": {
      "text/plain": [
       "dict_items([('Sport', 'Cricket'), ('Teams', ['India', 'Australia', 'England', 'South Africa', 'Sri Lanka', 'New Zealand'])])"
      ]
     },
     "execution_count": 15,
     "metadata": {},
     "output_type": "execute_result"
    }
   ],
   "source": [
    "dict2.items()"
   ]
  },
  {
   "cell_type": "code",
   "execution_count": null,
   "id": "32bea894-238a-4fbb-bb7a-b5d4d031344d",
   "metadata": {},
   "outputs": [],
   "source": []
  }
 ],
 "metadata": {
  "kernelspec": {
   "display_name": "Python 3 (ipykernel)",
   "language": "python",
   "name": "python3"
  },
  "language_info": {
   "codemirror_mode": {
    "name": "ipython",
    "version": 3
   },
   "file_extension": ".py",
   "mimetype": "text/x-python",
   "name": "python",
   "nbconvert_exporter": "python",
   "pygments_lexer": "ipython3",
   "version": "3.10.8"
  }
 },
 "nbformat": 4,
 "nbformat_minor": 5
}
