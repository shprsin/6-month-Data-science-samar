{
 "cells": [
  {
   "cell_type": "code",
   "execution_count": 1,
   "id": "705a2845-2c18-41bf-9cd1-ae4fbd180915",
   "metadata": {},
   "outputs": [],
   "source": [
    "#1 Guido van Rossum"
   ]
  },
  {
   "cell_type": "code",
   "execution_count": 3,
   "id": "a90ea380-f0b7-406c-bddf-3cc49716a959",
   "metadata": {},
   "outputs": [],
   "source": [
    "#2 Python is an interpreted programming language, which supports object-oriented, structured, and functional programming as well as Dynamic Programming."
   ]
  },
  {
   "cell_type": "code",
   "execution_count": 4,
   "id": "e8c15dea-7b06-40f4-befd-a095932c7663",
   "metadata": {},
   "outputs": [],
   "source": [
    "#3 Yes it is case sensitive."
   ]
  },
  {
   "cell_type": "code",
   "execution_count": 5,
   "id": "2c214b69-cacb-4572-b5c1-2d75d6c4203b",
   "metadata": {},
   "outputs": [],
   "source": [
    "#4 .py"
   ]
  },
  {
   "cell_type": "code",
   "execution_count": 6,
   "id": "cf12bfcf-a0c0-40a8-9c42-e6202f89171b",
   "metadata": {},
   "outputs": [],
   "source": [
    "#5 Python code is interpreted\n"
   ]
  },
  {
   "cell_type": "code",
   "execution_count": 7,
   "id": "5a1a841a-febd-4290-aba3-cb63b5899baa",
   "metadata": {},
   "outputs": [],
   "source": [
    "#6 a module, a function body, and a class definition"
   ]
  },
  {
   "cell_type": "code",
   "execution_count": 8,
   "id": "85ffe684-4604-4644-8913-a19523991d1c",
   "metadata": {},
   "outputs": [],
   "source": [
    "#7 '#'"
   ]
  },
  {
   "cell_type": "code",
   "execution_count": 14,
   "id": "c730d038-776e-4e1d-9439-f5653fac37d9",
   "metadata": {},
   "outputs": [],
   "source": [
    "#8 \n",
    "import sys"
   ]
  },
  {
   "cell_type": "code",
   "execution_count": 15,
   "id": "d688a5ed-1b03-426a-af2e-43b998ad2387",
   "metadata": {},
   "outputs": [
    {
     "data": {
      "text/plain": [
       "'3.10.8 | packaged by conda-forge | (main, Nov 22 2022, 08:26:04) [GCC 10.4.0]'"
      ]
     },
     "execution_count": 15,
     "metadata": {},
     "output_type": "execute_result"
    }
   ],
   "source": [
    "sys.version"
   ]
  },
  {
   "cell_type": "code",
   "execution_count": 19,
   "id": "e2737ee9-f5d6-4c00-89af-8c4b276d3d93",
   "metadata": {},
   "outputs": [],
   "source": [
    "#9 lambda"
   ]
  },
  {
   "cell_type": "code",
   "execution_count": 20,
   "id": "a41e58bb-44f1-4483-810d-55b31e33cc5e",
   "metadata": {},
   "outputs": [],
   "source": [
    "#10 Preffered Installer Program"
   ]
  },
  {
   "cell_type": "code",
   "execution_count": 21,
   "id": "94377594-1b22-474e-a587-a0491a6e515f",
   "metadata": {},
   "outputs": [],
   "source": [
    "#11 print(), sqrt(), type() etc"
   ]
  },
  {
   "cell_type": "code",
   "execution_count": 22,
   "id": "2c7effc8-0d3a-4201-b9ae-3fc6a8f7fff4",
   "metadata": {},
   "outputs": [],
   "source": [
    "#12 79"
   ]
  },
  {
   "cell_type": "code",
   "execution_count": 24,
   "id": "a432d978-ef23-4583-91f3-40723367ba8b",
   "metadata": {},
   "outputs": [
    {
     "data": {
      "text/plain": [
       "' 13 Presence of third-party modules.\\nExtensive support libraries(NumPy for numerical calculations, Pandas for data analytics, etc.)\\nOpen source and large active community base.\\nVersatile, Easy to read, learn and write.\\nUser-friendly data structures.\\nHigh-level language. '"
      ]
     },
     "execution_count": 24,
     "metadata": {},
     "output_type": "execute_result"
    }
   ],
   "source": [
    "\"\"\" 13 Presence of third-party modules.\n",
    "Extensive support libraries(NumPy for numerical calculations, Pandas for data analytics, etc.)\n",
    "Open source and large active community base.\n",
    "Versatile, Easy to read, learn and write.\n",
    "User-friendly data structures.\n",
    "High-level language. \"\"\""
   ]
  },
  {
   "cell_type": "code",
   "execution_count": 25,
   "id": "a9d38609-4b08-47bd-a96a-b4a9207d663c",
   "metadata": {},
   "outputs": [],
   "source": [
    "#14  The Python memory is primarily managed by Python private heap space. All Python objects and data structures are located in a private heap."
   ]
  },
  {
   "cell_type": "code",
   "execution_count": 27,
   "id": "5f2f001d-7582-4a4d-86fb-3216723084ab",
   "metadata": {},
   "outputs": [],
   "source": [
    "#15 First, we must find the directory where we installed Python. A typical installation would have the following path, C:\\Users\\MyUserName\\AppData\\Local\\Programs\\Python\\Python310\n",
    "\n",
    "#Now, we will need to add this to the PATH variable, we right click on \"This PC\" and go to \"Properties\".\n",
    "\n",
    "#Then, we click on the \"Advanced system settings\" in the menu on the left.going\n",
    "\n",
    "#In the bottom right, we can see a button labeled \"Environment Variables\". We will click on it to open another window to edit these variables.\n",
    "\n",
    "#Now, we select the \"Path variable\" in the \"System variables\" section and click \"Edit\". The next screen will show all the directories currently part of the PATH variable.\n",
    "\n",
    "#Another window opens up where we can see all the paths for the currently configured system variables. To add a new path for our Python program, we will click on the \"New\" button on the right side and paste the path in Step 1\n",
    "\n",
    "#We have successfully added the path for our Python program to our system's environment variables. The best practice is to restart the system afterward for the change to occur.\n",
    "\n",
    "#Now, we can verify if the PATH variable was configured correctly by opening up the terminal and entering the command python --version."
   ]
  },
  {
   "cell_type": "code",
   "execution_count": null,
   "id": "3ab5e03e-c695-447e-99a2-0098c9bb1b3c",
   "metadata": {},
   "outputs": [],
   "source": [
    "# 16 Yes Indentaton is required.\n"
   ]
  }
 ],
 "metadata": {
  "kernelspec": {
   "display_name": "Python 3 (ipykernel)",
   "language": "python",
   "name": "python3"
  },
  "language_info": {
   "codemirror_mode": {
    "name": "ipython",
    "version": 3
   },
   "file_extension": ".py",
   "mimetype": "text/x-python",
   "name": "python",
   "nbconvert_exporter": "python",
   "pygments_lexer": "ipython3",
   "version": "3.10.8"
  }
 },
 "nbformat": 4,
 "nbformat_minor": 5
}
