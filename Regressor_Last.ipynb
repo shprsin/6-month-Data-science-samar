{
 "cells": [
  {
   "cell_type": "code",
   "execution_count": 1,
   "id": "4765f9c6-c4c3-4700-af69-df37bd0f2977",
   "metadata": {},
   "outputs": [],
   "source": [
    "# #1\n",
    "# The steps are:\n",
    "#     1. Create the Code \n",
    "#     2. Create a Server Environment on a cloud server or private server\n",
    "#     3. Buid the Codepipeline by Uploading from System \n",
    "#     4. Deploy the code."
   ]
  },
  {
   "cell_type": "code",
   "execution_count": 2,
   "id": "00566747-b359-4dfd-b269-16e7fdff59c4",
   "metadata": {},
   "outputs": [],
   "source": [
    "#2"
   ]
  },
  {
   "cell_type": "code",
   "execution_count": 4,
   "id": "91f7cb93-66fe-47d2-80a5-d419107fa9b4",
   "metadata": {},
   "outputs": [],
   "source": [
    "# The web host offers the physical hardware, software & network infrastructure to maintain your site on a server, whereas cloud hosting service providers maintain your site on interconnected servers. \n",
    "# The amount of storage & IT resources depends on your web hosting requirements.\n",
    "# The Cloud Server is more Flexible.\n",
    "# Data Security on Cloud is better due to decentralization.\n",
    "# Some loss of data can be expected on Cloud Servers comparitively."
   ]
  },
  {
   "cell_type": "code",
   "execution_count": 5,
   "id": "1828b45d-66d8-4db5-bb7b-fdd5be9e47ff",
   "metadata": {},
   "outputs": [],
   "source": [
    "#3"
   ]
  },
  {
   "cell_type": "code",
   "execution_count": 6,
   "id": "87c38b00-d1f2-4e04-9752-bf3dc4312775",
   "metadata": {},
   "outputs": [],
   "source": [
    "# Certifications & Standards\n",
    "# Technologies & Service Roadmap\n",
    "# Data Security, Data Governance and Business policies\n",
    "# Service Dependencies & Partnerships\n",
    "# Contracts, Commercials & SLAs\n",
    "# Reliability & Performance\n",
    "# Migration Support, Vendor Lock in & Exit Planning\n",
    "# Business health & Company profile"
   ]
  },
  {
   "cell_type": "code",
   "execution_count": 7,
   "id": "1d3cbb9a-8528-4252-9223-e2b51ef14ba5",
   "metadata": {},
   "outputs": [],
   "source": [
    "#4"
   ]
  },
  {
   "cell_type": "code",
   "execution_count": 8,
   "id": "1d386e08-7845-47b5-bbc3-e535b21d20e5",
   "metadata": {},
   "outputs": [],
   "source": [
    "# Using the viewport meta tag: To create a Responsive Web App, the first step is to set up your website so that it can be viewed on multiple devices. \n",
    "# Media Queries:Media queries let you customize the layout of your HTML document based on screen size and orientation\n",
    "# Fluid layouts:esponsive websites are built using fluid layout techniques so they can resize themselves automatically to fit any screen size and orientation. \n",
    "# Responsive images:Responsive images are another important part of the equation. They allow you to display different-sized images depending on the device viewing your website, which means it always looks good no matter what size screen someone is using\n",
    "# Mobile subdomains:Mobile subdomains are also a good idea, especially if you want to create separate mobile versions of your website. This can be done by creating two subdomains (e.g., “m.example.com” and “www.example.com”) \n",
    "# Test your website on different screen sizes:"
   ]
  },
  {
   "cell_type": "code",
   "execution_count": 9,
   "id": "da405525-8687-4549-9d35-8e32232c8dc5",
   "metadata": {},
   "outputs": [],
   "source": [
    "#5\n",
    "# We can use the pickle libraray to use our trained model on a web application.\n",
    "# We can use the pickle.dump method to do the same \n",
    "\n",
    "# # import pickle\n",
    "# # pickle.dump(scaler,open('scaler.pkl','wb'))"
   ]
  },
  {
   "cell_type": "code",
   "execution_count": null,
   "id": "597df958-d2b3-47b4-9c2d-3e4740ca8e8e",
   "metadata": {},
   "outputs": [],
   "source": []
  }
 ],
 "metadata": {
  "kernelspec": {
   "display_name": "Python 3 (ipykernel)",
   "language": "python",
   "name": "python3"
  },
  "language_info": {
   "codemirror_mode": {
    "name": "ipython",
    "version": 3
   },
   "file_extension": ".py",
   "mimetype": "text/x-python",
   "name": "python",
   "nbconvert_exporter": "python",
   "pygments_lexer": "ipython3",
   "version": "3.10.8"
  }
 },
 "nbformat": 4,
 "nbformat_minor": 5
}
