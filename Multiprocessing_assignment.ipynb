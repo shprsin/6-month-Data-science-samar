{
 "cells": [
  {
   "cell_type": "code",
   "execution_count": 1,
   "id": "33135568-30cd-4bf1-9df1-66d288b93609",
   "metadata": {},
   "outputs": [],
   "source": [
    "# 1 Multiprocessing is a process of running multiple processes simultaneously within a single thread.the primary purpose of multithreading in Python is to improve the performance of a program by using multiple CPUs or CPU cores."
   ]
  },
  {
   "cell_type": "code",
   "execution_count": 2,
   "id": "b8b9bea9-965d-46e4-885b-d9234303eb50",
   "metadata": {},
   "outputs": [],
   "source": [
    "#2 Multithreading runs multiple threads simultaneously within a single process, while multiprocessing runs multiple processes simultaneously within a single thread."
   ]
  },
  {
   "cell_type": "code",
   "execution_count": 3,
   "id": "2195052f-521a-4365-a201-28229681bb54",
   "metadata": {},
   "outputs": [
    {
     "name": "stdout",
     "output_type": "stream",
     "text": [
      "This is my main program\n",
      "this is my multiprocessing prg\n"
     ]
    }
   ],
   "source": [
    "#3\n",
    "import multiprocessing\n",
    "def test():\n",
    "    print(\"this is my multiprocessing prg\")\n",
    "if __name__==\"__main__\":\n",
    "    m=multiprocessing.Process(target=test)\n",
    "    print(\"This is my main program\")\n",
    "    m.start()\n",
    "    m.join()"
   ]
  },
  {
   "cell_type": "code",
   "execution_count": 4,
   "id": "a62d66ca-678a-457f-a58e-eab8ae52dbea",
   "metadata": {},
   "outputs": [],
   "source": [
    "#4 A set of processes that can be executed concurrently to perform a specific task. It is useful to improve efficiency."
   ]
  },
  {
   "cell_type": "code",
   "execution_count": 6,
   "id": "e69bb389-d0f0-4c86-8799-79bdb4244c18",
   "metadata": {},
   "outputs": [
    {
     "name": "stdout",
     "output_type": "stream",
     "text": [
      "[9, 16, 25, 36, 9, 25, 36, 7569, 64, 64]\n"
     ]
    }
   ],
   "source": [
    "#5 & 6\n",
    "def square(n):\n",
    "    return n**2\n",
    "if __name__==\"__main__\":\n",
    "    with multiprocessing.Pool(processes=4) as pool:\n",
    "        out=pool.map(square, [3,4,5,6,3,5,6,87,8,8])\n",
    "        print(out)"
   ]
  },
  {
   "cell_type": "code",
   "execution_count": null,
   "id": "df0122dc-9798-4f21-9e7b-45727f595322",
   "metadata": {},
   "outputs": [],
   "source": [
    "#6\n"
   ]
  }
 ],
 "metadata": {
  "kernelspec": {
   "display_name": "Python 3 (ipykernel)",
   "language": "python",
   "name": "python3"
  },
  "language_info": {
   "codemirror_mode": {
    "name": "ipython",
    "version": 3
   },
   "file_extension": ".py",
   "mimetype": "text/x-python",
   "name": "python",
   "nbconvert_exporter": "python",
   "pygments_lexer": "ipython3",
   "version": "3.10.8"
  }
 },
 "nbformat": 4,
 "nbformat_minor": 5
}
