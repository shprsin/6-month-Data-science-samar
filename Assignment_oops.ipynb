{
 "cells": [
  {
   "cell_type": "code",
   "execution_count": 1,
   "id": "f03921fd-2aa3-49f9-a195-f17c3c0c9f36",
   "metadata": {},
   "outputs": [],
   "source": [
    "#q1\n",
    "# Class is the blueprist of an object and Object is the an instance of the class"
   ]
  },
  {
   "cell_type": "code",
   "execution_count": 2,
   "id": "9d657ab8-0c1e-4ef4-99fb-eae5ef37b361",
   "metadata": {},
   "outputs": [],
   "source": [
    "class pw:\n",
    "    pass\n"
   ]
  },
  {
   "cell_type": "code",
   "execution_count": 3,
   "id": "4bc8cfad-105e-4dc9-93de-c3651d528fb1",
   "metadata": {},
   "outputs": [],
   "source": [
    "obj=pw()"
   ]
  },
  {
   "cell_type": "code",
   "execution_count": 4,
   "id": "ee9f1a25-37fc-48fb-b153-a5e0feebda9d",
   "metadata": {},
   "outputs": [
    {
     "data": {
      "text/plain": [
       "<__main__.pw at 0x7f4cf854ead0>"
      ]
     },
     "execution_count": 4,
     "metadata": {},
     "output_type": "execute_result"
    }
   ],
   "source": [
    "obj\n"
   ]
  },
  {
   "cell_type": "code",
   "execution_count": 5,
   "id": "fee324df-71b4-47c2-a48b-0a25a339b84d",
   "metadata": {},
   "outputs": [],
   "source": [
    "#Q2"
   ]
  },
  {
   "cell_type": "code",
   "execution_count": 6,
   "id": "bc8bea3a-86f5-47db-a512-d9d76ddb9359",
   "metadata": {},
   "outputs": [],
   "source": [
    "# Four Pillars are:\n",
    "#Abstraction\n",
    "#Encapsulation\n",
    "#Polymorphism\n",
    "#Inheritance"
   ]
  },
  {
   "cell_type": "code",
   "execution_count": 7,
   "id": "ecfbcfc6-7dfc-4337-8097-7b4f3f46af55",
   "metadata": {},
   "outputs": [],
   "source": [
    "#Q3"
   ]
  },
  {
   "cell_type": "code",
   "execution_count": 15,
   "id": "dbe7f700-952a-4806-9e1c-401d1bd63090",
   "metadata": {},
   "outputs": [],
   "source": [
    "class pw1:\n",
    "    def __init__(self,name):\n",
    "        self.name=name\n",
    "        \n",
    "    def print_name(self):\n",
    "        print(self.name)"
   ]
  },
  {
   "cell_type": "code",
   "execution_count": 16,
   "id": "5f2da953-be7c-48b0-ad89-06245a010e50",
   "metadata": {},
   "outputs": [],
   "source": [
    "obj1=pw1(\"Shrey\")"
   ]
  },
  {
   "cell_type": "code",
   "execution_count": 18,
   "id": "404f355b-5ed0-4afe-bc85-d191be355a79",
   "metadata": {},
   "outputs": [
    {
     "name": "stdout",
     "output_type": "stream",
     "text": [
      "Shrey\n"
     ]
    }
   ],
   "source": [
    "obj1.print_name()"
   ]
  },
  {
   "cell_type": "code",
   "execution_count": 13,
   "id": "9f3c0ff3-4c66-4404-b6b8-c8213e7852eb",
   "metadata": {},
   "outputs": [],
   "source": [
    "#Q4\n",
    "#Self is used to point to the running instance of the class"
   ]
  },
  {
   "cell_type": "code",
   "execution_count": 14,
   "id": "eb805450-ddbb-4268-889f-08c5a2c93b8f",
   "metadata": {},
   "outputs": [],
   "source": [
    "#Q5"
   ]
  },
  {
   "cell_type": "code",
   "execution_count": 26,
   "id": "0615e464-053e-482f-97b9-dfff75e605af",
   "metadata": {},
   "outputs": [],
   "source": [
    "# Single level Inheritance\n",
    "class pw2(pw1):\n",
    "    def __init__(self,name,id):\n",
    "        self.id=id\n",
    "        self.name=name\n",
    "    def print_id(self):\n",
    "        print(self.id)"
   ]
  },
  {
   "cell_type": "code",
   "execution_count": 27,
   "id": "4caa1a55-3a77-4dd5-ad60-f57617fa478f",
   "metadata": {},
   "outputs": [],
   "source": [
    "obj2=pw2(\"abc\",3)"
   ]
  },
  {
   "cell_type": "code",
   "execution_count": 28,
   "id": "b7df19dd-6a51-498c-92c7-e5c768d60929",
   "metadata": {},
   "outputs": [
    {
     "name": "stdout",
     "output_type": "stream",
     "text": [
      "3\n"
     ]
    }
   ],
   "source": [
    "obj2.print_id()"
   ]
  },
  {
   "cell_type": "code",
   "execution_count": 29,
   "id": "bdf5889b-b8f7-46a6-bbf3-f0b6a64afc1c",
   "metadata": {},
   "outputs": [
    {
     "name": "stdout",
     "output_type": "stream",
     "text": [
      "abc\n"
     ]
    }
   ],
   "source": [
    "obj2.print_name()"
   ]
  },
  {
   "cell_type": "code",
   "execution_count": 33,
   "id": "d13e96f1-f3b8-4e51-a4c2-afe83a0fa39f",
   "metadata": {},
   "outputs": [],
   "source": [
    "# Multi level Inheritance\n",
    "class pw3(pw2):\n",
    "    def __init__(self,name,id,batch):\n",
    "        self.name=name\n",
    "        self.id=id\n",
    "        self.batch=batch"
   ]
  },
  {
   "cell_type": "code",
   "execution_count": 34,
   "id": "f91d6e11-9e12-4227-a34d-7340f92f0cc7",
   "metadata": {},
   "outputs": [],
   "source": [
    "obj4=pw3(\"Shrey\",3,\"Data Science 1.0\")"
   ]
  },
  {
   "cell_type": "code",
   "execution_count": 35,
   "id": "60c4e83a-5a90-480f-918f-4ca0a3156b36",
   "metadata": {},
   "outputs": [
    {
     "name": "stdout",
     "output_type": "stream",
     "text": [
      "Shrey\n"
     ]
    }
   ],
   "source": [
    "obj4.print_name()"
   ]
  },
  {
   "cell_type": "code",
   "execution_count": 36,
   "id": "4896cfc8-d702-4f87-bfbe-201987b6c278",
   "metadata": {},
   "outputs": [
    {
     "name": "stdout",
     "output_type": "stream",
     "text": [
      "3\n"
     ]
    }
   ],
   "source": [
    "obj4.print_id()"
   ]
  },
  {
   "cell_type": "code",
   "execution_count": 37,
   "id": "b572302b-6337-4ebe-af2d-383531a7f05f",
   "metadata": {},
   "outputs": [],
   "source": [
    "#Multiple Inheritance"
   ]
  },
  {
   "cell_type": "code",
   "execution_count": 40,
   "id": "ba7d531d-6fbc-415c-a9b5-29803052e035",
   "metadata": {},
   "outputs": [],
   "source": [
    "class pw4():\n",
    "    def test_p4(self):\n",
    "        print(\"this is my second Class\")"
   ]
  },
  {
   "cell_type": "code",
   "execution_count": 41,
   "id": "d525a6e7-a662-4250-badc-a61d9d17c7c6",
   "metadata": {},
   "outputs": [],
   "source": [
    "class pw5(pw1,pw4):\n",
    "    pass"
   ]
  },
  {
   "cell_type": "code",
   "execution_count": 43,
   "id": "fc392d14-3e54-4ac1-809e-de6a28cd8660",
   "metadata": {},
   "outputs": [],
   "source": [
    "obj5=pw5(\"ABC\")"
   ]
  },
  {
   "cell_type": "code",
   "execution_count": null,
   "id": "f1178185-b50b-4a27-a13f-2e298702ded6",
   "metadata": {},
   "outputs": [],
   "source": []
  }
 ],
 "metadata": {
  "kernelspec": {
   "display_name": "Python 3 (ipykernel)",
   "language": "python",
   "name": "python3"
  },
  "language_info": {
   "codemirror_mode": {
    "name": "ipython",
    "version": 3
   },
   "file_extension": ".py",
   "mimetype": "text/x-python",
   "name": "python",
   "nbconvert_exporter": "python",
   "pygments_lexer": "ipython3",
   "version": "3.10.8"
  }
 },
 "nbformat": 4,
 "nbformat_minor": 5
}
