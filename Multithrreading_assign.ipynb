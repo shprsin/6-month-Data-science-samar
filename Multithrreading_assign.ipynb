{
 "cells": [
  {
   "cell_type": "code",
   "execution_count": 1,
   "id": "7f42f555-9a3b-400f-85a4-0178d1e9b07c",
   "metadata": {},
   "outputs": [],
   "source": [
    "#1 Multithreading is A process of running multiple threads simultaneously within a single process. Threading Module is used for Multithreading"
   ]
  },
  {
   "cell_type": "code",
   "execution_count": 75,
   "id": "0aeebadb-789f-4d84-8a44-85caa64d13ad",
   "metadata": {},
   "outputs": [],
   "source": [
    "#2,#3,#4 Multithreading is used to improve the performance of a program by using multiple CPUs or CPU cores.\n",
    "import time\n",
    "def square(x,l):\n",
    "    sq=x**2\n",
    "    l.append(sq)\n",
    "    print(\"returning square of %d : %d\" %(x,sq))\n",
    "    \n",
    "    time.sleep(1)\n"
   ]
  },
  {
   "cell_type": "code",
   "execution_count": 3,
   "id": "46194056-6255-4c55-a27a-455272ec88e1",
   "metadata": {},
   "outputs": [],
   "source": [
    "import threading"
   ]
  },
  {
   "cell_type": "code",
   "execution_count": 34,
   "id": "7fd55471-e6e6-4ed1-9d89-8c526bac6f8d",
   "metadata": {},
   "outputs": [],
   "source": []
  },
  {
   "cell_type": "code",
   "execution_count": 69,
   "id": "f7a4d0d9-7c2a-4a1e-bdf6-a704a35178ca",
   "metadata": {},
   "outputs": [],
   "source": [
    "l=[]\n",
    "def cube(x,l):\n",
    "    l.append(x**3)\n",
    "    print(\"returning cube of %d : %d\" %(x,x**3))\n",
    "    \n",
    "    time.sleep(1)\n",
    "m1= [threading.Thread(target=square,args=(i,l)) for i in [1,2,3,4,5,6]]\n",
    "m2= [threading.Thread(target=cube,args=(i,l)) for i in [1,2,3,4,5,6]]"
   ]
  },
  {
   "cell_type": "code",
   "execution_count": 70,
   "id": "660a274b-b893-4ae0-a1c7-bd3f636c02fb",
   "metadata": {},
   "outputs": [
    {
     "name": "stdout",
     "output_type": "stream",
     "text": [
      "returning square of 1 : 1\n",
      "8 <_MainThread(MainThread, started 139866153948992)> [<_MainThread(MainThread, started 139866153948992)>, <Thread(IOPub, started daemon 139866012644928)>, <Heartbeat(Heartbeat, started daemon 139866004252224)>, <Thread(Thread-3 (_watch_pipe_fd), started daemon 139865979074112)>, <Thread(Thread-4 (_watch_pipe_fd), started daemon 139865970681408)>, <ControlThread(Control, started daemon 139865962288704)>, <HistorySavingThread(IPythonHistorySavingThread, started 139865609991744)>, <ParentPollerUnix(Thread-2, started daemon 139865601599040)>] True\n",
      "returning square of 2 : 4\n",
      "8 <_MainThread(MainThread, started 139866153948992)> [<_MainThread(MainThread, started 139866153948992)>, <Thread(IOPub, started daemon 139866012644928)>, <Heartbeat(Heartbeat, started daemon 139866004252224)>, <Thread(Thread-3 (_watch_pipe_fd), started daemon 139865979074112)>, <Thread(Thread-4 (_watch_pipe_fd), started daemon 139865970681408)>, <ControlThread(Control, started daemon 139865962288704)>, <HistorySavingThread(IPythonHistorySavingThread, started 139865609991744)>, <ParentPollerUnix(Thread-2, started daemon 139865601599040)>] True\n",
      "returning square of 3 : 9\n",
      "8 <_MainThread(MainThread, started 139866153948992)> [<_MainThread(MainThread, started 139866153948992)>, <Thread(IOPub, started daemon 139866012644928)>, <Heartbeat(Heartbeat, started daemon 139866004252224)>, <Thread(Thread-3 (_watch_pipe_fd), started daemon 139865979074112)>, <Thread(Thread-4 (_watch_pipe_fd), started daemon 139865970681408)>, <ControlThread(Control, started daemon 139865962288704)>, <HistorySavingThread(IPythonHistorySavingThread, started 139865609991744)>, <ParentPollerUnix(Thread-2, started daemon 139865601599040)>] True\n",
      "returning square of 4 : 16\n",
      "8 <_MainThread(MainThread, started 139866153948992)> [<_MainThread(MainThread, started 139866153948992)>, <Thread(IOPub, started daemon 139866012644928)>, <Heartbeat(Heartbeat, started daemon 139866004252224)>, <Thread(Thread-3 (_watch_pipe_fd), started daemon 139865979074112)>, <Thread(Thread-4 (_watch_pipe_fd), started daemon 139865970681408)>, <ControlThread(Control, started daemon 139865962288704)>, <HistorySavingThread(IPythonHistorySavingThread, started 139865609991744)>, <ParentPollerUnix(Thread-2, started daemon 139865601599040)>] True\n",
      "returning square of 5 : 25\n",
      "8 <_MainThread(MainThread, started 139866153948992)> [<_MainThread(MainThread, started 139866153948992)>, <Thread(IOPub, started daemon 139866012644928)>, <Heartbeat(Heartbeat, started daemon 139866004252224)>, <Thread(Thread-3 (_watch_pipe_fd), started daemon 139865979074112)>, <Thread(Thread-4 (_watch_pipe_fd), started daemon 139865970681408)>, <ControlThread(Control, started daemon 139865962288704)>, <HistorySavingThread(IPythonHistorySavingThread, started 139865609991744)>, <ParentPollerUnix(Thread-2, started daemon 139865601599040)>] True\n",
      "returning square of 6 : 36\n",
      "8 <_MainThread(MainThread, started 139866153948992)> [<_MainThread(MainThread, started 139866153948992)>, <Thread(IOPub, started daemon 139866012644928)>, <Heartbeat(Heartbeat, started daemon 139866004252224)>, <Thread(Thread-3 (_watch_pipe_fd), started daemon 139865979074112)>, <Thread(Thread-4 (_watch_pipe_fd), started daemon 139865970681408)>, <ControlThread(Control, started daemon 139865962288704)>, <HistorySavingThread(IPythonHistorySavingThread, started 139865609991744)>, <ParentPollerUnix(Thread-2, started daemon 139865601599040)>] True\n"
     ]
    }
   ],
   "source": [
    "\n",
    "for t in m1:\n",
    "    \n",
    "    t.start()\n",
    "    d=t.is_alive()#Return whether the thread is alive.\n",
    "    t.join()#This blocks the calling thread until the thread whose join() method is called terminates -- either normally or through an unhandled exception or until the optional timeout occurs\n",
    "   \n",
    "    a=threading.active_count()# returns the active threads\n",
    "    b=threading.current_thread()# return the current thread\n",
    "    c=threading.enumerate()#returns the list of all thread objects currently alive\n",
    "    print(a,b,c,d)\n",
    "    # run() Method representing the thread's activity."
   ]
  },
  {
   "cell_type": "code",
   "execution_count": 71,
   "id": "f0481034-edf3-4e1f-9865-6f684c897c9c",
   "metadata": {},
   "outputs": [
    {
     "name": "stdout",
     "output_type": "stream",
     "text": [
      "returning cube of 1 : 1\n",
      "returning cube of 2 : 8\n",
      "returning cube of 3 : 27\n",
      "returning cube of 4 : 64\n",
      "returning cube of 5 : 125\n",
      "returning cube of 6 : 216\n"
     ]
    }
   ],
   "source": [
    "\n",
    "for t in m2:\n",
    "    \n",
    "    t.start()\n",
    "    t.join()#This blocks the calling thread until the thread whose join() method is called terminates -- either normally or through an unhandled exception or until the optional timeout occurs\n",
    "    \n",
    "    "
   ]
  },
  {
   "cell_type": "code",
   "execution_count": 72,
   "id": "b7552198-11d2-4dc9-a0dc-e315e0ef1b60",
   "metadata": {},
   "outputs": [
    {
     "data": {
      "text/plain": [
       "[1, 4, 9, 16, 25, 36, 1, 8, 27, 64, 125, 216]"
      ]
     },
     "execution_count": 72,
     "metadata": {},
     "output_type": "execute_result"
    }
   ],
   "source": [
    "l"
   ]
  },
  {
   "cell_type": "code",
   "execution_count": 74,
   "id": "d6e9e5bd-099f-4af6-b36a-c58a61ae3c94",
   "metadata": {},
   "outputs": [],
   "source": [
    "#5 \n",
    "#Advantages\n",
    "#Enhanced performance by decreased development time\n",
    "#Simplified and streamlined program coding\n",
    "#Improvised GUI responsiveness\n",
    "#Simultaneous and parallelized occurrence of tasks\n",
    "#Better use of cache storage by utilization of resources\n",
    "#Decreased cost of maintenance\n",
    "#Better use of CPU resource\n",
    "\n",
    "# Disadvantages\n",
    "#Complex debugging and testing processes\n",
    "#Overhead switching of context\n",
    "#Increased potential for deadlock occurrence\n",
    "#Increased difficulty level in writing a program\n",
    "#Unpredictable results"
   ]
  },
  {
   "cell_type": "code",
   "execution_count": null,
   "id": "d5937e21-934f-4993-83de-384753a85c50",
   "metadata": {},
   "outputs": [],
   "source": [
    "#6 A race condition occurs when two threads use the same variable at a given time. Deadlock exists when two threads seek one lock simultaneously. "
   ]
  }
 ],
 "metadata": {
  "kernelspec": {
   "display_name": "Python 3 (ipykernel)",
   "language": "python",
   "name": "python3"
  },
  "language_info": {
   "codemirror_mode": {
    "name": "ipython",
    "version": 3
   },
   "file_extension": ".py",
   "mimetype": "text/x-python",
   "name": "python",
   "nbconvert_exporter": "python",
   "pygments_lexer": "ipython3",
   "version": "3.10.8"
  }
 },
 "nbformat": 4,
 "nbformat_minor": 5
}
