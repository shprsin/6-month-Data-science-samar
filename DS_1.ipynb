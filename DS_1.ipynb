{
 "cells": [
  {
   "cell_type": "code",
   "execution_count": 1,
   "id": "9728daa2-fa73-4392-92b7-e3768b1792ec",
   "metadata": {},
   "outputs": [],
   "source": [
    "#q1"
   ]
  },
  {
   "cell_type": "code",
   "execution_count": 2,
   "id": "21b040d3-9b79-485f-8ea7-964f5408702c",
   "metadata": {},
   "outputs": [],
   "source": [
    "# Decision trees is a type of supervised machine learning algorithm that is used by the Train Using AutoML tool\n",
    "# and classifies or regresses the data using true or false answers to certain questions. The resulting structure,\n",
    "# when visualized, is in the form of a tree with different types of nodes—root, internal, and leaf."
   ]
  },
  {
   "cell_type": "code",
   "execution_count": 3,
   "id": "7fa0a228-8f82-4256-972e-34eae1b95da3",
   "metadata": {},
   "outputs": [],
   "source": [
    "#q2"
   ]
  },
  {
   "cell_type": "code",
   "execution_count": 5,
   "id": "6fc40c7a-00a0-493b-972a-74409f3d35ee",
   "metadata": {},
   "outputs": [],
   "source": [
    "# The steps are:\n",
    "#     1. Load the dataset and clean it.\n",
    "#     2. USe Information Gain to select the Feature to Start the splitting from given by the Formula Information Gain = entropy(parent) – [average entropy(children)]\n",
    "#        The Higher the Information Gain the better the Feature is For Splitting.\n",
    "#     3. Calculate pi is the probability of class i Compute it as the proportion of class i in the set.\n",
    "#        Entropy comes from information theory. The higher the entropy the more the information content. \n",
    "#        Entropy can be calculated for a random variable X with k in K discrete states as follows: H(X) = -sum(each k in K p(k) * log(p(k)))\n",
    "#        Calculate Gini impurity=1- sum(each k in K p(k) **2)\n",
    "        \n",
    "#     4. based on the above the Further Splitting is Done using different Features.\n",
    "#     5. The Process is repeated until we reach teh Leaf Nodes or A max depth can be used to prevent overfitting\n"
   ]
  },
  {
   "cell_type": "markdown",
   "id": "99d5128a-ae1d-4f96-860e-f5d426f5c257",
   "metadata": {},
   "source": [
    "### "
   ]
  },
  {
   "cell_type": "code",
   "execution_count": 7,
   "id": "eed1de5e-1d64-4c6e-9238-9a5d91f19f92",
   "metadata": {},
   "outputs": [],
   "source": [
    "#Q3"
   ]
  },
  {
   "cell_type": "code",
   "execution_count": 8,
   "id": "3306456c-5b9d-472f-8f11-b60bf431f926",
   "metadata": {},
   "outputs": [],
   "source": [
    "#A Binary Decision Tree is a structure based on a sequential decision process. Starting from the root, \n",
    "# a feature is evaluated and one of the two branches is selected. This procedure is repeated until a final leaf\n",
    "# is reached, which normally represents the classification target you're looking for.\n",
    "# We can use the Process in Q2 to reach the Conclusion.\n"
   ]
  },
  {
   "cell_type": "code",
   "execution_count": 9,
   "id": "dcbe50f0-c5d0-4265-8654-067ab5dd995d",
   "metadata": {},
   "outputs": [],
   "source": [
    "#Q4"
   ]
  },
  {
   "cell_type": "code",
   "execution_count": 10,
   "id": "67fa9374-e3f5-461a-ac48-3224745043cc",
   "metadata": {},
   "outputs": [],
   "source": [
    "# Geometric Intuition\n",
    "# Every decision that we make at internal node, it will create a hyperplane – in other words, corresponding \n",
    "# to every decision / splitting of the data set, we will have a hyperplane. All of your hyperplanes are axis-parallel\n",
    "# – they are parallel to either X-axis or Y-axis."
   ]
  },
  {
   "cell_type": "code",
   "execution_count": 11,
   "id": "22f4ffa1-719f-4e52-acbd-142932d76eea",
   "metadata": {},
   "outputs": [],
   "source": [
    "#q5"
   ]
  },
  {
   "cell_type": "code",
   "execution_count": 12,
   "id": "12e9e1e3-6bed-4db3-b6b5-8f27934ed022",
   "metadata": {},
   "outputs": [],
   "source": [
    "# A confusion matrix, also known as an error matrix, is a summarized table used to assess the performance of a \n",
    "# classification model. The number of correct and incorrect predictions are summarized with count values and \n",
    "# broken down by each class."
   ]
  },
  {
   "cell_type": "code",
   "execution_count": 13,
   "id": "2649bfd2-9ec2-406a-b1d6-0abe1f319065",
   "metadata": {},
   "outputs": [],
   "source": [
    "#Q6"
   ]
  },
  {
   "cell_type": "code",
   "execution_count": 14,
   "id": "49de8dda-eeda-4b0b-9492-76d31ffdb269",
   "metadata": {},
   "outputs": [],
   "source": [
    "import numpy as np"
   ]
  },
  {
   "cell_type": "code",
   "execution_count": 26,
   "id": "98e2b122-39a6-4878-9ff8-80615ee3fe1b",
   "metadata": {},
   "outputs": [
    {
     "data": {
      "text/plain": [
       "matrix([[23, 43],\n",
       "        [ 5,  7]])"
      ]
     },
     "execution_count": 26,
     "metadata": {},
     "output_type": "execute_result"
    }
   ],
   "source": [
    "a=np.matrix([[23,43],[5,7]])\n",
    "a"
   ]
  },
  {
   "cell_type": "code",
   "execution_count": 16,
   "id": "b4b73808-f3bd-4e96-911a-8fdcd19ed571",
   "metadata": {},
   "outputs": [],
   "source": [
    "TP=23\n",
    "TN=7\n",
    "FN=43\n",
    "FP=5\n",
    "Beta=1"
   ]
  },
  {
   "cell_type": "code",
   "execution_count": 18,
   "id": "2b83ec3e-cff1-4860-8c72-208b6c627d1d",
   "metadata": {},
   "outputs": [],
   "source": [
    "Accuracy=(TP+TN)/(TP+TN+FP+FN)\n",
    "Precision= (TP)/TP+FP\n",
    "Recall=TP/TP+FN\n",
    "F_Beat_Score=(1+Beta**2)*(Precision*Recall)/(Precision+Recall)"
   ]
  },
  {
   "cell_type": "code",
   "execution_count": 20,
   "id": "ac9d4440-96d6-4fe8-bc39-330a8bd46b6a",
   "metadata": {},
   "outputs": [
    {
     "data": {
      "text/plain": [
       "[0.38461538461538464, 6.0, 44.0, 10.56]"
      ]
     },
     "execution_count": 20,
     "metadata": {},
     "output_type": "execute_result"
    }
   ],
   "source": [
    "[Accuracy,Precision,Recall,F_Beat_Score]"
   ]
  },
  {
   "cell_type": "code",
   "execution_count": 21,
   "id": "cacb5fcf-44c6-4fdf-8361-f8221280c6f9",
   "metadata": {},
   "outputs": [],
   "source": [
    "#q7"
   ]
  },
  {
   "cell_type": "code",
   "execution_count": 22,
   "id": "f2d7747f-7eef-4476-977e-bdb6fa0f2780",
   "metadata": {},
   "outputs": [],
   "source": [
    "# Define your problem type.\n",
    "# Identify your stakeholders and goals.\n",
    "# Choose relevant and interpretable metrics.\n",
    "# Consider multiple and complementary metrics.\n",
    "# Evaluate the trade-offs between metrics."
   ]
  },
  {
   "cell_type": "code",
   "execution_count": 23,
   "id": "52a7c3d9-4605-4fcd-8cae-f65094cc580b",
   "metadata": {},
   "outputs": [],
   "source": [
    "# # Evaluation metrics are indispensable tools in machine learning that provide insights into the \n",
    "# effectiveness of models. They guide the model development process and help stakeholders make informed decisions based on model performance."
   ]
  },
  {
   "cell_type": "code",
   "execution_count": 25,
   "id": "7d86dace-1d96-4569-b151-fbcda6e1e9b7",
   "metadata": {},
   "outputs": [],
   "source": [
    "#q8"
   ]
  },
  {
   "cell_type": "code",
   "execution_count": 27,
   "id": "61fad569-7c02-469c-a5a0-429ec86af9c6",
   "metadata": {},
   "outputs": [],
   "source": [
    "#Consider a Problem of Email Marking Spam no Spam\n",
    "# In the above a 'not spam' email being marked as Spam'' can be highly detrimental for any org using the ML Algorithm.\n",
    "# Hence Precision would be Important as True Positive is important\n",
    "Precision= (TP)/TP+FP"
   ]
  },
  {
   "cell_type": "code",
   "execution_count": 28,
   "id": "8265f4f6-b49d-471f-be8a-07268dc86eaa",
   "metadata": {},
   "outputs": [],
   "source": [
    "#Q9"
   ]
  },
  {
   "cell_type": "code",
   "execution_count": 29,
   "id": "4dcb5a44-9824-4d2f-8b14-c8cb831a4f87",
   "metadata": {},
   "outputs": [],
   "source": [
    "# For example, in the case of COVID-19 detection, we want to avoid false negatives as much as possible. \n",
    "# COVID-19 spreads easily, and thus we want the patient to take appropriate measures to prevent the spread. \n",
    "# A false negative case means that a COVID-positive patient is assessed to not have the disease, which is \n",
    "# detrimental. In this use case, false positives (a healthy patient diagnosed as COVID-positive) are not as \n",
    "# important as preventing a contagious patient from spreading the disease. In most high-risk disease detection \n",
    "# cases (like cancer), recall is a more important evaluation"
   ]
  },
  {
   "cell_type": "code",
   "execution_count": null,
   "id": "78be52c7-9c72-49cc-924c-f96695d7c2bc",
   "metadata": {},
   "outputs": [],
   "source": []
  }
 ],
 "metadata": {
  "kernelspec": {
   "display_name": "Python 3 (ipykernel)",
   "language": "python",
   "name": "python3"
  },
  "language_info": {
   "codemirror_mode": {
    "name": "ipython",
    "version": 3
   },
   "file_extension": ".py",
   "mimetype": "text/x-python",
   "name": "python",
   "nbconvert_exporter": "python",
   "pygments_lexer": "ipython3",
   "version": "3.10.8"
  }
 },
 "nbformat": 4,
 "nbformat_minor": 5
}
