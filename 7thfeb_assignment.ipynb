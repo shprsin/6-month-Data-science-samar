{
 "cells": [
  {
   "cell_type": "code",
   "execution_count": 12,
   "id": "f8c854ec-aea1-4d14-96d0-36c80f8c1658",
   "metadata": {},
   "outputs": [],
   "source": [
    "import string\n",
    "def password1(a):\n",
    "    if len(a)==10:\n",
    "        l=list(a)\n",
    "        u=list(filter(lambda x: x.isupper(),l))\n",
    "        s=list(filter(lambda x: x.islower(),l))\n",
    "        n=list(filter(lambda x: x.isnumeric(),l))\n",
    "        special_chars = string.punctuation\n",
    "        sp=list(filter(lambda x: x in special_chars,l))\n",
    "        if len(u)>=2 and len(s)>=2 and len(n)>=1 and len(sp)>=3:\n",
    "            print(\"Valid Password\")\n",
    "        else: \n",
    "            print(\"Invalid Password\")\n",
    "            \n",
    "    else:\n",
    "        print(\"Invalid Password\")\n",
    "      \n",
    "                \n",
    "        "
   ]
  },
  {
   "cell_type": "code",
   "execution_count": 13,
   "id": "d0152b91-4b9d-4a42-a341-5c453260f213",
   "metadata": {},
   "outputs": [
    {
     "name": "stdin",
     "output_type": "stream",
     "text": [
      "Enter your Password abc\n"
     ]
    },
    {
     "name": "stdout",
     "output_type": "stream",
     "text": [
      "Invalid Password\n"
     ]
    }
   ],
   "source": [
    "a=input(\"Enter your Password\")\n",
    "password1(a)\n"
   ]
  },
  {
   "cell_type": "code",
   "execution_count": 14,
   "id": "64c92b2a-4a11-43c9-972e-7d19bef11873",
   "metadata": {},
   "outputs": [
    {
     "name": "stdin",
     "output_type": "stream",
     "text": [
      "Enter your Password Sub@L@M@n3\n"
     ]
    },
    {
     "name": "stdout",
     "output_type": "stream",
     "text": [
      "Valid Password\n"
     ]
    }
   ],
   "source": [
    "a=input(\"Enter your Password\")\n",
    "password1(a)"
   ]
  },
  {
   "cell_type": "code",
   "execution_count": 15,
   "id": "7de3fdf5-ad6f-4fcb-b320-e8882f486ecb",
   "metadata": {},
   "outputs": [],
   "source": [
    "#Q2"
   ]
  },
  {
   "cell_type": "code",
   "execution_count": 78,
   "id": "0cb197e1-4ec8-4fa8-a021-1ba6536abf8b",
   "metadata": {},
   "outputs": [],
   "source": [
    "a=\"Abcd\"\n",
    "A=list(a)\n",
    "l=[1,2,3,4,5,6,7,8,9,10]\n",
    "l2=[1,2,3,4,5,6,-1,-2,-3,-4,-5,0]\n",
    "t=[(\"mango\",99),(\"orange\",80),(\"grapes\", 1000)]"
   ]
  },
  {
   "cell_type": "code",
   "execution_count": 44,
   "id": "436de473-4dd5-4a0a-b5a7-e6b368fc8090",
   "metadata": {},
   "outputs": [],
   "source": [
    "from functools import reduce\n"
   ]
  },
  {
   "cell_type": "code",
   "execution_count": 56,
   "id": "4e92928d-70ff-4c5f-a5e0-c1c839856310",
   "metadata": {},
   "outputs": [],
   "source": [
    "def num(a):\n",
    "    b=list(map(lambda x:x.isnumeric(),a))\n",
    "    for i in b:\n",
    "        if i==False:\n",
    "            print(\"String is not numeric\")\n",
    "            break\n"
   ]
  },
  {
   "cell_type": "code",
   "execution_count": 57,
   "id": "9a1ea7cc-5167-47a8-a820-192ff7c791c3",
   "metadata": {},
   "outputs": [
    {
     "name": "stdout",
     "output_type": "stream",
     "text": [
      "String is not numeric\n"
     ]
    }
   ],
   "source": [
    "num(a)"
   ]
  },
  {
   "cell_type": "code",
   "execution_count": 58,
   "id": "724c760c-bd94-40df-bba4-094a6b09d4d8",
   "metadata": {},
   "outputs": [],
   "source": [
    "def start_with(a):\n",
    "    l=list(a)\n",
    "    if l[0]=='A':\n",
    "        print(\"Starts with Letter :\",l[0])"
   ]
  },
  {
   "cell_type": "code",
   "execution_count": 59,
   "id": "eea3b199-8fa2-478e-b6cc-05472d312db4",
   "metadata": {},
   "outputs": [
    {
     "name": "stdout",
     "output_type": "stream",
     "text": [
      "Starts with Letter : A\n"
     ]
    }
   ],
   "source": [
    "start_with(a)"
   ]
  },
  {
   "cell_type": "code",
   "execution_count": 60,
   "id": "e8b6be55-ac59-4489-b004-208ba4ef255e",
   "metadata": {},
   "outputs": [],
   "source": [
    "def sq(l):\n",
    "    y=list(map(lambda x:x**2,l))\n",
    "    print(y)"
   ]
  },
  {
   "cell_type": "code",
   "execution_count": 61,
   "id": "9499b37d-9a36-4191-8ab2-8bb9acf789a1",
   "metadata": {},
   "outputs": [
    {
     "name": "stdout",
     "output_type": "stream",
     "text": [
      "[1, 4, 9, 16, 25, 36, 49, 64, 81, 100]\n"
     ]
    }
   ],
   "source": [
    "sq(l)"
   ]
  },
  {
   "cell_type": "code",
   "execution_count": 62,
   "id": "7a89f939-5db7-40eb-9108-c3f516451352",
   "metadata": {},
   "outputs": [],
   "source": [
    "def cubr(l):\n",
    "    y=list(map(lambda x:x**(1/3),l))\n",
    "    print(y)"
   ]
  },
  {
   "cell_type": "code",
   "execution_count": 63,
   "id": "23b4ad6d-6815-4f41-8f6e-d080fe942899",
   "metadata": {},
   "outputs": [
    {
     "name": "stdout",
     "output_type": "stream",
     "text": [
      "[1.0, 1.2599210498948732, 1.4422495703074083, 1.5874010519681994, 1.7099759466766968, 1.8171205928321397, 1.912931182772389, 2.0, 2.080083823051904, 2.154434690031884]\n"
     ]
    }
   ],
   "source": [
    "cubr(l)"
   ]
  },
  {
   "cell_type": "code",
   "execution_count": 68,
   "id": "4dd766d8-88e3-4aed-ad92-f7a12c1ef9af",
   "metadata": {},
   "outputs": [],
   "source": [
    "def is_even(l):\n",
    "    y=list(filter(lambda x:x%2==0,l))\n",
    "    print(y)"
   ]
  },
  {
   "cell_type": "code",
   "execution_count": 69,
   "id": "1f35b71d-fca9-422e-bd5e-a1e4103d69b4",
   "metadata": {},
   "outputs": [
    {
     "name": "stdout",
     "output_type": "stream",
     "text": [
      "[2, 4, 6, 8, 10]\n"
     ]
    }
   ],
   "source": [
    "is_even(l)"
   ]
  },
  {
   "cell_type": "code",
   "execution_count": 70,
   "id": "b183a5ca-3584-49cc-a8ad-f3f1366b32ea",
   "metadata": {},
   "outputs": [],
   "source": [
    "def is_odd(l):\n",
    "    y=list(filter(lambda x:x%2==1,l))\n",
    "    print(y)"
   ]
  },
  {
   "cell_type": "code",
   "execution_count": 71,
   "id": "48309d54-15ab-44da-be09-acaf88e50be5",
   "metadata": {},
   "outputs": [
    {
     "name": "stdout",
     "output_type": "stream",
     "text": [
      "[1, 3, 5, 7, 9]\n"
     ]
    }
   ],
   "source": [
    "is_odd(l)"
   ]
  },
  {
   "cell_type": "code",
   "execution_count": 76,
   "id": "2756b3e6-4efd-4bf2-9a7d-45f1b05f1536",
   "metadata": {},
   "outputs": [],
   "source": [
    "def div(l):\n",
    "    y=list(filter(lambda x:x>=0,l))\n",
    "    z=list(filter(lambda x:x<0,l))\n",
    "    print(\"Positive:\",y)\n",
    "    print(\"Negative\",z)"
   ]
  },
  {
   "cell_type": "code",
   "execution_count": 77,
   "id": "c3fbfd21-d1ad-4032-a4a8-176e6242ebe8",
   "metadata": {},
   "outputs": [
    {
     "name": "stdout",
     "output_type": "stream",
     "text": [
      "Positive: [1, 2, 3, 4, 5, 6, 0]\n",
      "Negative [-1, -2, -3, -4, -5]\n"
     ]
    }
   ],
   "source": [
    "div(l2)"
   ]
  },
  {
   "cell_type": "code",
   "execution_count": 86,
   "id": "de4df704-42a8-4714-bf8d-ad47804ceb89",
   "metadata": {},
   "outputs": [],
   "source": [
    "t.sort(key = lambda x:x[1])\n",
    "    "
   ]
  },
  {
   "cell_type": "code",
   "execution_count": 87,
   "id": "8fb96a7e-7d07-4b1a-91f0-0009433cf6be",
   "metadata": {},
   "outputs": [
    {
     "data": {
      "text/plain": [
       "[('orange', 80), ('mango', 99), ('grapes', 1000)]"
      ]
     },
     "execution_count": 87,
     "metadata": {},
     "output_type": "execute_result"
    }
   ],
   "source": [
    "t"
   ]
  },
  {
   "cell_type": "code",
   "execution_count": null,
   "id": "dbaf0c5e-4511-4cd3-8e4e-8d95ccf44c2e",
   "metadata": {},
   "outputs": [],
   "source": []
  }
 ],
 "metadata": {
  "kernelspec": {
   "display_name": "Python 3 (ipykernel)",
   "language": "python",
   "name": "python3"
  },
  "language_info": {
   "codemirror_mode": {
    "name": "ipython",
    "version": 3
   },
   "file_extension": ".py",
   "mimetype": "text/x-python",
   "name": "python",
   "nbconvert_exporter": "python",
   "pygments_lexer": "ipython3",
   "version": "3.10.8"
  }
 },
 "nbformat": 4,
 "nbformat_minor": 5
}
