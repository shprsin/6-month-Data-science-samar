{
 "cells": [
  {
   "cell_type": "code",
   "execution_count": null,
   "id": "4f803562-d739-4fa8-b3ad-34ba75293c90",
   "metadata": {},
   "outputs": [],
   "source": [
    "#1 SQL databases are relational, and NoSQL databases are non-relational."
   ]
  },
  {
   "cell_type": "code",
   "execution_count": 1,
   "id": "6526e05e-d520-4dc7-a90c-91e574cc9eff",
   "metadata": {},
   "outputs": [],
   "source": [
    "#SQL databases use structured query language (SQL) and have a predefined schema.NoSQL databases have dynamic schemas for unstructured data. "
   ]
  },
  {
   "cell_type": "code",
   "execution_count": 2,
   "id": "09d342f9-6ea3-47f8-9969-ef6a3ba2653d",
   "metadata": {},
   "outputs": [],
   "source": [
    "#SQL databases are vertically scalable, while NoSQL databases are horizontally scalable.\n"
   ]
  },
  {
   "cell_type": "code",
   "execution_count": 3,
   "id": "61ee4839-e853-45ea-9d16-f34735a4b606",
   "metadata": {},
   "outputs": [],
   "source": [
    "# Q2"
   ]
  },
  {
   "cell_type": "code",
   "execution_count": 4,
   "id": "ebd4bdab-be77-4c2a-a1b1-3b8542b760df",
   "metadata": {},
   "outputs": [],
   "source": [
    "#Data Definition Language (DDL) is used to create and modify the structure of objects in a database using predefined commands and a specific syntax."
   ]
  },
  {
   "cell_type": "code",
   "execution_count": 8,
   "id": "e59d3eee-c624-4a33-b232-df5f6ffa1045",
   "metadata": {},
   "outputs": [],
   "source": [
    "#create table test(c int);\n",
    "#drop table test;\n",
    "#Alter table test add email varchar(25);\n",
    "#TRUNCATE TABLE Categories"
   ]
  },
  {
   "cell_type": "code",
   "execution_count": 5,
   "id": "a5a4b134-0ff6-48a2-8081-c18ab8c8e010",
   "metadata": {},
   "outputs": [],
   "source": [
    "#Q3\n",
    "#DML is an abbreviation for Data Manipulation Language. Represents a collection of programming languages explicitly used to make changes to the database, such as: CRUD operations to create, read, update and delete data. Using INSERT, SELECT, UPDATE, and DELETE commands."
   ]
  },
  {
   "cell_type": "code",
   "execution_count": 6,
   "id": "dc9364f7-a106-4400-91ac-867627c90b8d",
   "metadata": {},
   "outputs": [],
   "source": [
    "#insert into test values(4);\n",
    "#update test set c=1 where c=4;\n",
    "#delete from test where c=1;"
   ]
  },
  {
   "cell_type": "code",
   "execution_count": 7,
   "id": "274532b2-2142-4558-89d8-3accf8b58b99",
   "metadata": {},
   "outputs": [],
   "source": [
    "#Q4\n",
    "#DQL (data query language) – this is used to perform queries on the data and find information, and is composed of COMMAND statements only."
   ]
  },
  {
   "cell_type": "code",
   "execution_count": 9,
   "id": "f711062f-4562-4719-ad84-ac7440eb5893",
   "metadata": {},
   "outputs": [],
   "source": [
    "#select * from test;"
   ]
  },
  {
   "cell_type": "code",
   "execution_count": 10,
   "id": "7ce67c75-530d-44f7-aab8-0fed811d26f2",
   "metadata": {},
   "outputs": [],
   "source": [
    "#Q5\n",
    "# Primary key is a unique identifier for each record in a table. A foreign key establishes a relationship between tables by referencing the primary key of another table."
   ]
  },
  {
   "cell_type": "code",
   "execution_count": 11,
   "id": "570afa0e-0e63-472c-9764-6ab91aba39ac",
   "metadata": {},
   "outputs": [
    {
     "ename": "ModuleNotFoundError",
     "evalue": "No module named 'mysql'",
     "output_type": "error",
     "traceback": [
      "\u001b[0;31m---------------------------------------------------------------------------\u001b[0m",
      "\u001b[0;31mModuleNotFoundError\u001b[0m                       Traceback (most recent call last)",
      "Cell \u001b[0;32mIn[11], line 2\u001b[0m\n\u001b[1;32m      1\u001b[0m \u001b[38;5;66;03m#Q6\u001b[39;00m\n\u001b[0;32m----> 2\u001b[0m \u001b[38;5;28;01mimport\u001b[39;00m \u001b[38;5;21;01mmysql\u001b[39;00m\u001b[38;5;21;01m.\u001b[39;00m\u001b[38;5;21;01mconnector\u001b[39;00m\n\u001b[1;32m      3\u001b[0m mydb \u001b[38;5;241m=\u001b[39m mysql\u001b[38;5;241m.\u001b[39mconnector\u001b[38;5;241m.\u001b[39mconnect(\n\u001b[1;32m      4\u001b[0m   host\u001b[38;5;241m=\u001b[39m\u001b[38;5;124m\"\u001b[39m\u001b[38;5;124mlocalhost\u001b[39m\u001b[38;5;124m\"\u001b[39m,\n\u001b[1;32m      5\u001b[0m   user\u001b[38;5;241m=\u001b[39m\u001b[38;5;124m\"\u001b[39m\u001b[38;5;124mabc\u001b[39m\u001b[38;5;124m\"\u001b[39m,\n\u001b[1;32m      6\u001b[0m   password\u001b[38;5;241m=\u001b[39m\u001b[38;5;124m\"\u001b[39m\u001b[38;5;124mpassword\u001b[39m\u001b[38;5;124m\"\u001b[39m\n\u001b[1;32m      7\u001b[0m )\n\u001b[1;32m      9\u001b[0m mycursor \u001b[38;5;241m=\u001b[39m mydb\u001b[38;5;241m.\u001b[39mcursor()\n",
      "\u001b[0;31mModuleNotFoundError\u001b[0m: No module named 'mysql'"
     ]
    }
   ],
   "source": [
    "#Q6\n",
    "import mysql.connector\n",
    "mydb = mysql.connector.connect(\n",
    "  host=\"localhost\",\n",
    "  user=\"abc\",\n",
    "  password=\"password\"\n",
    ")\n",
    "\n",
    "mycursor = mydb.cursor() #It is used to assign a pointer to the database.\n",
    "mycursor.execute(\"Create Database if not exists test1\") # used to exceute a statement in sql"
   ]
  },
  {
   "cell_type": "code",
   "execution_count": 12,
   "id": "2d65481e-9f57-4b5c-bcce-b253de29ac12",
   "metadata": {},
   "outputs": [],
   "source": [
    "#Q7"
   ]
  },
  {
   "cell_type": "code",
   "execution_count": null,
   "id": "871405de-ff53-43b7-bb18-c6ac2005130f",
   "metadata": {},
   "outputs": [],
   "source": [
    "#FROM/JOIN. The FROM and/or JOIN clauses are executed first to determine the data of interest.\n",
    "#WHERE. The WHERE clause is executed to filter out records that do not meet the constraints.\n",
    "#GROUP BY. ...\n",
    "HAVING. ...\n",
    "SELECT. ...\n",
    "ORDER BY. ...\n",
    "LIMIT/OFFSET."
   ]
  }
 ],
 "metadata": {
  "kernelspec": {
   "display_name": "Python 3 (ipykernel)",
   "language": "python",
   "name": "python3"
  },
  "language_info": {
   "codemirror_mode": {
    "name": "ipython",
    "version": 3
   },
   "file_extension": ".py",
   "mimetype": "text/x-python",
   "name": "python",
   "nbconvert_exporter": "python",
   "pygments_lexer": "ipython3",
   "version": "3.10.8"
  }
 },
 "nbformat": 4,
 "nbformat_minor": 5
}
