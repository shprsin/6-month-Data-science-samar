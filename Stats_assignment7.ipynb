{
 "cells": [
  {
   "cell_type": "code",
   "execution_count": 5,
   "id": "b5e4d0c9-2914-4705-b4f3-8ab3b39f961b",
   "metadata": {},
   "outputs": [],
   "source": [
    "#Q1\n",
    "n=30\n",
    "s_mu=50\n",
    "s_std=5\n",
    "s_val=.05\n",
    "df=n-1"
   ]
  },
  {
   "cell_type": "code",
   "execution_count": 6,
   "id": "3e35e399-8b20-4875-80b6-fe3de618caba",
   "metadata": {},
   "outputs": [],
   "source": [
    "mg=1.96*s_std/n**(1/2)"
   ]
  },
  {
   "cell_type": "code",
   "execution_count": 7,
   "id": "1f0c85a5-0ffe-4bfa-b8fb-7149ad98aff4",
   "metadata": {},
   "outputs": [],
   "source": [
    "pmu_range=[s_mu+mg,s_mu-mg]"
   ]
  },
  {
   "cell_type": "code",
   "execution_count": 8,
   "id": "2fb9715c-a5c5-4110-8860-620a732863dd",
   "metadata": {},
   "outputs": [
    {
     "data": {
      "text/plain": [
       "[51.78922702118354, 48.21077297881646]"
      ]
     },
     "execution_count": 8,
     "metadata": {},
     "output_type": "execute_result"
    }
   ],
   "source": [
    "pmu_range"
   ]
  },
  {
   "cell_type": "code",
   "execution_count": 11,
   "id": "b14b2ae2-362a-44b1-be20-d1991bcef1f6",
   "metadata": {},
   "outputs": [],
   "source": [
    "#Q2\n",
    "#matches the expected distribution of 20% blue, 20% orange, 20% green, 10% yellow, 10% red, and 20% brown."
   ]
  },
  {
   "cell_type": "code",
   "execution_count": 12,
   "id": "9187b11c-1f81-4365-a519-40e29bcbc34f",
   "metadata": {},
   "outputs": [],
   "source": [
    "import scipy.stats as stat\n",
    "import numpy as np"
   ]
  },
  {
   "cell_type": "code",
   "execution_count": 17,
   "id": "013c9639-aeeb-4d0b-9bc7-ce2f42cd7429",
   "metadata": {},
   "outputs": [],
   "source": []
  },
  {
   "cell_type": "code",
   "execution_count": 22,
   "id": "dc24487c-b2c5-4696-a620-6390e1b4d40c",
   "metadata": {},
   "outputs": [],
   "source": [
    "ob_data=[2,1,2,1,2,1]"
   ]
  },
  {
   "cell_type": "code",
   "execution_count": 23,
   "id": "4a22621a-9bea-4239-806f-ccb0c2bb269f",
   "metadata": {},
   "outputs": [],
   "source": [
    "ex_data=[2,2,2,1,1,1]"
   ]
  },
  {
   "cell_type": "code",
   "execution_count": 24,
   "id": "93281edc-0eee-42e4-8ea5-676c8ecd22e6",
   "metadata": {},
   "outputs": [
    {
     "data": {
      "text/plain": [
       "(9, 9)"
      ]
     },
     "execution_count": 24,
     "metadata": {},
     "output_type": "execute_result"
    }
   ],
   "source": [
    "sum(ob_data),sum(ex_data)"
   ]
  },
  {
   "cell_type": "code",
   "execution_count": 28,
   "id": "3e003134-947f-43b9-8f38-be6dc066419c",
   "metadata": {},
   "outputs": [],
   "source": [
    "chisquare_test_statistics,p_value=stat.chisquare(ob_data,ex_data)\n",
    "significance=0.05\n",
    "dof=len(ob_data)-1\n",
    "critical_value=stat.chi2.ppf(1-significance,dof)"
   ]
  },
  {
   "cell_type": "code",
   "execution_count": 30,
   "id": "1cb8f5c1-7dee-4a87-810e-003d820ceca6",
   "metadata": {},
   "outputs": [
    {
     "data": {
      "text/plain": [
       "(1.5, 0.9130698145443954, 11.070497693516351)"
      ]
     },
     "execution_count": 30,
     "metadata": {},
     "output_type": "execute_result"
    }
   ],
   "source": [
    "chisquare_test_statistics,p_value,critical_value"
   ]
  },
  {
   "cell_type": "code",
   "execution_count": 31,
   "id": "8c1b6128-8b0b-467c-a147-1800f3262a43",
   "metadata": {},
   "outputs": [
    {
     "name": "stdout",
     "output_type": "stream",
     "text": [
      "Accept the null hypothesis\n"
     ]
    }
   ],
   "source": [
    "if chisquare_test_statistics > critical_value:\n",
    "    print(\"Reject the null hypothesis\")\n",
    "else:\n",
    "    print(\"Accept the null hypothesis\")"
   ]
  },
  {
   "cell_type": "code",
   "execution_count": 32,
   "id": "3a12f6d1-32ca-48fe-a185-5efcbe6d3265",
   "metadata": {},
   "outputs": [],
   "source": [
    "#Q3"
   ]
  },
  {
   "cell_type": "code",
   "execution_count": null,
   "id": "7bbb2ec7-0ed5-4d46-83d4-cf7a61805a9a",
   "metadata": {},
   "outputs": [],
   "source": []
  },
  {
   "cell_type": "code",
   "execution_count": null,
   "id": "3e75ce39-97a8-430b-af99-e585909d7c46",
   "metadata": {},
   "outputs": [
    {
     "name": "stdout",
     "output_type": "stream",
     "text": [
      "45 60\n"
     ]
    },
    {
     "ename": "ValueError",
     "evalue": "For each axis slice, the sum of the observed frequencies must agree with the sum of the expected frequencies to a relative tolerance of 1e-08, but the percent differences are:\n0.3333333333333333",
     "output_type": "error",
     "traceback": [
      "\u001b[0;31m---------------------------------------------------------------------------\u001b[0m",
      "\u001b[0;31mValueError\u001b[0m                                Traceback (most recent call last)",
      "Cell \u001b[0;32mIn[33], line 4\u001b[0m\n\u001b[1;32m      2\u001b[0m ex_data\u001b[38;5;241m=\u001b[39m[\u001b[38;5;241m15\u001b[39m,\u001b[38;5;241m25\u001b[39m,\u001b[38;5;241m20\u001b[39m]\n\u001b[1;32m      3\u001b[0m \u001b[38;5;28mprint\u001b[39m(\u001b[38;5;28msum\u001b[39m(ob_data),\u001b[38;5;28msum\u001b[39m(ex_data))\n\u001b[0;32m----> 4\u001b[0m chisquare_test_statistics,p_value\u001b[38;5;241m=\u001b[39m\u001b[43mstat\u001b[49m\u001b[38;5;241;43m.\u001b[39;49m\u001b[43mchisquare\u001b[49m\u001b[43m(\u001b[49m\u001b[43mob_data\u001b[49m\u001b[43m,\u001b[49m\u001b[43mex_data\u001b[49m\u001b[43m)\u001b[49m\n\u001b[1;32m      5\u001b[0m significance\u001b[38;5;241m=\u001b[39m\u001b[38;5;241m0.05\u001b[39m\n\u001b[1;32m      6\u001b[0m dof\u001b[38;5;241m=\u001b[39m\u001b[38;5;28mlen\u001b[39m(ob_data)\u001b[38;5;241m-\u001b[39m\u001b[38;5;241m1\u001b[39m\n",
      "File \u001b[0;32m/opt/conda/lib/python3.10/site-packages/scipy/stats/_stats_py.py:7311\u001b[0m, in \u001b[0;36mchisquare\u001b[0;34m(f_obs, f_exp, ddof, axis)\u001b[0m\n\u001b[1;32m   7187\u001b[0m \u001b[38;5;28;01mdef\u001b[39;00m \u001b[38;5;21mchisquare\u001b[39m(f_obs, f_exp\u001b[38;5;241m=\u001b[39m\u001b[38;5;28;01mNone\u001b[39;00m, ddof\u001b[38;5;241m=\u001b[39m\u001b[38;5;241m0\u001b[39m, axis\u001b[38;5;241m=\u001b[39m\u001b[38;5;241m0\u001b[39m):\n\u001b[1;32m   7188\u001b[0m     \u001b[38;5;124;03m\"\"\"Calculate a one-way chi-square test.\u001b[39;00m\n\u001b[1;32m   7189\u001b[0m \n\u001b[1;32m   7190\u001b[0m \u001b[38;5;124;03m    The chi-square test tests the null hypothesis that the categorical data\u001b[39;00m\n\u001b[0;32m   (...)\u001b[0m\n\u001b[1;32m   7309\u001b[0m \n\u001b[1;32m   7310\u001b[0m \u001b[38;5;124;03m    \"\"\"\u001b[39;00m\n\u001b[0;32m-> 7311\u001b[0m     \u001b[38;5;28;01mreturn\u001b[39;00m \u001b[43mpower_divergence\u001b[49m\u001b[43m(\u001b[49m\u001b[43mf_obs\u001b[49m\u001b[43m,\u001b[49m\u001b[43m \u001b[49m\u001b[43mf_exp\u001b[49m\u001b[38;5;241;43m=\u001b[39;49m\u001b[43mf_exp\u001b[49m\u001b[43m,\u001b[49m\u001b[43m \u001b[49m\u001b[43mddof\u001b[49m\u001b[38;5;241;43m=\u001b[39;49m\u001b[43mddof\u001b[49m\u001b[43m,\u001b[49m\u001b[43m \u001b[49m\u001b[43maxis\u001b[49m\u001b[38;5;241;43m=\u001b[39;49m\u001b[43maxis\u001b[49m\u001b[43m,\u001b[49m\n\u001b[1;32m   7312\u001b[0m \u001b[43m                            \u001b[49m\u001b[43mlambda_\u001b[49m\u001b[38;5;241;43m=\u001b[39;49m\u001b[38;5;124;43m\"\u001b[39;49m\u001b[38;5;124;43mpearson\u001b[39;49m\u001b[38;5;124;43m\"\u001b[39;49m\u001b[43m)\u001b[49m\n",
      "File \u001b[0;32m/opt/conda/lib/python3.10/site-packages/scipy/stats/_stats_py.py:7153\u001b[0m, in \u001b[0;36mpower_divergence\u001b[0;34m(f_obs, f_exp, ddof, axis, lambda_)\u001b[0m\n\u001b[1;32m   7147\u001b[0m     \u001b[38;5;28;01mif\u001b[39;00m diff_gt_tol:\n\u001b[1;32m   7148\u001b[0m         msg \u001b[38;5;241m=\u001b[39m (\u001b[38;5;124mf\u001b[39m\u001b[38;5;124m\"\u001b[39m\u001b[38;5;124mFor each axis slice, the sum of the observed \u001b[39m\u001b[38;5;124m\"\u001b[39m\n\u001b[1;32m   7149\u001b[0m                \u001b[38;5;124mf\u001b[39m\u001b[38;5;124m\"\u001b[39m\u001b[38;5;124mfrequencies must agree with the sum of the \u001b[39m\u001b[38;5;124m\"\u001b[39m\n\u001b[1;32m   7150\u001b[0m                \u001b[38;5;124mf\u001b[39m\u001b[38;5;124m\"\u001b[39m\u001b[38;5;124mexpected frequencies to a relative tolerance \u001b[39m\u001b[38;5;124m\"\u001b[39m\n\u001b[1;32m   7151\u001b[0m                \u001b[38;5;124mf\u001b[39m\u001b[38;5;124m\"\u001b[39m\u001b[38;5;124mof \u001b[39m\u001b[38;5;132;01m{\u001b[39;00mrtol\u001b[38;5;132;01m}\u001b[39;00m\u001b[38;5;124m, but the percent differences are:\u001b[39m\u001b[38;5;130;01m\\n\u001b[39;00m\u001b[38;5;124m\"\u001b[39m\n\u001b[1;32m   7152\u001b[0m                \u001b[38;5;124mf\u001b[39m\u001b[38;5;124m\"\u001b[39m\u001b[38;5;132;01m{\u001b[39;00mrelative_diff\u001b[38;5;132;01m}\u001b[39;00m\u001b[38;5;124m\"\u001b[39m)\n\u001b[0;32m-> 7153\u001b[0m         \u001b[38;5;28;01mraise\u001b[39;00m \u001b[38;5;167;01mValueError\u001b[39;00m(msg)\n\u001b[1;32m   7155\u001b[0m \u001b[38;5;28;01melse\u001b[39;00m:\n\u001b[1;32m   7156\u001b[0m     \u001b[38;5;66;03m# Ignore 'invalid' errors so the edge case of a data set with length 0\u001b[39;00m\n\u001b[1;32m   7157\u001b[0m     \u001b[38;5;66;03m# is handled without spurious warnings.\u001b[39;00m\n\u001b[1;32m   7158\u001b[0m     \u001b[38;5;28;01mwith\u001b[39;00m np\u001b[38;5;241m.\u001b[39merrstate(invalid\u001b[38;5;241m=\u001b[39m\u001b[38;5;124m'\u001b[39m\u001b[38;5;124mignore\u001b[39m\u001b[38;5;124m'\u001b[39m):\n",
      "\u001b[0;31mValueError\u001b[0m: For each axis slice, the sum of the observed frequencies must agree with the sum of the expected frequencies to a relative tolerance of 1e-08, but the percent differences are:\n0.3333333333333333"
     ]
    }
   ],
   "source": [
    "ob_data=[20,10,15]\n",
    "ex_data=[15,25,20]\n",
    "print(sum(ob_data),sum(ex_data))\n",
    "chisquare_test_statistics,p_value=stat.chisquare(ob_data,ex_data)\n",
    "significance=0.05\n",
    "dof=len(ob_data)-1\n",
    "critical_value=stat.chi2.ppf(1-significance,dof)\n",
    "print(chisquare_test_statistics,p_value,critical_value)\n",
    "if chisquare_test_statistics > critical_value:\n",
    "    print(\"Reject the null hypothesis\")\n",
    "else:\n",
    "    print(\"Accept the null hypothesis\")"
   ]
  },
  {
   "cell_type": "code",
   "execution_count": 50,
   "id": "8c5148b2-a3a6-47cc-a33f-d8b9b3abd39a",
   "metadata": {},
   "outputs": [],
   "source": [
    "#Q4\n",
    "ob_data=[20,10,15]\n",
    "ex_data=[15,25,20]\n",
    "x=0\n",
    "for i in range(len(ex_data)):\n",
    "    x+=((ob_data[i]-ex_data[i])**2)/ex_data[i]"
   ]
  },
  {
   "cell_type": "code",
   "execution_count": 45,
   "id": "d3a0edeb-0bab-4192-aada-c4f52b1734e6",
   "metadata": {},
   "outputs": [],
   "source": [
    "significance=0.05\n",
    "df=len(ex_data)-1"
   ]
  },
  {
   "cell_type": "code",
   "execution_count": 48,
   "id": "37981a71-7777-41de-b292-5f0aa9005810",
   "metadata": {},
   "outputs": [
    {
     "name": "stdout",
     "output_type": "stream",
     "text": [
      "Reject the null hypothesis\n"
     ]
    }
   ],
   "source": [
    "critical_value=5.991\n",
    "if x > critical_value:\n",
    "    print(\"Reject the null hypothesis\")\n",
    "else:\n",
    "    print(\"Accept the null hypothesis\")"
   ]
  },
  {
   "cell_type": "code",
   "execution_count": 51,
   "id": "b6f78e54-08fd-4bdb-a128-5e99a370763f",
   "metadata": {},
   "outputs": [
    {
     "data": {
      "text/plain": [
       "[77.87225709155709, 72.12774290844291]"
      ]
     },
     "execution_count": 51,
     "metadata": {},
     "output_type": "execute_result"
    }
   ],
   "source": [
    "#Q5\n",
    "n=30\n",
    "s_mu=75\n",
    "s_std=12\n",
    "s_val=.1\n",
    "df=n-1\n",
    "mg=1.311*s_std/n**(1/2)\n",
    "pmu_range=[s_mu+mg,s_mu-mg]\n",
    "pmu_range"
   ]
  },
  {
   "cell_type": "code",
   "execution_count": 63,
   "id": "15a69b21-8aef-4678-94c7-d06c5606a7df",
   "metadata": {},
   "outputs": [
    {
     "data": {
      "text/plain": [
       "[<matplotlib.lines.Line2D at 0x7f94e2955960>]"
      ]
     },
     "execution_count": 63,
     "metadata": {},
     "output_type": "execute_result"
    },
    {
     "data": {
      "image/png": "[encoded data removed]",
      "text/plain": [
       "<Figure size 640x480 with 1 Axes>"
      ]
     },
     "metadata": {},
     "output_type": "display_data"
    }
   ],
   "source": [
    "import matplotlib.pyplot as plt\n",
    "from scipy.stats import chi2\n",
    "#x-axis ranges from 0 to 20 with .001 steps\n",
    "x = np.arange(0, 20, 0.001)\n",
    "\n",
    "#plot Chi-square distribution with 4 degrees of freedom\n",
    "plt.xlabel(\"x value\")\n",
    "plt.ylabel(\"y value\")\n",
    "plt.fill_between(x,stat.chi2.pdf(x, df=10),where=x>15)\n",
    "plt.plot(x, stat.chi2.pdf(x, df=10))"
   ]
  },
  {
   "cell_type": "code",
   "execution_count": 68,
   "id": "bb2888eb-468b-47d8-a9bd-e52d7427f416",
   "metadata": {},
   "outputs": [],
   "source": [
    "#Q7\n",
    "import math\n",
    "n=1000\n",
    "p_=520/n\n",
    "CI=.99\n",
    "SV=1-CI"
   ]
  },
  {
   "cell_type": "code",
   "execution_count": 67,
   "id": "58d47f7a-21d4-4938-b99a-637ff5bccd00",
   "metadata": {},
   "outputs": [],
   "source": [
    "CV=2.33"
   ]
  },
  {
   "cell_type": "code",
   "execution_count": 69,
   "id": "0ded0fcf-1a61-4d38-bf99-f275cf9a86bb",
   "metadata": {},
   "outputs": [],
   "source": [
    "mg=2.33*math.sqrt(p_*(1-p_)/n)"
   ]
  },
  {
   "cell_type": "code",
   "execution_count": 70,
   "id": "adcc3416-d6fb-41e9-90b4-fb99aeb39329",
   "metadata": {},
   "outputs": [],
   "source": [
    "p_range=[p_+mg,p_-mg]"
   ]
  },
  {
   "cell_type": "code",
   "execution_count": 71,
   "id": "e2a21e0c-48dd-4f55-bd79-9adb3ffde3d4",
   "metadata": {},
   "outputs": [
    {
     "data": {
      "text/plain": [
       "[0.5568110505147571, 0.4831889494852429]"
      ]
     },
     "execution_count": 71,
     "metadata": {},
     "output_type": "execute_result"
    }
   ],
   "source": [
    "p_range"
   ]
  },
  {
   "cell_type": "code",
   "execution_count": 72,
   "id": "adb96c85-1b83-4c22-8806-47621772cb2f",
   "metadata": {},
   "outputs": [
    {
     "name": "stdout",
     "output_type": "stream",
     "text": [
      "Estimated is between 556.8110505147571 and 483.18894948524286\n"
     ]
    }
   ],
   "source": [
    "print(f\"Estimated is between {p_range[0]*n} and {p_range[1]*n}\")"
   ]
  },
  {
   "cell_type": "code",
   "execution_count": 73,
   "id": "2e7094b2-38b4-42bb-ab2a-20f34d5b81d2",
   "metadata": {},
   "outputs": [],
   "source": [
    "#Q8"
   ]
  },
  {
   "cell_type": "code",
   "execution_count": 74,
   "id": "6eb96c87-77f4-46fd-a0fc-94057f169af0",
   "metadata": {},
   "outputs": [
    {
     "name": "stdout",
     "output_type": "stream",
     "text": [
      "200 200\n",
      "35.294117647058826 2.834869930488155e-09 3.841458820694124\n",
      "Reject the null hypothesis\n"
     ]
    }
   ],
   "source": [
    "ob_data=[60,140]\n",
    "ex_data=[30,170]\n",
    "print(sum(ob_data),sum(ex_data))\n",
    "chisquare_test_statistics,p_value=stat.chisquare(ob_data,ex_data)\n",
    "significance=0.05\n",
    "dof=len(ob_data)-1\n",
    "critical_value=stat.chi2.ppf(1-significance,dof)\n",
    "print(chisquare_test_statistics,p_value,critical_value)\n",
    "if chisquare_test_statistics > critical_value:\n",
    "    print(\"Reject the null hypothesis\")\n",
    "else:\n",
    "    print(\"Accept the null hypothesis\")"
   ]
  },
  {
   "cell_type": "code",
   "execution_count": 75,
   "id": "b2ba8bbc-4201-4d8f-a470-98b81c99972d",
   "metadata": {},
   "outputs": [
    {
     "name": "stdout",
     "output_type": "stream",
     "text": [
      "500 500\n",
      "31.349206349206348 1.5581394922806692e-07 5.991464547107979\n",
      "Reject the null hypothesis\n"
     ]
    }
   ],
   "source": [
    "#\n",
    "ob_data=[200,150,150]\n",
    "ex_data=[225,175,100]\n",
    "print(sum(ob_data),sum(ex_data))\n",
    "chisquare_test_statistics,p_value=stat.chisquare(ob_data,ex_data)\n",
    "significance=0.05\n",
    "dof=len(ob_data)-1\n",
    "critical_value=stat.chi2.ppf(1-significance,dof)\n",
    "print(chisquare_test_statistics,p_value,critical_value)\n",
    "if chisquare_test_statistics > critical_value:\n",
    "    print(\"Reject the null hypothesis\")\n",
    "else:\n",
    "    print(\"Accept the null hypothesis\")"
   ]
  },
  {
   "cell_type": "code",
   "execution_count": null,
   "id": "d820f97d-d461-4007-9ad0-bc11a3a660d1",
   "metadata": {},
   "outputs": [],
   "source": [
    "#Q11\n",
    "n=30\n",
    "s_mu=72\n",
    "s_std=10\n",
    "s_val=.05\n",
    "df=n-1\n",
    "mg=1.699*s_std/n**(1/2)\n",
    "pmu_range=[s_mu+mg,s_mu-mg]\n",
    "pmu_range"
   ]
  }
 ],
 "metadata": {
  "kernelspec": {
   "display_name": "Python 3 (ipykernel)",
   "language": "python",
   "name": "python3"
  },
  "language_info": {
   "codemirror_mode": {
    "name": "ipython",
    "version": 3
   },
   "file_extension": ".py",
   "mimetype": "text/x-python",
   "name": "python",
   "nbconvert_exporter": "python",
   "pygments_lexer": "ipython3",
   "version": "3.10.8"
  }
 },
 "nbformat": 4,
 "nbformat_minor": 5
}
