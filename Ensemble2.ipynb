{
 "cells": [
  {
   "cell_type": "code",
   "execution_count": 1,
   "id": "f473892b-7595-42fa-82e9-f5e09d8693e4",
   "metadata": {},
   "outputs": [],
   "source": [
    "#q1"
   ]
  },
  {
   "cell_type": "markdown",
   "id": "e529eed9-7bb6-43d1-9729-e7d889fdd228",
   "metadata": {},
   "source": [
    "Bagging reduces overfitting by two means:\n",
    "    1. It divides the training data into sample datasets which are then\n",
    "    2. used to train different/similar types of classification/regreession techniques to train the model."
   ]
  },
  {
   "cell_type": "code",
   "execution_count": 2,
   "id": "8215ff21-e582-4ca2-ad45-e9c3055f3fa4",
   "metadata": {},
   "outputs": [],
   "source": [
    "#q2"
   ]
  },
  {
   "cell_type": "markdown",
   "id": "710c4877-c765-4a3b-89b1-3ea8a38dca20",
   "metadata": {},
   "source": [
    "Advantages:\n",
    "    1. The model accuracy increases\n",
    "    \n",
    "    2. Overfitting Decreases\n",
    "    \n",
    "    3.The model is able to handle varied new data.\n",
    "\n",
    "Disadvantages:\n",
    "\n",
    "    1. Time complexity is higher.\n",
    "    \n",
    "    2. Not all data maybe taken to train the model.\n",
    "    "
   ]
  },
  {
   "cell_type": "code",
   "execution_count": 3,
   "id": "cde48329-e6b1-452d-9795-8019051e10d3",
   "metadata": {},
   "outputs": [],
   "source": [
    "#Q3"
   ]
  },
  {
   "cell_type": "markdown",
   "id": "06b68bbb-7983-465e-ae24-56111d253c07",
   "metadata": {},
   "source": [
    "Bagging decreases bias without increasing the variance as different models are able to fine tune the traing by using sample datasets and the majority voting classifier helps balce the accuracy with new data."
   ]
  },
  {
   "cell_type": "code",
   "execution_count": 5,
   "id": "e342abb2-800c-474b-a541-b3e3ca1dd8b1",
   "metadata": {},
   "outputs": [],
   "source": [
    "#Q4"
   ]
  },
  {
   "cell_type": "markdown",
   "id": "c4e62d49-d4bf-4187-990b-677cd50e3be2",
   "metadata": {},
   "source": [
    "Bagging be used for both classification and regression tasks.\n",
    "\n",
    "For classification it uses majority voting classifier to get the output.\n",
    "\n",
    "For regression it uses average value to give the output."
   ]
  },
  {
   "cell_type": "code",
   "execution_count": 7,
   "id": "a207e213-c86b-4b92-b2e2-0c0386c60b1a",
   "metadata": {},
   "outputs": [],
   "source": [
    "#q5"
   ]
  },
  {
   "cell_type": "markdown",
   "id": "c79c076c-718a-44c4-ae59-2ddf0e087437",
   "metadata": {},
   "source": [
    "Ensemble size refers to the number of components/base learners to be used so that the accuracy remains high.\n",
    "\n",
    "The number of ensembles depends on the type of output(multiclass or not) and also the type technique used(Boosting /Bagging/Stacking).\n",
    "\n",
    "So essentially the size N of the initial dataset should be large enough to capture most of the complexity of the underlying \n",
    "distribution so that sampling from the dataset is a good approximation of sampling from the real distribution."
   ]
  },
  {
   "cell_type": "code",
   "execution_count": 8,
   "id": "66d60679-8510-46d3-8cab-4863614e19d7",
   "metadata": {},
   "outputs": [],
   "source": [
    "#q6"
   ]
  },
  {
   "cell_type": "code",
   "execution_count": null,
   "id": "54245545-5e05-438b-b924-04663ceb6602",
   "metadata": {},
   "outputs": [],
   "source": [
    "an example of the bagging technique is the random forest algorithm. The random forest is an ensemble of multiple decision trees. \n",
    "Decision trees tend to be prone to overfitting.\n",
    "Because of this, a single decision tree can't be relied on for making predictions. So For Predicting risk of heart diseases the model may be used."
   ]
  }
 ],
 "metadata": {
  "kernelspec": {
   "display_name": "Python 3 (ipykernel)",
   "language": "python",
   "name": "python3"
  },
  "language_info": {
   "codemirror_mode": {
    "name": "ipython",
    "version": 3
   },
   "file_extension": ".py",
   "mimetype": "text/x-python",
   "name": "python",
   "nbconvert_exporter": "python",
   "pygments_lexer": "ipython3",
   "version": "3.10.8"
  }
 },
 "nbformat": 4,
 "nbformat_minor": 5
}
