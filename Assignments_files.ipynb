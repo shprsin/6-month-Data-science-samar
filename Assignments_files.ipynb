{
 "cells": [
  {
   "cell_type": "code",
   "execution_count": 1,
   "id": "48b5e7c6-1ff8-49fe-b9de-fd8935247b12",
   "metadata": {},
   "outputs": [],
   "source": [
    "#q1"
   ]
  },
  {
   "cell_type": "code",
   "execution_count": 6,
   "id": "a859f41d-7370-434a-bc7c-4a16fe70edac",
   "metadata": {},
   "outputs": [],
   "source": [
    "with open(\"test3.txt\",'w') as f:\n",
    "    f.write(\"this is Data Science\")\n",
    "    \n",
    "    "
   ]
  },
  {
   "cell_type": "code",
   "execution_count": 8,
   "id": "a4b1f8bd-2bb3-479c-a2a3-664f2112cc57",
   "metadata": {},
   "outputs": [
    {
     "name": "stdout",
     "output_type": "stream",
     "text": [
      "this is Data Science\n"
     ]
    }
   ],
   "source": [
    "with open(\"test3.txt\",\"r\") as f:\n",
    "    print(f.read())\n",
    "    "
   ]
  },
  {
   "cell_type": "code",
   "execution_count": 9,
   "id": "216b5d9d-a178-4236-88ae-9d742e045284",
   "metadata": {},
   "outputs": [],
   "source": [
    "import io"
   ]
  },
  {
   "cell_type": "code",
   "execution_count": 10,
   "id": "6e67ff8c-f77b-41ba-a252-b429d5b1e229",
   "metadata": {},
   "outputs": [],
   "source": [
    "import shutil"
   ]
  },
  {
   "cell_type": "code",
   "execution_count": 11,
   "id": "f10182f8-b1c2-470a-b5d2-aa7d070854f4",
   "metadata": {},
   "outputs": [],
   "source": [
    "with open(\"test4.txt\",'wb') as f:\n",
    "    file=io.BufferedWriter(f)\n",
    "    file.write(b\"This is my Buffer write\\n\") #b =Binary\n",
    "    file.write(b\"This is my second line\")\n",
    "    file.flush()"
   ]
  },
  {
   "cell_type": "code",
   "execution_count": 12,
   "id": "fba37027-2d88-42c0-8124-3df37544f1b7",
   "metadata": {},
   "outputs": [],
   "source": [
    "f= open(\"abcd.txt\",'w')"
   ]
  },
  {
   "cell_type": "code",
   "execution_count": 13,
   "id": "011ec12b-0d9e-4dcf-b821-5e88acdae7d2",
   "metadata": {},
   "outputs": [
    {
     "data": {
      "text/plain": [
       "20"
      ]
     },
     "execution_count": 13,
     "metadata": {},
     "output_type": "execute_result"
    }
   ],
   "source": [
    "f.write(\"this is data science\")"
   ]
  },
  {
   "cell_type": "code",
   "execution_count": 14,
   "id": "da1bbb94-3e56-4b16-974f-09cdd731ceca",
   "metadata": {},
   "outputs": [],
   "source": [
    "f.close()"
   ]
  },
  {
   "cell_type": "code",
   "execution_count": 15,
   "id": "f56458c3-c235-4b2c-83d8-b9b64dafe8a2",
   "metadata": {},
   "outputs": [],
   "source": [
    "f= open(\"abcd.txt\",'r')"
   ]
  },
  {
   "cell_type": "code",
   "execution_count": 16,
   "id": "f25111bc-eaeb-4630-8987-753639f01c79",
   "metadata": {},
   "outputs": [
    {
     "data": {
      "text/plain": [
       "'this is data science'"
      ]
     },
     "execution_count": 16,
     "metadata": {},
     "output_type": "execute_result"
    }
   ],
   "source": [
    "f.read()"
   ]
  },
  {
   "cell_type": "code",
   "execution_count": 17,
   "id": "c0f8a58b-aa42-4c6f-b85a-f6736904b561",
   "metadata": {},
   "outputs": [],
   "source": [
    "f.close()"
   ]
  },
  {
   "cell_type": "code",
   "execution_count": 18,
   "id": "01859106-81b7-4e4b-b207-09be8e89a9f5",
   "metadata": {},
   "outputs": [],
   "source": [
    "# Q2\n",
    "#Close function is used to close the running instance of file object.Closing a file after use is important because it frees up system resources that are being used by the file"
   ]
  },
  {
   "cell_type": "code",
   "execution_count": 19,
   "id": "8b55622a-7970-4651-ae5c-171389764d9d",
   "metadata": {},
   "outputs": [],
   "source": [
    "# Q3"
   ]
  },
  {
   "cell_type": "code",
   "execution_count": 20,
   "id": "0030151a-d0cc-4bee-8574-64f167df1ab2",
   "metadata": {},
   "outputs": [],
   "source": [
    "f= open(\"abcd.txt\",'a')"
   ]
  },
  {
   "cell_type": "code",
   "execution_count": 22,
   "id": "31e54d14-b3b8-4a19-8a23-974655edbd5c",
   "metadata": {},
   "outputs": [
    {
     "data": {
      "text/plain": [
       "1531"
      ]
     },
     "execution_count": 22,
     "metadata": {},
     "output_type": "execute_result"
    }
   ],
   "source": [
    "f.write(\"Data Science Masters course is highly curated and uniquely designed according to the latest industry standards. This program instills students the skills essential to knowledge discovery efforts to identify standard, novel, and truly differentiated solutions and decision-making, including skills in managing, querying, analyzing, visualizing, and extracting meaning from extremely large data sets. This trending program provides students with the statistical, mathematical and computational skills needed to meet the large-scale data science challenges of today's professional world. You will learn all the stack required to work in data science industry including cloud infrastructure and real-time industry projects. This course will be taught in Hindi language. Data Science Masters course is highly curated and uniquely designed according to the latest industry standards. This program instills students the skills essential to knowledge discovery efforts to identify standard, novel, and truly differentiated solutions and decision-making, including skills in managing, querying, analyzing, visualizing, and extracting meaning from extremely large data sets. This trending program provides students with the statistical, mathematical and computational skills needed to meet the large-scale data science challenges of today's professional world. You will learn all the stack required to work in data science industry including cloud infrastructure and real-time industry projects. This course will be taught in Hindi language.\")"
   ]
  },
  {
   "cell_type": "code",
   "execution_count": 23,
   "id": "5cb70343-a15a-4439-b339-a4ab6531686f",
   "metadata": {},
   "outputs": [],
   "source": [
    "f.close()"
   ]
  },
  {
   "cell_type": "code",
   "execution_count": 24,
   "id": "1077cefc-259c-4927-82a3-bfc7acc922e1",
   "metadata": {},
   "outputs": [],
   "source": [
    "f= open(\"abcd.txt\",'r')"
   ]
  },
  {
   "cell_type": "code",
   "execution_count": 33,
   "id": "1b61815d-9373-420e-a5ed-8eb12eb12bf2",
   "metadata": {},
   "outputs": [
    {
     "data": {
      "text/plain": [
       "'th'"
      ]
     },
     "execution_count": 33,
     "metadata": {},
     "output_type": "execute_result"
    }
   ],
   "source": [
    "f.read(2)"
   ]
  },
  {
   "cell_type": "code",
   "execution_count": 35,
   "id": "eb3243ce-3af7-4ca7-9256-ddd387ff5f5c",
   "metadata": {},
   "outputs": [
    {
     "data": {
      "text/plain": [
       "0"
      ]
     },
     "execution_count": 35,
     "metadata": {},
     "output_type": "execute_result"
    }
   ],
   "source": [
    "f.seek(0)"
   ]
  },
  {
   "cell_type": "code",
   "execution_count": 31,
   "id": "2bb1e9ab-0ec1-476e-ba92-ea65d2538d95",
   "metadata": {},
   "outputs": [
    {
     "data": {
      "text/plain": [
       "'th'"
      ]
     },
     "execution_count": 31,
     "metadata": {},
     "output_type": "execute_result"
    }
   ],
   "source": [
    "f.readline()"
   ]
  },
  {
   "cell_type": "code",
   "execution_count": 36,
   "id": "99bc817c-6d30-42f4-bae6-ac7f3c5f5b35",
   "metadata": {},
   "outputs": [
    {
     "data": {
      "text/plain": [
       "[\"this is data scienceData Science Masters course is highly curated and uniquely designed according to the latest industry standards. This program instills students the skills essential to knowledge discovery efforts to identify standard, novel, and truly differentiated solutions and decision-making, including skills in managing, querying, analyzing, visualizing, and extracting meaning from extremely large data sets. This trending program provides students with the statistical, mathematical and computational skills needed to meet the large-scale data science challenges of today's professional world. You will learn all the stack required to work in data science industry including cloud infrastructure and real-time industry projects. This course will be taught in Hindi language. Data Science Masters course is highly curated and uniquely designed according to the latest industry standards. This program instills students the skills essential to knowledge discovery efforts to identify standard, novel, and truly differentiated solutions and decision-making, including skills in managing, querying, analyzing, visualizing, and extracting meaning from extremely large data sets. This trending program provides students with the statistical, mathematical and computational skills needed to meet the large-scale data science challenges of today's professional world. You will learn all the stack required to work in data science industry including cloud infrastructure and real-time industry projects. This course will be taught in Hindi language.\"]"
      ]
     },
     "execution_count": 36,
     "metadata": {},
     "output_type": "execute_result"
    }
   ],
   "source": [
    "f.readlines(2)"
   ]
  },
  {
   "cell_type": "code",
   "execution_count": 37,
   "id": "011649e8-0687-45a7-9e81-4919e41d9b1b",
   "metadata": {},
   "outputs": [],
   "source": [
    "f.close()"
   ]
  },
  {
   "cell_type": "code",
   "execution_count": 38,
   "id": "b5b25fe7-67b1-48aa-be45-cab573862374",
   "metadata": {},
   "outputs": [],
   "source": [
    "#q4\n",
    "f= open(\"test4.txt\",'r')"
   ]
  },
  {
   "cell_type": "code",
   "execution_count": 39,
   "id": "c61532ae-dee3-4eea-8e15-0faa12e56ff2",
   "metadata": {},
   "outputs": [
    {
     "data": {
      "text/plain": [
       "'This is my Buffer write\\nThis is my second line'"
      ]
     },
     "execution_count": 39,
     "metadata": {},
     "output_type": "execute_result"
    }
   ],
   "source": [
    "f.read()"
   ]
  },
  {
   "cell_type": "code",
   "execution_count": 53,
   "id": "1a4cb1be-0398-4800-ab4d-48275943d894",
   "metadata": {},
   "outputs": [
    {
     "data": {
      "text/plain": [
       "0"
      ]
     },
     "execution_count": 53,
     "metadata": {},
     "output_type": "execute_result"
    }
   ],
   "source": [
    "f.seek(0)"
   ]
  },
  {
   "cell_type": "code",
   "execution_count": 44,
   "id": "6553d972-95c9-42a1-b442-e3d84a027d45",
   "metadata": {},
   "outputs": [
    {
     "data": {
      "text/plain": [
       "'This is my Buffer write\\n'"
      ]
     },
     "execution_count": 44,
     "metadata": {},
     "output_type": "execute_result"
    }
   ],
   "source": [
    "f.readline() # Reads one line at a time"
   ]
  },
  {
   "cell_type": "code",
   "execution_count": 46,
   "id": "300324d7-2789-43f0-bfd9-22ad00bcd435",
   "metadata": {},
   "outputs": [
    {
     "data": {
      "text/plain": [
       "['This is my Buffer write\\n']"
      ]
     },
     "execution_count": 46,
     "metadata": {},
     "output_type": "execute_result"
    }
   ],
   "source": [
    "f.readlines(1)"
   ]
  },
  {
   "cell_type": "code",
   "execution_count": 56,
   "id": "b286aa3a-5e70-43d8-9639-c52a785f2298",
   "metadata": {},
   "outputs": [],
   "source": [
    "f.close()"
   ]
  },
  {
   "cell_type": "code",
   "execution_count": 57,
   "id": "f0ce8c5d-6725-449e-ae9d-292858415469",
   "metadata": {},
   "outputs": [],
   "source": [
    "#Q5"
   ]
  },
  {
   "cell_type": "code",
   "execution_count": 58,
   "id": "ab2263ae-7276-4df5-ac51-c1585a10c3d9",
   "metadata": {},
   "outputs": [],
   "source": [
    "# combining the with statement and the open() function in Python helps us read and write to the file without being worried about closing it."
   ]
  },
  {
   "cell_type": "code",
   "execution_count": 60,
   "id": "76716bcc-539d-454f-b8f4-fc12cf79644c",
   "metadata": {},
   "outputs": [],
   "source": [
    "#q6\n",
    "l=[\"This\",'is','data']\n",
    "with open(\"test3.txt\",'w') as f:\n",
    "    f.write(\"this is Data Science\")\n",
    "    f.writelines(l)"
   ]
  },
  {
   "cell_type": "code",
   "execution_count": null,
   "id": "f5a7edea-d195-4666-9eac-5b97ce2f7edd",
   "metadata": {},
   "outputs": [],
   "source": []
  }
 ],
 "metadata": {
  "kernelspec": {
   "display_name": "Python 3 (ipykernel)",
   "language": "python",
   "name": "python3"
  },
  "language_info": {
   "codemirror_mode": {
    "name": "ipython",
    "version": 3
   },
   "file_extension": ".py",
   "mimetype": "text/x-python",
   "name": "python",
   "nbconvert_exporter": "python",
   "pygments_lexer": "ipython3",
   "version": "3.10.8"
  }
 },
 "nbformat": 4,
 "nbformat_minor": 5
}
