{
 "cells": [
  {
   "cell_type": "code",
   "execution_count": 1,
   "id": "fa5f388e-01cd-4044-8461-bb19eca28ba5",
   "metadata": {},
   "outputs": [],
   "source": [
    "#Q1"
   ]
  },
  {
   "cell_type": "code",
   "execution_count": 2,
   "id": "a1faaf39-298e-4ee2-a4d6-4d2d00383420",
   "metadata": {},
   "outputs": [],
   "source": [
    "#Web scraping is the process of using bots to extract content and data from a website.\n",
    "\n",
    "#Web scraping aims to transform specific content in a web site into a structured form: a database, a spreadsheet, an XML representation, etc. which can be used for multiple purposes such as analysis etc.\n",
    "\n",
    "# Three areas where it can be used :\n",
    "#Price Monitoring. \n",
    "#Market Research\n",
    "#Sentiment Analysis. "
   ]
  },
  {
   "cell_type": "code",
   "execution_count": 3,
   "id": "002cf1ad-e5d4-4043-9992-2b60b67bd2b3",
   "metadata": {},
   "outputs": [],
   "source": [
    "#Q2"
   ]
  },
  {
   "cell_type": "code",
   "execution_count": 4,
   "id": "edbd3de5-cd5d-43c4-95eb-b96311b50fab",
   "metadata": {},
   "outputs": [],
   "source": [
    "#Different methods used for webscrapping are:\n",
    "#Text pattern matching\n",
    "#HTTP programming\n",
    "#HTML parsing\n",
    "#DOM parsing\n",
    "#Vertical aggregation\n",
    "#Semantic annotation recognizing\n",
    "#Computer vision web-page analysis"
   ]
  },
  {
   "cell_type": "code",
   "execution_count": 5,
   "id": "64d0997c-0d57-4e18-89c6-ad00cd00c68a",
   "metadata": {},
   "outputs": [],
   "source": [
    "#Q3"
   ]
  },
  {
   "cell_type": "code",
   "execution_count": 6,
   "id": "e81dbb6c-b769-4e89-aeda-d73f65be59b8",
   "metadata": {},
   "outputs": [],
   "source": [
    "# Beautiful Soup is a python Library which is used to beautify or tranform source page content into Human Readable format."
   ]
  },
  {
   "cell_type": "code",
   "execution_count": 7,
   "id": "6b9a055e-7bdc-4443-81db-526866215d48",
   "metadata": {},
   "outputs": [],
   "source": [
    "#Q4"
   ]
  },
  {
   "cell_type": "code",
   "execution_count": 8,
   "id": "51ce5c60-243c-4eef-8a3b-78b17b675245",
   "metadata": {},
   "outputs": [],
   "source": [
    "#Flask is used in webscrapping to create an interface between the user application and the server application to extract data from a certain source as per the user requirements"
   ]
  },
  {
   "cell_type": "code",
   "execution_count": 9,
   "id": "3c3ebd7a-2b02-4003-9984-ca8154596aae",
   "metadata": {},
   "outputs": [],
   "source": [
    "#Q5"
   ]
  },
  {
   "cell_type": "code",
   "execution_count": 10,
   "id": "e34c72eb-51a4-4f8a-8332-d2749cc3668b",
   "metadata": {},
   "outputs": [],
   "source": [
    "#Elastic Bean is AWS service used in for deployment of a virtual sysytem capable of running an apllication coded in a particular computer language. \n",
    "#Codepipline is used to create a sequential source code which can be run in a virtual environment created on AWS."
   ]
  },
  {
   "cell_type": "code",
   "execution_count": null,
   "id": "78209032-64a2-4759-aece-03c7c9b55056",
   "metadata": {},
   "outputs": [],
   "source": []
  }
 ],
 "metadata": {
  "kernelspec": {
   "display_name": "Python 3 (ipykernel)",
   "language": "python",
   "name": "python3"
  },
  "language_info": {
   "codemirror_mode": {
    "name": "ipython",
    "version": 3
   },
   "file_extension": ".py",
   "mimetype": "text/x-python",
   "name": "python",
   "nbconvert_exporter": "python",
   "pygments_lexer": "ipython3",
   "version": "3.10.8"
  }
 },
 "nbformat": 4,
 "nbformat_minor": 5
}
