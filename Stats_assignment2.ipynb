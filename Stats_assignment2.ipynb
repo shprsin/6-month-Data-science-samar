{
 "cells": [
  {
   "cell_type": "markdown",
   "id": "2e13aca6-db6c-4cce-b47f-7bfc0bbf1929",
   "metadata": {},
   "source": [
    "Q1"
   ]
  },
  {
   "cell_type": "markdown",
   "id": "0f8347b0-0cda-4fb9-ad51-0393397d2d01",
   "metadata": {},
   "source": [
    "The three measures of Central Tendency\n",
    "1. Mean \n",
    "2. Median \n",
    "3. Mode"
   ]
  },
  {
   "cell_type": "markdown",
   "id": "ee1fe82a-4629-481a-a515-42a065379978",
   "metadata": {},
   "source": [
    "Q2"
   ]
  },
  {
   "cell_type": "markdown",
   "id": "41311b28-8b1a-4cfe-9b12-a588a4ec909c",
   "metadata": {},
   "source": [
    "The three measures of Central Tendency\n",
    "\n",
    "1. Mean: Gives the average of the dataset\n",
    "2. Median: Gives the middle value of the sorted dataset\n",
    "3. Mode: Gives the most recurring value in the dataset"
   ]
  },
  {
   "cell_type": "code",
   "execution_count": 13,
   "id": "c53e3290-cd29-4636-9fe7-e44b472508d0",
   "metadata": {},
   "outputs": [],
   "source": [
    "#Q3\n",
    "import numpy as np\n",
    "\n",
    "\n",
    "l=[178,177,176,177,178.2,178,175,179,180,175,178.9,176.2,177,172.5,178,176.5]"
   ]
  },
  {
   "cell_type": "code",
   "execution_count": 2,
   "id": "dea2f425-42ac-4460-aace-ad2597c17b98",
   "metadata": {},
   "outputs": [],
   "source": [
    "a=np.array(l)"
   ]
  },
  {
   "cell_type": "code",
   "execution_count": 3,
   "id": "1e3e906f-42bc-44d4-af20-23d776fdf2af",
   "metadata": {},
   "outputs": [
    {
     "data": {
      "text/plain": [
       "array([178. , 177. , 176. , 177. , 178.2, 178. , 175. , 179. , 180. ,\n",
       "       175. , 178.9, 176.2, 177. , 172.5, 178. , 176.5])"
      ]
     },
     "execution_count": 3,
     "metadata": {},
     "output_type": "execute_result"
    }
   ],
   "source": [
    "a"
   ]
  },
  {
   "cell_type": "code",
   "execution_count": 4,
   "id": "f957ec05-f22e-488f-9f6b-fe4d37b8569a",
   "metadata": {},
   "outputs": [
    {
     "data": {
      "text/plain": [
       "177.01875"
      ]
     },
     "execution_count": 4,
     "metadata": {},
     "output_type": "execute_result"
    }
   ],
   "source": [
    "a.mean()"
   ]
  },
  {
   "cell_type": "code",
   "execution_count": 8,
   "id": "dd8d3da3-900b-450a-ad27-a11171b297d5",
   "metadata": {},
   "outputs": [
    {
     "data": {
      "text/plain": [
       "177.0"
      ]
     },
     "execution_count": 8,
     "metadata": {},
     "output_type": "execute_result"
    }
   ],
   "source": [
    "np.median(a)"
   ]
  },
  {
   "cell_type": "code",
   "execution_count": 9,
   "id": "30c28cd7-754d-4ddf-970b-01fb96d0ae2d",
   "metadata": {},
   "outputs": [],
   "source": [
    "from scipy import stats"
   ]
  },
  {
   "cell_type": "code",
   "execution_count": 10,
   "id": "8a1bb026-8bd6-408d-b35b-92a588f0a606",
   "metadata": {},
   "outputs": [
    {
     "name": "stderr",
     "output_type": "stream",
     "text": [
      "/tmp/ipykernel_78/2714317682.py:1: FutureWarning: Unlike other reduction functions (e.g. `skew`, `kurtosis`), the default behavior of `mode` typically preserves the axis it acts along. In SciPy 1.11.0, this behavior will change: the default value of `keepdims` will become False, the `axis` over which the statistic is taken will be eliminated, and the value None will no longer be accepted. Set `keepdims` to True or False to avoid this warning.\n",
      "  stats.mode(a)\n"
     ]
    },
    {
     "data": {
      "text/plain": [
       "ModeResult(mode=array([177.]), count=array([3]))"
      ]
     },
     "execution_count": 10,
     "metadata": {},
     "output_type": "execute_result"
    }
   ],
   "source": [
    "stats.mode(a)"
   ]
  },
  {
   "cell_type": "markdown",
   "id": "8101344f-eea3-4fd7-8608-dc68eb4788ba",
   "metadata": {},
   "source": [
    "Q4"
   ]
  },
  {
   "cell_type": "code",
   "execution_count": 12,
   "id": "df3ce98d-9306-4bab-8b0a-f3ea3fc08474",
   "metadata": {},
   "outputs": [
    {
     "data": {
      "text/plain": [
       "1.7885814036548633"
      ]
     },
     "execution_count": 12,
     "metadata": {},
     "output_type": "execute_result"
    }
   ],
   "source": [
    "a.std()"
   ]
  },
  {
   "cell_type": "markdown",
   "id": "13d60f92-b6a6-4005-a91d-579d789081c3",
   "metadata": {},
   "source": [
    "Q5"
   ]
  },
  {
   "cell_type": "code",
   "execution_count": 15,
   "id": "b6017939-f2cb-49ff-a975-00e4c99278f8",
   "metadata": {},
   "outputs": [],
   "source": [
    "l=[178,177,176,177,178.2,178,175,179,180,175,178.9,176.2,177,172.5,178,176.5]\n",
    "b=np.array(l)"
   ]
  },
  {
   "cell_type": "code",
   "execution_count": 16,
   "id": "0ac5789a-c501-404d-8e7e-fca44b73eb35",
   "metadata": {},
   "outputs": [
    {
     "data": {
      "text/plain": [
       "1.7885814036548633"
      ]
     },
     "execution_count": 16,
     "metadata": {},
     "output_type": "execute_result"
    }
   ],
   "source": [
    "b.std() # standard deviation gives the deviation from the mean value of dataset"
   ]
  },
  {
   "cell_type": "code",
   "execution_count": 17,
   "id": "250b931e-e0f6-4999-b44c-7d832baa0381",
   "metadata": {},
   "outputs": [
    {
     "data": {
      "text/plain": [
       "3.199023437500001"
      ]
     },
     "execution_count": 17,
     "metadata": {},
     "output_type": "execute_result"
    }
   ],
   "source": [
    "b.var() # variance gives the spread of data"
   ]
  },
  {
   "cell_type": "code",
   "execution_count": 19,
   "id": "ef119770-a61c-43d6-9751-87c8e57a69ac",
   "metadata": {},
   "outputs": [],
   "source": [
    "r = np.ptp(b,axis=0)"
   ]
  },
  {
   "cell_type": "code",
   "execution_count": 20,
   "id": "8d3cce92-4553-47ca-823e-d560b12a7367",
   "metadata": {},
   "outputs": [
    {
     "data": {
      "text/plain": [
       "7.5"
      ]
     },
     "execution_count": 20,
     "metadata": {},
     "output_type": "execute_result"
    }
   ],
   "source": [
    "r # range"
   ]
  },
  {
   "cell_type": "markdown",
   "id": "6a9c1a98-4376-4b54-98b6-9325d3929522",
   "metadata": {},
   "source": [
    "Q6"
   ]
  },
  {
   "cell_type": "markdown",
   "id": "44577d27-1f90-40b5-8cca-96fab1a4074c",
   "metadata": {},
   "source": [
    "Venn diagram representing mathematical or logical sets pictorially as circles or closed curves within an enclosing rectangle (the universal set), common elements of the sets being represented by intersections of the circles."
   ]
  },
  {
   "cell_type": "markdown",
   "id": "a6a452ed-33d3-4ca7-be8c-3b191864d930",
   "metadata": {},
   "source": [
    "Q7"
   ]
  },
  {
   "cell_type": "code",
   "execution_count": 26,
   "id": "53d1dc8b-9b2e-4cc1-bf68-9a6ad35bb4df",
   "metadata": {},
   "outputs": [],
   "source": [
    "A = {2,3,4,5,6,7}\n",
    "B = {0,2,6,8,10}"
   ]
  },
  {
   "cell_type": "code",
   "execution_count": 27,
   "id": "445d6d11-8599-4b41-a0fd-db87cf80a268",
   "metadata": {},
   "outputs": [
    {
     "data": {
      "text/plain": [
       "{0, 2, 3, 4, 5, 6, 7, 8, 10}"
      ]
     },
     "execution_count": 27,
     "metadata": {},
     "output_type": "execute_result"
    }
   ],
   "source": [
    "A.union(B)"
   ]
  },
  {
   "cell_type": "code",
   "execution_count": 28,
   "id": "1b1569d9-2dd2-48e7-b7ba-7fe4909081b3",
   "metadata": {},
   "outputs": [
    {
     "data": {
      "text/plain": [
       "{2, 6}"
      ]
     },
     "execution_count": 28,
     "metadata": {},
     "output_type": "execute_result"
    }
   ],
   "source": [
    "A.intersection(B)"
   ]
  },
  {
   "cell_type": "markdown",
   "id": "594b1453-9f37-40a1-9984-c756db3e1fca",
   "metadata": {},
   "source": [
    "Q8"
   ]
  },
  {
   "cell_type": "markdown",
   "id": "1c206ad8-bc6a-4a28-b409-bce49c238df4",
   "metadata": {},
   "source": [
    "Skewness is a statistical measure that is used to show whether a distribution is distorted or asymmetrical"
   ]
  },
  {
   "cell_type": "markdown",
   "id": "0eefc478-9c76-4c33-9a82-f11443d49aa3",
   "metadata": {},
   "source": [
    "Q9\n",
    "if a data is right skewed then the position of median left to mean."
   ]
  },
  {
   "cell_type": "markdown",
   "id": "3cddb939-515a-4658-af9f-4eec6ffa68f5",
   "metadata": {},
   "source": [
    "Q10"
   ]
  },
  {
   "cell_type": "code",
   "execution_count": 30,
   "id": "1e367e29-194a-4901-9090-5aea80f6372b",
   "metadata": {},
   "outputs": [],
   "source": [
    "import seaborn as sns"
   ]
  },
  {
   "cell_type": "code",
   "execution_count": 31,
   "id": "27546d9b-b55e-41ce-b9e2-07d6c25d2487",
   "metadata": {},
   "outputs": [],
   "source": [
    "df=sns.load_dataset('tips')"
   ]
  },
  {
   "cell_type": "code",
   "execution_count": 32,
   "id": "3c889f63-800f-4c97-95a6-14ba2719c08b",
   "metadata": {},
   "outputs": [
    {
     "name": "stderr",
     "output_type": "stream",
     "text": [
      "/tmp/ipykernel_78/1545644723.py:1: FutureWarning: The default value of numeric_only in DataFrame.cov is deprecated. In a future version, it will default to False. Select only valid columns or specify the value of numeric_only to silence this warning.\n",
      "  df.cov()\n"
     ]
    },
    {
     "data": {
      "text/html": [
       "<div>\n",
       "<style scoped>\n",
       "    .dataframe tbody tr th:only-of-type {\n",
       "        vertical-align: middle;\n",
       "    }\n",
       "\n",
       "    .dataframe tbody tr th {\n",
       "        vertical-align: top;\n",
       "    }\n",
       "\n",
       "    .dataframe thead th {\n",
       "        text-align: right;\n",
       "    }\n",
       "</style>\n",
       "<table border=\"1\" class=\"dataframe\">\n",
       "  <thead>\n",
       "    <tr style=\"text-align: right;\">\n",
       "      <th></th>\n",
       "      <th>total_bill</th>\n",
       "      <th>tip</th>\n",
       "      <th>size</th>\n",
       "    </tr>\n",
       "  </thead>\n",
       "  <tbody>\n",
       "    <tr>\n",
       "      <th>total_bill</th>\n",
       "      <td>79.252939</td>\n",
       "      <td>8.323502</td>\n",
       "      <td>5.065983</td>\n",
       "    </tr>\n",
       "    <tr>\n",
       "      <th>tip</th>\n",
       "      <td>8.323502</td>\n",
       "      <td>1.914455</td>\n",
       "      <td>0.643906</td>\n",
       "    </tr>\n",
       "    <tr>\n",
       "      <th>size</th>\n",
       "      <td>5.065983</td>\n",
       "      <td>0.643906</td>\n",
       "      <td>0.904591</td>\n",
       "    </tr>\n",
       "  </tbody>\n",
       "</table>\n",
       "</div>"
      ],
      "text/plain": [
       "            total_bill       tip      size\n",
       "total_bill   79.252939  8.323502  5.065983\n",
       "tip           8.323502  1.914455  0.643906\n",
       "size          5.065983  0.643906  0.904591"
      ]
     },
     "execution_count": 32,
     "metadata": {},
     "output_type": "execute_result"
    }
   ],
   "source": [
    "df.cov()  #Covariance measures the direction of the relationship between two variables"
   ]
  },
  {
   "cell_type": "code",
   "execution_count": 34,
   "id": "5bde2362-70c0-43d0-bfcd-15873ead8f96",
   "metadata": {},
   "outputs": [
    {
     "name": "stderr",
     "output_type": "stream",
     "text": [
      "/tmp/ipykernel_78/1913635441.py:1: FutureWarning: The default value of numeric_only in DataFrame.corr is deprecated. In a future version, it will default to False. Select only valid columns or specify the value of numeric_only to silence this warning.\n",
      "  df.corr(method='spearman')#Correlation is a statistical term describing the degree to which two variables move in coordination with one another\n"
     ]
    },
    {
     "data": {
      "text/html": [
       "<div>\n",
       "<style scoped>\n",
       "    .dataframe tbody tr th:only-of-type {\n",
       "        vertical-align: middle;\n",
       "    }\n",
       "\n",
       "    .dataframe tbody tr th {\n",
       "        vertical-align: top;\n",
       "    }\n",
       "\n",
       "    .dataframe thead th {\n",
       "        text-align: right;\n",
       "    }\n",
       "</style>\n",
       "<table border=\"1\" class=\"dataframe\">\n",
       "  <thead>\n",
       "    <tr style=\"text-align: right;\">\n",
       "      <th></th>\n",
       "      <th>total_bill</th>\n",
       "      <th>tip</th>\n",
       "      <th>size</th>\n",
       "    </tr>\n",
       "  </thead>\n",
       "  <tbody>\n",
       "    <tr>\n",
       "      <th>total_bill</th>\n",
       "      <td>1.000000</td>\n",
       "      <td>0.678968</td>\n",
       "      <td>0.604791</td>\n",
       "    </tr>\n",
       "    <tr>\n",
       "      <th>tip</th>\n",
       "      <td>0.678968</td>\n",
       "      <td>1.000000</td>\n",
       "      <td>0.468268</td>\n",
       "    </tr>\n",
       "    <tr>\n",
       "      <th>size</th>\n",
       "      <td>0.604791</td>\n",
       "      <td>0.468268</td>\n",
       "      <td>1.000000</td>\n",
       "    </tr>\n",
       "  </tbody>\n",
       "</table>\n",
       "</div>"
      ],
      "text/plain": [
       "            total_bill       tip      size\n",
       "total_bill    1.000000  0.678968  0.604791\n",
       "tip           0.678968  1.000000  0.468268\n",
       "size          0.604791  0.468268  1.000000"
      ]
     },
     "execution_count": 34,
     "metadata": {},
     "output_type": "execute_result"
    }
   ],
   "source": [
    "df.corr(method='spearman')#Correlation is a statistical term describing the degree to which two variables move in coordination with one another"
   ]
  },
  {
   "cell_type": "markdown",
   "id": "1221f22f-9d2e-4631-98e7-4bf3804f193c",
   "metadata": {},
   "source": [
    "Q11"
   ]
  },
  {
   "cell_type": "markdown",
   "id": "52199439-5e8b-4e9a-8335-08d72d5b7dfc",
   "metadata": {},
   "source": [
    "The formula of mean for a dataset with n values is Summation of all values diveded by (n)"
   ]
  },
  {
   "cell_type": "code",
   "execution_count": 36,
   "id": "3d3133c9-f514-4ed6-88b1-594405b16e3f",
   "metadata": {},
   "outputs": [],
   "source": [
    "a=np.array([178,177,176,177,178.2,178,175,179,180,175,178.9,176.2,177,172.5,178,176.5])"
   ]
  },
  {
   "cell_type": "code",
   "execution_count": 38,
   "id": "df0e69d3-faa2-4260-95ac-1ae96a54fb2b",
   "metadata": {},
   "outputs": [
    {
     "data": {
      "text/plain": [
       "177.01875"
      ]
     },
     "execution_count": 38,
     "metadata": {},
     "output_type": "execute_result"
    }
   ],
   "source": [
    "a.mean()"
   ]
  },
  {
   "cell_type": "markdown",
   "id": "3e1dc354-8f00-4436-8f92-38a8410facf3",
   "metadata": {},
   "source": [
    "Q12\n",
    "For a normal Distribution Mean , Median and mode are Equal."
   ]
  },
  {
   "cell_type": "markdown",
   "id": "9c3674fd-428a-467c-aba8-3b15909fe9a7",
   "metadata": {},
   "source": [
    "Q13"
   ]
  },
  {
   "cell_type": "markdown",
   "id": "f3038fd2-d152-4025-80c2-f1c1a2bfa15b",
   "metadata": {},
   "source": [
    " Covariance indicates the direction of the linear relationship between variables. Correlation measures both the strength and direction of the linear relationship between two variables."
   ]
  },
  {
   "cell_type": "markdown",
   "id": "d950aa11-c075-489f-8901-6fe0a696a95a",
   "metadata": {},
   "source": [
    "Q14"
   ]
  },
  {
   "cell_type": "markdown",
   "id": "40cbd5a9-ee59-41cf-b62a-f29db2f5ce75",
   "metadata": {},
   "source": [
    "Outliers can significantly influence measures of central tendency and dispersion. Here's how:\n",
    "\n",
    "Measures of Central Tendency:\n",
    "\n",
    "1. Mean: Outliers can pull the mean towards their extreme values. If there are outliers with large values, the mean can be inflated, while outliers with small values can lower the mean.\n",
    "2. Median: The median is less affected by outliers compared to the mean. It represents the middle value, so outliers have less impact unless they are close to the median and significantly change the order of values.\n",
    "3. Mode: The mode is the most frequent value. Outliers do not directly affect the mode unless they appear frequently and change the overall distribution of values.\n",
    "\n",
    "Measures of Dispersion:\n",
    "\n",
    "1. Range: The range is the difference between the maximum and minimum values. Outliers can significantly increase the range if they are far from the other values.\n",
    "2. Interquartile Range (IQR): The IQR is less affected by outliers compared to the range since it only considers the values within the 25th and 75th percentiles. However, extreme outliers can still impact the IQR.\n",
    "3. Standard Deviation/Variance: Outliers can increase the standard deviation and variance, as they introduce more variability to the dataset. The squared differences between outliers and the mean can significantly contribute to the variance."
   ]
  },
  {
   "cell_type": "code",
   "execution_count": 45,
   "id": "65235b32-3885-4824-bed5-56a65026d895",
   "metadata": {},
   "outputs": [],
   "source": [
    "a=np.array([178,177,176,177,178.2,178,175,179,180,175,178.9,176.2,177,172.5,178,176.5]) \n",
    "b=np.array([178,177,176,177,178.2,178,175,179,180,175,178.9,176.2,177,172.5,178,176.5,2000])# 2000 is outlier"
   ]
  },
  {
   "cell_type": "code",
   "execution_count": 48,
   "id": "3e583f1d-8e06-4eaa-b758-fc9ebe41b675",
   "metadata": {},
   "outputs": [
    {
     "name": "stdout",
     "output_type": "stream",
     "text": [
      "177.01875\n"
     ]
    }
   ],
   "source": [
    "print(a.mean())"
   ]
  },
  {
   "cell_type": "code",
   "execution_count": 47,
   "id": "7696e9b4-11a7-4a6a-83c0-c67d9b68a7c5",
   "metadata": {},
   "outputs": [
    {
     "data": {
      "text/plain": [
       "284.2529411764706"
      ]
     },
     "execution_count": 47,
     "metadata": {},
     "output_type": "execute_result"
    }
   ],
   "source": [
    "b.mean() # Significant change due to outlier"
   ]
  },
  {
   "cell_type": "code",
   "execution_count": 49,
   "id": "efec732a-d87d-42c1-9443-36d434edebda",
   "metadata": {},
   "outputs": [
    {
     "data": {
      "text/plain": [
       "3.199023437500001"
      ]
     },
     "execution_count": 49,
     "metadata": {},
     "output_type": "execute_result"
    }
   ],
   "source": [
    "a.var()"
   ]
  },
  {
   "cell_type": "code",
   "execution_count": 51,
   "id": "bf7e6f93-cc48-4418-91a4-84fe2c61c106",
   "metadata": {},
   "outputs": [
    {
     "data": {
      "text/plain": [
       "183989.7589619377"
      ]
     },
     "execution_count": 51,
     "metadata": {},
     "output_type": "execute_result"
    }
   ],
   "source": [
    "b.var() #significant change due to outlier\n"
   ]
  },
  {
   "cell_type": "code",
   "execution_count": null,
   "id": "819fd3d9-618c-4d59-a553-5d766ae1abba",
   "metadata": {},
   "outputs": [],
   "source": []
  }
 ],
 "metadata": {
  "kernelspec": {
   "display_name": "Python 3 (ipykernel)",
   "language": "python",
   "name": "python3"
  },
  "language_info": {
   "codemirror_mode": {
    "name": "ipython",
    "version": 3
   },
   "file_extension": ".py",
   "mimetype": "text/x-python",
   "name": "python",
   "nbconvert_exporter": "python",
   "pygments_lexer": "ipython3",
   "version": "3.10.8"
  }
 },
 "nbformat": 4,
 "nbformat_minor": 5
}
