{
 "cells": [
  {
   "cell_type": "code",
   "execution_count": 1,
   "id": "253c572b-bba5-499b-8fb4-ada25c65a6a1",
   "metadata": {},
   "outputs": [],
   "source": [
    "#q1"
   ]
  },
  {
   "cell_type": "code",
   "execution_count": 2,
   "id": "34cc0c54-5fce-49a4-af50-c85fb684ebf9",
   "metadata": {},
   "outputs": [],
   "source": [
    "#Precision and recall are two evaluation metrics used to measure the performance of a classifier in binary \n",
    "# and multiclass classification problems. Precision measures the accuracy of positive predictions, \n",
    "# while recall measures the completeness of positive predictions"
   ]
  },
  {
   "cell_type": "code",
   "execution_count": 3,
   "id": "b3ac151f-9521-46a9-b155-0bb7582e9642",
   "metadata": {},
   "outputs": [],
   "source": [
    "#q2"
   ]
  },
  {
   "cell_type": "code",
   "execution_count": 6,
   "id": "f872fe43-9b8d-47de-9889-c258bece6cac",
   "metadata": {},
   "outputs": [],
   "source": [
    "#The F1 score is calculated as the harmonic mean of the \n",
    "#precision and recall scores, as shown below. It ranges \n",
    "#from 0-100%, and a higher F1 score denotes a better quality\n",
    "#classifier.\n",
    "# F1 Score is a measure that combines recall and precision.\n",
    "# As we have seen there is a trade-off between precision and\n",
    "# recall, F1 can therefore be used to measure how effectively\n",
    "# our models make that trade-off"
   ]
  },
  {
   "cell_type": "code",
   "execution_count": 5,
   "id": "ff8254ab-a585-48f5-8951-681635ce1079",
   "metadata": {},
   "outputs": [],
   "source": [
    "#q3"
   ]
  },
  {
   "cell_type": "code",
   "execution_count": 8,
   "id": "d61a75fc-a2b7-4862-8913-3eb0835cec35",
   "metadata": {},
   "outputs": [],
   "source": [
    "# ROC AUC score is a single number that summarizes the classifier's\n",
    "# performance across all possible classification thresholds. To get the score, you must measure the area under the ROC curve. ROC AUC score shows how well the classifier distinguishes positive and negative classes. It can take values from 0 to 1"
   ]
  },
  {
   "cell_type": "code",
   "execution_count": 9,
   "id": "36fc5981-16bc-4f9f-a71e-5301cbf4b210",
   "metadata": {},
   "outputs": [],
   "source": [
    "#q4"
   ]
  },
  {
   "cell_type": "code",
   "execution_count": 11,
   "id": "79123982-6435-48a7-9e33-2f3580907bbb",
   "metadata": {},
   "outputs": [],
   "source": [
    "# The four commonly used metrics for evaluating classifier performance are:\n",
    "# 1. Accuracy: The proportion of correct predictions out of the total predictions.\n",
    "# 2. Precision: The proportion of true positive predictions out of the total positive predictions (precision = true positives / (true positives + false positives)). IF you want the accuracy of positive predictions\n",
    "# 3. Recall (Sensitivity or True Positive Rate): The proportion of true positive predictions out of the total actual positive instances (recall = true positives / (true positives + false negatives)). It you want the completeness of Positive Predictions\n",
    "# 4. F1 Score: The harmonic mean of precision and recall, providing a balance between the two metrics (F1 score = 2 * ((precision * recall) / (precision + recall))).If you want Both."
   ]
  },
  {
   "cell_type": "code",
   "execution_count": 12,
   "id": "b9a1c45e-80d2-4f80-8f70-e5b52e01eece",
   "metadata": {},
   "outputs": [],
   "source": [
    "# Metrics like accuracy, precision, recall are good ways to evaluate classification models for balanced datasets, but if the data is imbalanced then other methods like ROC/AUC perform better in evaluating the model performance."
   ]
  },
  {
   "cell_type": "code",
   "execution_count": null,
   "id": "5e6e3614-9a8b-4f53-b2b6-a1a1a825db30",
   "metadata": {},
   "outputs": [],
   "source": [
    "# Binary classification are those tasks where examples are assigned exactly one of two classes. Multi-class classification is those tasks where examples are assigned exactly one of more than two classes"
   ]
  },
  {
   "cell_type": "code",
   "execution_count": 14,
   "id": "f75d381e-ff41-4f90-9029-b235e852c939",
   "metadata": {},
   "outputs": [],
   "source": [
    "#Q5"
   ]
  },
  {
   "cell_type": "code",
   "execution_count": 16,
   "id": "5d83aae8-006a-4e0f-9019-d3401301043d",
   "metadata": {},
   "outputs": [],
   "source": [
    "# Logistic regression can be applied to solve multiclass problems.\n",
    "# Common Approaches\n",
    "# 1. One-vs-Rest (One-vs-All):For each class, build a logistic regression to find the probability the observation belongs to that\n",
    "#                             class. For each data point, predict the class with the highest probability\n",
    "# 2. Softmax Regression (Multinomial Logistic Regression):Softmax regression (or multinomial logistic regression) is a generalization of logistic regression to the case where we want to handle multiple classes."
   ]
  },
  {
   "cell_type": "code",
   "execution_count": 17,
   "id": "30af9d39-c62d-4008-ad99-9562d2796556",
   "metadata": {},
   "outputs": [],
   "source": [
    "#Q6"
   ]
  },
  {
   "cell_type": "code",
   "execution_count": 18,
   "id": "f7457096-af83-47ec-916c-4c0055181b1b",
   "metadata": {},
   "outputs": [],
   "source": [
    "# The Steps are:\n",
    "# Dataset\n",
    "# Loading the data\n",
    "# Feature Engineering\n",
    "# Processing\n",
    "# Exploring Multi-classification Models\n",
    "# Compare Model performance\n",
    "# Evaluation\n",
    "# Prediction"
   ]
  },
  {
   "cell_type": "code",
   "execution_count": 19,
   "id": "f1773a3e-66c9-45f2-b0fc-44d6dc134f25",
   "metadata": {},
   "outputs": [],
   "source": [
    "#q7"
   ]
  },
  {
   "cell_type": "code",
   "execution_count": 20,
   "id": "4eb22bc0-4db4-436b-bf14-43212fe2922b",
   "metadata": {},
   "outputs": [],
   "source": [
    "# Model deployment is the process of putting machine learning \n",
    "#models into production. This makes the model's predictions\n",
    "# available to users, developers or systems, so they can make business decisions based on data, interact with their application (like recognize a face in an image) and so on."
   ]
  },
  {
   "cell_type": "code",
   "execution_count": 21,
   "id": "2f506995-a2be-487f-81ab-3f9b63a91579",
   "metadata": {},
   "outputs": [],
   "source": [
    "#q8"
   ]
  },
  {
   "cell_type": "code",
   "execution_count": 22,
   "id": "a79b634f-3665-4791-9c10-1f45466a4518",
   "metadata": {},
   "outputs": [],
   "source": [
    "# The multi-cloud deployment model usually refers to the use\n",
    "# of multiple public cloud providers to increase flexibility\n",
    "# and fault tolerance, such as the use of Microsoft Azure,\n",
    "# Amazon AWS, and Google Cloud. The private cloud can also \n",
    "# be thrown into the mix to give extra reliability and \n",
    "# flexibility."
   ]
  },
  {
   "cell_type": "code",
   "execution_count": 23,
   "id": "bba4d4c3-a056-4a59-a1bf-779430d8e1aa",
   "metadata": {},
   "outputs": [],
   "source": [
    "#q9"
   ]
  },
  {
   "cell_type": "code",
   "execution_count": 24,
   "id": "8f714ccb-63de-4234-a69a-3ca4f4e583ea",
   "metadata": {},
   "outputs": [],
   "source": [
    "# Increased reliability and redundancy. Multicloud reduces unplanned downtime or outages since it reduces the risk of a single point of failure.\n",
    "# An outage in one cloud won't necessarily impact services in other clouds, and if your cloud does go down, your computing needs can be routed to \n",
    "# another cloud that's ready to go."
   ]
  },
  {
   "cell_type": "code",
   "execution_count": null,
   "id": "49c918fe-4460-4b62-81a9-5e40323f5088",
   "metadata": {},
   "outputs": [],
   "source": []
  }
 ],
 "metadata": {
  "kernelspec": {
   "display_name": "Python 3 (ipykernel)",
   "language": "python",
   "name": "python3"
  },
  "language_info": {
   "codemirror_mode": {
    "name": "ipython",
    "version": 3
   },
   "file_extension": ".py",
   "mimetype": "text/x-python",
   "name": "python",
   "nbconvert_exporter": "python",
   "pygments_lexer": "ipython3",
   "version": "3.10.8"
  }
 },
 "nbformat": 4,
 "nbformat_minor": 5
}
