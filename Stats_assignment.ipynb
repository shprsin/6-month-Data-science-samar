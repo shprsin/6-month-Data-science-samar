{
 "cells": [
  {
   "cell_type": "raw",
   "id": "6564af6c-5a07-4624-b525-0fee25a4b3f9",
   "metadata": {},
   "source": [
    "Q1\n",
    "To use the ANOVA test we made the following assumptions:\n",
    "\n",
    "Each group sample is drawn from a normally distributed population\n",
    "All populations have a common variance\n",
    "All samples are drawn independently of each other\n",
    "Within each sample, the observations are sampled randomly and independently of each other\n",
    "Factor effects are additive"
   ]
  },
  {
   "cell_type": "raw",
   "id": "d7f68ec3-d51e-4eb2-bbec-26d04b389de3",
   "metadata": {},
   "source": [
    "Violation of the above assumptions impact the F statistic and does not allow for Proper inferences or results from the Data Set. Example presence of outliers impact the value of F statistics to a significant extent."
   ]
  },
  {
   "cell_type": "raw",
   "id": "71f0741c-8f05-4d07-9225-2f8ea64e416a",
   "metadata": {},
   "source": [
    "Q2\n",
    "The types of Anova are:\n",
    "One-Way ANOVA\n",
    "A one-way ANOVA has just one independent variable. For example, difference in IQ can be assessed by Country, and County can have 2, 20, or more different categories to compare.\n",
    "\n",
    "Two-Way ANOVA\n",
    "A two-way ANOVA (are also called factorial ANOVA) refers to an ANOVA using two independent variables. Expanding the example above, a 2-way ANOVA can examine differences in IQ scores (the dependent variable) by Country (independent variable 1) and Gender (independent variable 2). Two-way ANOVA can be used to examine the interaction between the two independent variables. Interactions indicate that differences are not uniform across all categories of the independent variables. For example, females may have higher IQ scores overall compared to males, but this difference could be greater (or less) in European countries compared to North American countries.\n",
    "\n",
    "N-Way ANOVA\n",
    "A researcher can also use more than two independent variables, and this is an n-way ANOVA (with n being the number of independent variables you have). For example, potential differences in IQ scores can be examined by Country, Gender, Age group, Ethnicity, etc, simultaneously."
   ]
  },
  {
   "cell_type": "raw",
   "id": "73f06d6a-ae53-41b7-b0f2-a809957e6ee6",
   "metadata": {},
   "source": [
    "Q3\n",
    " An ANOVA uses an F-test to evaluate whether the variance among the groups is greater than the variance within a group.\n",
    "\n",
    "Another way to view this problem is that we could partition variance, that is, we could divide the total variance in our data into the various sources of that variation. Some of the variance would come from variation among replicates within each group. Some of the variance may also come from variation among the groups. Partitioning variance is an incredibly important concept within statistics. For scientists, it is a useful way of looking at the world: variation is everywhere, and we want to know the relative contributions of all the sources of variation"
   ]
  },
  {
   "cell_type": "raw",
   "id": "84529db7-b90a-492f-a06e-3a7d8d0499b1",
   "metadata": {},
   "source": [
    "Q4\n",
    ". Sum of Squares Total (SST) – The sum of squared differences between individual data points (yi) and the mean of the response variable (y).\n",
    "\n",
    "SST = Σ(yi – y)2\n",
    "2. Sum of Squares Regression (SSR) – The sum of squared differences between predicted data points (ŷi) and the mean of the response variable(y).\n",
    "\n",
    "SSR = Σ(ŷi – y)2\n",
    "3. Sum of Squares Error (SSE) – The sum of squared differences between predicted data points (ŷi) and observed data points (yi).\n",
    "SSE = Σ(ŷi – yi)2"
   ]
  },
  {
   "cell_type": "code",
   "execution_count": 9,
   "id": "3f6290fc-ca6e-4a4b-83de-a3bcf04dc3ff",
   "metadata": {},
   "outputs": [
    {
     "name": "stdout",
     "output_type": "stream",
     "text": [
      "                             df     sum_sq   mean_sq         F    PR(>F)\n",
      "C(Fertilizer)               1.0   0.033333  0.033333  0.012069  0.913305\n",
      "C(Watering)                 1.0   0.000369  0.000369  0.000133  0.990865\n",
      "C(Fertilizer):C(Watering)   1.0   0.040866  0.040866  0.014796  0.904053\n",
      "Residual                   28.0  77.333333  2.761905       NaN       NaN\n"
     ]
    }
   ],
   "source": [
    "#Q5\n",
    "# Importing libraries \n",
    "import pandas as pd\n",
    "import numpy as np\n",
    "import statsmodels.api as sm \n",
    "from statsmodels.formula.api import ols \n",
    "\n",
    "# Create a dataframe \n",
    "dataframe = pd.DataFrame({'Fertilizer': np.repeat(['daily', 'weekly'], 15), \n",
    "\t\t\t\t\t\t'Watering': np.repeat(['daily', 'weekly'], 15), \n",
    "\t\t\t\t\t\t'height': [14, 16, 15, 15, 16, 13, 12, 11, \n",
    "\t\t\t\t\t\t\t\t\t14, 15, 16, 16, 17, 18, 14, 13, \n",
    "\t\t\t\t\t\t\t\t\t14, 14, 14, 15, 16, 16, 17, 18, \n",
    "\t\t\t\t\t\t\t\t\t14, 13, 14, 14, 14, 15]}) \n",
    "\n",
    "\n",
    "# Performing two-way ANOVA \n",
    "model = ols(\"height ~ C(Fertilizer) + C(Watering) + C(Fertilizer):C(Watering)\", data=dataframe).fit() \n",
    "result = sm.stats.anova_lm(model, type=2) \n",
    "\n",
    "# Print the result \n",
    "print(result) \n"
   ]
  },
  {
   "cell_type": "raw",
   "id": "751462ef-00f8-4c74-875a-70485b7203cc",
   "metadata": {},
   "source": [
    "To find and interpret main effects, the means of each independent variable must be taken and then compared with one another. To analyze interactions, the main effect of one independent variable must be analyzed at each level of the other independent variable\n"
   ]
  },
  {
   "cell_type": "raw",
   "id": "a40274c1-1495-4ed4-8605-203c669bd85a",
   "metadata": {},
   "source": [
    "Q6 F-statistic of 5.23 and a p-value of 0.02.\n",
    "What can you conclude about the differences between the groups, and how would you interpret these\n",
    "results?\n",
    "\n",
    "We can assume the sample size and find the degree of Freedom from F table and compare it with the F statistic to Tell us whether the Null Hypothesis can accepted."
   ]
  },
  {
   "cell_type": "raw",
   "id": "a3c99a26-e963-481e-a6e8-c8a21e414415",
   "metadata": {},
   "source": [
    "Q7\n",
    "To deal with missing Data we can use:\n",
    "1. Listwise Deletion: Whenever there are missing values he Entire list is deleted and not taken account.\n",
    "2.Multiple imputation- Running MI consists of three steps. First, the missing data are imputed multiple times. Second, the imputed data sets are analyzed separately. Third, the parameter estimates and hypothesis tests are pooled to form a final set of estimates and inferences"
   ]
  },
  {
   "cell_type": "raw",
   "id": "17e9beeb-1245-4a11-abc3-e6a353ebc905",
   "metadata": {},
   "source": [
    "Q8 Post hoc tests commonly used are:\n",
    "LSD: Uses t tests to perform all pairwise comparisons between group means. No adjustment is made to the error rate for multiple comparisons.\n",
    "Bonferroni: Uses t tests to perform pairwise comparisons between group means, but controls overall error rate by setting the error rate for each test to the experimentwise error rate divided by the total number of tests. Hence, the observed significance level is adjusted for the fact that multiple comparisons are being made.\n",
    "Sidak: Pairwise multiple comparison test based on a t statistic. Sidak adjusts the significance level for multiple comparisons and provides tighter bounds than Bonferroni.\n",
    "Scheffe: Performs simultaneous joint pairwise comparisons for all possible pairwise combinations of means. Uses the F sampling distribution. Can be used to examine all possible linear combinations of group means, not just pairwise comparisons.\n",
    "R-E-G-W F: Ryan-Einot-Gabriel-Welsch multiple stepdown procedure based on an F test.\n",
    "R-E-G-W Q: Ryan-Einot-Gabriel-Welsch multiple stepdown procedure based on the Studentized range.\n",
    "S-N-K: Makes all pairwise comparisons between means using the Studentized range distribution. With equal sample sizes, it also compares pairs of means within homogeneous subsets, using a stepwise procedure. Means are ordered from highest to lowest, and extreme differences are tested first.\n",
    "Tukey: Uses the Studentized range statistic to make all of the pairwise comparisons between groups. Sets the experimentwise error rate at the error rate for the collection for all pairwise comparisons.\n",
    "Tukey's b: Uses the Studentized range distribution to make pairwise comparisons between groups. The critical value is the average of the corresponding value for the Tukey's honestly significant difference test and the Student-Newman-Keuls.\n",
    "Duncan: Makes pairwise comparisons using a stepwise order of comparisons identical to the order used by the Student-Newman-Keuls test, but sets a protection level for the error rate for the collection of tests, rather than an error rate for individual tests. Uses the Studentized range statistic.\n",
    "Hochberg's GT2: Multiple comparison and range test that uses the Studentized maximum modulus. Similar to Tukey's honestly significant difference test.\n",
    "Gabriel: Pairwise comparison test that used the Studentized maximum modulus and is generally more powerful than Hochberg's GT2 when the cell sizes are unequal. Gabriel's test may become liberal when the cell sizes vary greatly.\n",
    "Waller-Duncan: Multiple comparison test based on a t statistic; uses a Bayesian approach.\n",
    "Dunnett: Pairwise multiple comparison t test that compares a set of treatments against a single control mean. The last category is the default control category. Alternatively, you can choose the first category. 2-sided tests that the mean at any level (except the control category) of the factor is not equal to that of the control category. < Control tests if the mean at any level of the factor is smaller than that of the control category. > Control tests if the mean at any level of the factor is greater than that of the control category."
   ]
  },
  {
   "cell_type": "raw",
   "id": "b2df5eea-2971-4a25-bb3d-29c81869150c",
   "metadata": {},
   "source": [
    "A priori comparisons are performed before the data are collected, and post-hoc (or a posteriori) comparisons are done after the data have been collected. When the null hypothesis of an analysis of variance (ANOVA) model is rejected, post-hoc tests are used to identify the population means that are different."
   ]
  },
  {
   "cell_type": "code",
   "execution_count": 19,
   "id": "5288c3c8-6511-4915-8da1-df2ae1c7b4ca",
   "metadata": {},
   "outputs": [
    {
     "name": "stderr",
     "output_type": "stream",
     "text": [
      "/tmp/ipykernel_77/3866978017.py:3: DeprecationWarning: This function is deprecated. Please call randint(40, 100 + 1) instead\n",
      "  df = pd.DataFrame({'A': np.random.random_integers(40, 100, n),\n",
      "/tmp/ipykernel_77/3866978017.py:4: DeprecationWarning: This function is deprecated. Please call randint(40, 100 + 1) instead\n",
      "  'B': np.random.random_integers(40, 100, n),\n",
      "/tmp/ipykernel_77/3866978017.py:5: DeprecationWarning: This function is deprecated. Please call randint(40, 100 + 1) instead\n",
      "  'C': np.random.random_integers(40, 100, n)})\n"
     ]
    }
   ],
   "source": [
    "#Q9\n",
    "n=50\n",
    "df = pd.DataFrame({'A': np.random.random_integers(40, 100, n), \n",
    "\t\t\t\t\t\t'B': np.random.random_integers(40, 100, n), \n",
    "\t\t\t\t\t\t'C': np.random.random_integers(40, 100, n)}) "
   ]
  },
  {
   "cell_type": "code",
   "execution_count": 15,
   "id": "e74514a2-426c-4fd1-8039-7d2fa92abd5e",
   "metadata": {},
   "outputs": [
    {
     "data": {
      "text/html": [
       "<div>\n",
       "<style scoped>\n",
       "    .dataframe tbody tr th:only-of-type {\n",
       "        vertical-align: middle;\n",
       "    }\n",
       "\n",
       "    .dataframe tbody tr th {\n",
       "        vertical-align: top;\n",
       "    }\n",
       "\n",
       "    .dataframe thead th {\n",
       "        text-align: right;\n",
       "    }\n",
       "</style>\n",
       "<table border=\"1\" class=\"dataframe\">\n",
       "  <thead>\n",
       "    <tr style=\"text-align: right;\">\n",
       "      <th></th>\n",
       "      <th>A</th>\n",
       "      <th>B</th>\n",
       "      <th>C</th>\n",
       "    </tr>\n",
       "  </thead>\n",
       "  <tbody>\n",
       "    <tr>\n",
       "      <th>0</th>\n",
       "      <td>99</td>\n",
       "      <td>95</td>\n",
       "      <td>69</td>\n",
       "    </tr>\n",
       "    <tr>\n",
       "      <th>1</th>\n",
       "      <td>80</td>\n",
       "      <td>94</td>\n",
       "      <td>49</td>\n",
       "    </tr>\n",
       "    <tr>\n",
       "      <th>2</th>\n",
       "      <td>64</td>\n",
       "      <td>46</td>\n",
       "      <td>62</td>\n",
       "    </tr>\n",
       "    <tr>\n",
       "      <th>3</th>\n",
       "      <td>85</td>\n",
       "      <td>44</td>\n",
       "      <td>42</td>\n",
       "    </tr>\n",
       "    <tr>\n",
       "      <th>4</th>\n",
       "      <td>69</td>\n",
       "      <td>67</td>\n",
       "      <td>82</td>\n",
       "    </tr>\n",
       "    <tr>\n",
       "      <th>5</th>\n",
       "      <td>97</td>\n",
       "      <td>93</td>\n",
       "      <td>74</td>\n",
       "    </tr>\n",
       "    <tr>\n",
       "      <th>6</th>\n",
       "      <td>80</td>\n",
       "      <td>76</td>\n",
       "      <td>70</td>\n",
       "    </tr>\n",
       "    <tr>\n",
       "      <th>7</th>\n",
       "      <td>51</td>\n",
       "      <td>65</td>\n",
       "      <td>81</td>\n",
       "    </tr>\n",
       "    <tr>\n",
       "      <th>8</th>\n",
       "      <td>89</td>\n",
       "      <td>74</td>\n",
       "      <td>76</td>\n",
       "    </tr>\n",
       "    <tr>\n",
       "      <th>9</th>\n",
       "      <td>80</td>\n",
       "      <td>89</td>\n",
       "      <td>42</td>\n",
       "    </tr>\n",
       "    <tr>\n",
       "      <th>10</th>\n",
       "      <td>94</td>\n",
       "      <td>88</td>\n",
       "      <td>58</td>\n",
       "    </tr>\n",
       "    <tr>\n",
       "      <th>11</th>\n",
       "      <td>78</td>\n",
       "      <td>95</td>\n",
       "      <td>59</td>\n",
       "    </tr>\n",
       "    <tr>\n",
       "      <th>12</th>\n",
       "      <td>98</td>\n",
       "      <td>72</td>\n",
       "      <td>83</td>\n",
       "    </tr>\n",
       "    <tr>\n",
       "      <th>13</th>\n",
       "      <td>98</td>\n",
       "      <td>85</td>\n",
       "      <td>42</td>\n",
       "    </tr>\n",
       "    <tr>\n",
       "      <th>14</th>\n",
       "      <td>64</td>\n",
       "      <td>65</td>\n",
       "      <td>54</td>\n",
       "    </tr>\n",
       "    <tr>\n",
       "      <th>15</th>\n",
       "      <td>40</td>\n",
       "      <td>88</td>\n",
       "      <td>48</td>\n",
       "    </tr>\n",
       "    <tr>\n",
       "      <th>16</th>\n",
       "      <td>66</td>\n",
       "      <td>45</td>\n",
       "      <td>74</td>\n",
       "    </tr>\n",
       "    <tr>\n",
       "      <th>17</th>\n",
       "      <td>54</td>\n",
       "      <td>92</td>\n",
       "      <td>84</td>\n",
       "    </tr>\n",
       "    <tr>\n",
       "      <th>18</th>\n",
       "      <td>72</td>\n",
       "      <td>78</td>\n",
       "      <td>95</td>\n",
       "    </tr>\n",
       "    <tr>\n",
       "      <th>19</th>\n",
       "      <td>72</td>\n",
       "      <td>41</td>\n",
       "      <td>46</td>\n",
       "    </tr>\n",
       "    <tr>\n",
       "      <th>20</th>\n",
       "      <td>66</td>\n",
       "      <td>62</td>\n",
       "      <td>42</td>\n",
       "    </tr>\n",
       "    <tr>\n",
       "      <th>21</th>\n",
       "      <td>57</td>\n",
       "      <td>97</td>\n",
       "      <td>72</td>\n",
       "    </tr>\n",
       "    <tr>\n",
       "      <th>22</th>\n",
       "      <td>44</td>\n",
       "      <td>95</td>\n",
       "      <td>67</td>\n",
       "    </tr>\n",
       "    <tr>\n",
       "      <th>23</th>\n",
       "      <td>76</td>\n",
       "      <td>71</td>\n",
       "      <td>81</td>\n",
       "    </tr>\n",
       "    <tr>\n",
       "      <th>24</th>\n",
       "      <td>68</td>\n",
       "      <td>78</td>\n",
       "      <td>60</td>\n",
       "    </tr>\n",
       "    <tr>\n",
       "      <th>25</th>\n",
       "      <td>99</td>\n",
       "      <td>62</td>\n",
       "      <td>57</td>\n",
       "    </tr>\n",
       "    <tr>\n",
       "      <th>26</th>\n",
       "      <td>65</td>\n",
       "      <td>45</td>\n",
       "      <td>91</td>\n",
       "    </tr>\n",
       "    <tr>\n",
       "      <th>27</th>\n",
       "      <td>98</td>\n",
       "      <td>81</td>\n",
       "      <td>66</td>\n",
       "    </tr>\n",
       "    <tr>\n",
       "      <th>28</th>\n",
       "      <td>96</td>\n",
       "      <td>100</td>\n",
       "      <td>73</td>\n",
       "    </tr>\n",
       "    <tr>\n",
       "      <th>29</th>\n",
       "      <td>55</td>\n",
       "      <td>79</td>\n",
       "      <td>81</td>\n",
       "    </tr>\n",
       "    <tr>\n",
       "      <th>30</th>\n",
       "      <td>98</td>\n",
       "      <td>89</td>\n",
       "      <td>84</td>\n",
       "    </tr>\n",
       "    <tr>\n",
       "      <th>31</th>\n",
       "      <td>90</td>\n",
       "      <td>85</td>\n",
       "      <td>100</td>\n",
       "    </tr>\n",
       "    <tr>\n",
       "      <th>32</th>\n",
       "      <td>47</td>\n",
       "      <td>61</td>\n",
       "      <td>82</td>\n",
       "    </tr>\n",
       "    <tr>\n",
       "      <th>33</th>\n",
       "      <td>71</td>\n",
       "      <td>58</td>\n",
       "      <td>42</td>\n",
       "    </tr>\n",
       "    <tr>\n",
       "      <th>34</th>\n",
       "      <td>61</td>\n",
       "      <td>44</td>\n",
       "      <td>99</td>\n",
       "    </tr>\n",
       "    <tr>\n",
       "      <th>35</th>\n",
       "      <td>61</td>\n",
       "      <td>86</td>\n",
       "      <td>84</td>\n",
       "    </tr>\n",
       "    <tr>\n",
       "      <th>36</th>\n",
       "      <td>88</td>\n",
       "      <td>93</td>\n",
       "      <td>53</td>\n",
       "    </tr>\n",
       "    <tr>\n",
       "      <th>37</th>\n",
       "      <td>45</td>\n",
       "      <td>46</td>\n",
       "      <td>48</td>\n",
       "    </tr>\n",
       "    <tr>\n",
       "      <th>38</th>\n",
       "      <td>81</td>\n",
       "      <td>50</td>\n",
       "      <td>50</td>\n",
       "    </tr>\n",
       "    <tr>\n",
       "      <th>39</th>\n",
       "      <td>56</td>\n",
       "      <td>41</td>\n",
       "      <td>77</td>\n",
       "    </tr>\n",
       "    <tr>\n",
       "      <th>40</th>\n",
       "      <td>44</td>\n",
       "      <td>58</td>\n",
       "      <td>83</td>\n",
       "    </tr>\n",
       "    <tr>\n",
       "      <th>41</th>\n",
       "      <td>96</td>\n",
       "      <td>53</td>\n",
       "      <td>41</td>\n",
       "    </tr>\n",
       "    <tr>\n",
       "      <th>42</th>\n",
       "      <td>91</td>\n",
       "      <td>72</td>\n",
       "      <td>95</td>\n",
       "    </tr>\n",
       "    <tr>\n",
       "      <th>43</th>\n",
       "      <td>61</td>\n",
       "      <td>66</td>\n",
       "      <td>64</td>\n",
       "    </tr>\n",
       "    <tr>\n",
       "      <th>44</th>\n",
       "      <td>99</td>\n",
       "      <td>43</td>\n",
       "      <td>89</td>\n",
       "    </tr>\n",
       "    <tr>\n",
       "      <th>45</th>\n",
       "      <td>55</td>\n",
       "      <td>55</td>\n",
       "      <td>99</td>\n",
       "    </tr>\n",
       "    <tr>\n",
       "      <th>46</th>\n",
       "      <td>44</td>\n",
       "      <td>75</td>\n",
       "      <td>72</td>\n",
       "    </tr>\n",
       "    <tr>\n",
       "      <th>47</th>\n",
       "      <td>55</td>\n",
       "      <td>60</td>\n",
       "      <td>80</td>\n",
       "    </tr>\n",
       "    <tr>\n",
       "      <th>48</th>\n",
       "      <td>51</td>\n",
       "      <td>98</td>\n",
       "      <td>57</td>\n",
       "    </tr>\n",
       "    <tr>\n",
       "      <th>49</th>\n",
       "      <td>94</td>\n",
       "      <td>51</td>\n",
       "      <td>46</td>\n",
       "    </tr>\n",
       "  </tbody>\n",
       "</table>\n",
       "</div>"
      ],
      "text/plain": [
       "     A    B    C\n",
       "0   99   95   69\n",
       "1   80   94   49\n",
       "2   64   46   62\n",
       "3   85   44   42\n",
       "4   69   67   82\n",
       "5   97   93   74\n",
       "6   80   76   70\n",
       "7   51   65   81\n",
       "8   89   74   76\n",
       "9   80   89   42\n",
       "10  94   88   58\n",
       "11  78   95   59\n",
       "12  98   72   83\n",
       "13  98   85   42\n",
       "14  64   65   54\n",
       "15  40   88   48\n",
       "16  66   45   74\n",
       "17  54   92   84\n",
       "18  72   78   95\n",
       "19  72   41   46\n",
       "20  66   62   42\n",
       "21  57   97   72\n",
       "22  44   95   67\n",
       "23  76   71   81\n",
       "24  68   78   60\n",
       "25  99   62   57\n",
       "26  65   45   91\n",
       "27  98   81   66\n",
       "28  96  100   73\n",
       "29  55   79   81\n",
       "30  98   89   84\n",
       "31  90   85  100\n",
       "32  47   61   82\n",
       "33  71   58   42\n",
       "34  61   44   99\n",
       "35  61   86   84\n",
       "36  88   93   53\n",
       "37  45   46   48\n",
       "38  81   50   50\n",
       "39  56   41   77\n",
       "40  44   58   83\n",
       "41  96   53   41\n",
       "42  91   72   95\n",
       "43  61   66   64\n",
       "44  99   43   89\n",
       "45  55   55   99\n",
       "46  44   75   72\n",
       "47  55   60   80\n",
       "48  51   98   57\n",
       "49  94   51   46"
      ]
     },
     "execution_count": 15,
     "metadata": {},
     "output_type": "execute_result"
    }
   ],
   "source": [
    "dataframe"
   ]
  },
  {
   "cell_type": "code",
   "execution_count": 17,
   "id": "6c426454-6c33-49fb-908f-a7360a9aa28e",
   "metadata": {},
   "outputs": [],
   "source": [
    "from scipy.stats import f_oneway as FO "
   ]
  },
  {
   "cell_type": "code",
   "execution_count": 23,
   "id": "82a6d13f-5e1e-41c6-8cc8-2cd055680e96",
   "metadata": {},
   "outputs": [],
   "source": [
    "p=FO(df['A'],df['B'],df['C']).pvalue"
   ]
  },
  {
   "cell_type": "code",
   "execution_count": 24,
   "id": "93676649-0e3e-474d-9193-76c7a9617ba0",
   "metadata": {},
   "outputs": [
    {
     "name": "stdout",
     "output_type": "stream",
     "text": [
      "Accept the Null Hypothesis\n"
     ]
    }
   ],
   "source": [
    "if (p>.05):\n",
    "    print(\"Accept the Null Hypothesis\")\n",
    "else:\n",
    "    print(\"Reject the Null Hypothesis\")"
   ]
  },
  {
   "cell_type": "code",
   "execution_count": 26,
   "id": "50b73563-cf12-44de-8578-4a00fe42998a",
   "metadata": {},
   "outputs": [],
   "source": [
    "#Q10"
   ]
  },
  {
   "cell_type": "code",
   "execution_count": null,
   "id": "7285dd4f-29e4-41ef-b8dd-9e6452c66a33",
   "metadata": {},
   "outputs": [],
   "source": []
  },
  {
   "cell_type": "code",
   "execution_count": 44,
   "id": "b38c0d73-6c8a-45c6-838c-273080558d05",
   "metadata": {},
   "outputs": [
    {
     "name": "stderr",
     "output_type": "stream",
     "text": [
      "/tmp/ipykernel_77/2663987935.py:4: DeprecationWarning: This function is deprecated. Please call randint(20, 50 + 1) instead\n",
      "  'Time': np.random.random_integers(20,50,30)})\n"
     ]
    }
   ],
   "source": [
    "# Create a dataframe \n",
    "dataframe = pd.DataFrame({'Emp': np.repeat(['Novice', 'Experienced'], 15), \n",
    "\t\t\t\t\t\t'Program': np.repeat(['A','B','C'], 10), \n",
    "\t\t\t\t\t\t'Time': np.random.random_integers(20,50,30)}) \n",
    "\n",
    "\n"
   ]
  },
  {
   "cell_type": "code",
   "execution_count": 45,
   "id": "f6f0c1c7-9539-4d8c-94fa-cb069d2acd1b",
   "metadata": {},
   "outputs": [
    {
     "name": "stdout",
     "output_type": "stream",
     "text": [
      "                     df       sum_sq     mean_sq         F    PR(>F)\n",
      "C(Emp)              1.0   360.533333  360.533333  7.183590  0.012599\n",
      "C(Program)          2.0   190.433333   95.216667  1.897182  0.170181\n",
      "C(Emp):C(Program)   2.0   207.552488  103.776244  2.067731  0.146771\n",
      "Residual           26.0  1304.900000   50.188462       NaN       NaN\n"
     ]
    }
   ],
   "source": [
    "# Performing two-way ANOVA \n",
    "model = ols(\"Time ~ C(Emp) + C(Program) + C(Emp):C(Program)\", data=dataframe).fit() \n",
    "result = sm.stats.anova_lm(model, type=2) \n",
    "\n",
    "# Print the result \n",
    "print(result) "
   ]
  },
  {
   "cell_type": "code",
   "execution_count": 46,
   "id": "a7ccbf4f-bcf7-4601-8850-ce2940b55916",
   "metadata": {},
   "outputs": [
    {
     "name": "stdout",
     "output_type": "stream",
     "text": [
      "Since the p-values for Emp are both less than .05, this means the factor have a statistically significant effect on time.And since the p-value for the interaction effect (.120667) and The type of Program(.1701) is not less than .05, this tells us that there is no significant interaction effect between emp and program and also program type does not affect time significantly\n"
     ]
    }
   ],
   "source": [
    "print(\"Since the p-values for Emp are both less than .05, this means the factor have a statistically significant effect on time.And since the p-value for the interaction effect (.120667) and The type of Program(.1701) is not less than .05, this tells us that there is no significant interaction effect between emp and program and also program type does not affect time significantly\")"
   ]
  },
  {
   "cell_type": "code",
   "execution_count": 53,
   "id": "cf4559f6-4e81-4cf4-bd73-2559f86a1b8f",
   "metadata": {},
   "outputs": [],
   "source": [
    "#Q11\n",
    "from scipy import stats\n",
    "t=np.random.randint(0,100,50)\n",
    "n=np.random.randint(0,100,50)"
   ]
  },
  {
   "cell_type": "code",
   "execution_count": 57,
   "id": "c567a769-de9e-4a54-a9c6-ee9596b493dd",
   "metadata": {},
   "outputs": [],
   "source": [
    "a=stats.ttest_ind(a=t, b=n, equal_var=True)"
   ]
  },
  {
   "cell_type": "code",
   "execution_count": 62,
   "id": "ab6581ce-237e-4714-a7c5-81b2b146f9a6",
   "metadata": {},
   "outputs": [
    {
     "data": {
      "text/plain": [
       "0.6657679239774184"
      ]
     },
     "execution_count": 62,
     "metadata": {},
     "output_type": "execute_result"
    }
   ],
   "source": [
    "significance_value=.05\n",
    "a.pvalue"
   ]
  },
  {
   "cell_type": "code",
   "execution_count": 66,
   "id": "12b2f66b-553e-4902-9f71-90b0ba497ff1",
   "metadata": {},
   "outputs": [
    {
     "name": "stdout",
     "output_type": "stream",
     "text": [
      "Reject the Null Hypothesis\n"
     ]
    }
   ],
   "source": [
    "if (a.pvalue>significance_value):\n",
    "    print(\"Reject the Null Hypothesis\")\n",
    "else:\n",
    "    print(\"Accept the Null Hypothesis\")"
   ]
  },
  {
   "cell_type": "code",
   "execution_count": 68,
   "id": "182d3708-08f0-4387-8820-dfa570db5a43",
   "metadata": {},
   "outputs": [],
   "source": [
    "from statsmodels.stats.multicomp import pairwise_tukeyhsd"
   ]
  },
  {
   "cell_type": "code",
   "execution_count": 77,
   "id": "d6b4a15d-16ff-4243-9fc6-add4fef59d33",
   "metadata": {},
   "outputs": [
    {
     "name": "stderr",
     "output_type": "stream",
     "text": [
      "/tmp/ipykernel_77/1431686521.py:4: DeprecationWarning: This function is deprecated. Please call randint(20, 50 + 1) instead\n",
      "  'T': np.random.random_integers(20,50,90)})\n"
     ]
    }
   ],
   "source": [
    "# Create a dataframe \n",
    "dataframe = pd.DataFrame({'Type': np.repeat(['A', 'B','C'],30 ), \n",
    "\t\t\t\t\t\t'Day': np.repeat(['Mon','Tue','Wed','Thur','Fri'],18), \n",
    "\t\t\t\t\t\t'T': np.random.random_integers(20,50,90)})"
   ]
  },
  {
   "cell_type": "code",
   "execution_count": 78,
   "id": "f9f05e12-1c27-4978-91e6-681ef03dfd49",
   "metadata": {},
   "outputs": [
    {
     "name": "stdout",
     "output_type": "stream",
     "text": [
      "                  df       sum_sq     mean_sq         F    PR(>F)\n",
      "C(Type)          2.0    69.266667   34.633333  0.406302  0.667426\n",
      "C(Day)           4.0   490.188889  122.547222  1.437668  0.228839\n",
      "C(Type):C(Day)   8.0   651.377047   81.422131  0.955207  0.476579\n",
      "Residual        83.0  7074.944444   85.240295       NaN       NaN\n"
     ]
    }
   ],
   "source": [
    "# Performing two-way ANOVA \n",
    "model = ols(\"T ~ C(Type) + C(Day) + C(Type):C(Day)\", data=dataframe).fit() \n",
    "result = sm.stats.anova_lm(model, type=2) \n",
    "\n",
    "# Print the result \n",
    "print(result) "
   ]
  },
  {
   "cell_type": "code",
   "execution_count": null,
   "id": "fe4f3594-5b9f-4ebe-b6f5-4f6a2fa7bd59",
   "metadata": {},
   "outputs": [],
   "source": []
  },
  {
   "cell_type": "code",
   "execution_count": 80,
   "id": "bf68dc6f-bec5-49fe-8b64-448ab3cb7c41",
   "metadata": {},
   "outputs": [],
   "source": [
    "tukey = pairwise_tukeyhsd(endog=dataframe['T'],\n",
    "                          groups=dataframe['Type'],\n",
    "                          alpha=0.05)"
   ]
  },
  {
   "cell_type": "code",
   "execution_count": 81,
   "id": "96a13c32-6e4e-4bfe-a7bb-b68e9a7eb962",
   "metadata": {},
   "outputs": [
    {
     "name": "stdout",
     "output_type": "stream",
     "text": [
      "Multiple Comparison of Means - Tukey HSD, FWER=0.05\n",
      "===================================================\n",
      "group1 group2 meandiff p-adj   lower  upper  reject\n",
      "---------------------------------------------------\n",
      "     A      B  -0.2333 0.9948 -5.9745 5.5078  False\n",
      "     A      C   1.7333 0.7524 -4.0078 7.4745  False\n",
      "     B      C   1.9667 0.6937 -3.7745 7.7078  False\n",
      "---------------------------------------------------\n"
     ]
    }
   ],
   "source": [
    "print(tukey)"
   ]
  },
  {
   "cell_type": "code",
   "execution_count": null,
   "id": "69472c37-0fbc-4f08-87ee-e0821df9e7c1",
   "metadata": {},
   "outputs": [],
   "source": []
  }
 ],
 "metadata": {
  "kernelspec": {
   "display_name": "Python 3 (ipykernel)",
   "language": "python",
   "name": "python3"
  },
  "language_info": {
   "codemirror_mode": {
    "name": "ipython",
    "version": 3
   },
   "file_extension": ".py",
   "mimetype": "text/x-python",
   "name": "python",
   "nbconvert_exporter": "python",
   "pygments_lexer": "ipython3",
   "version": "3.10.8"
  }
 },
 "nbformat": 4,
 "nbformat_minor": 5
}
