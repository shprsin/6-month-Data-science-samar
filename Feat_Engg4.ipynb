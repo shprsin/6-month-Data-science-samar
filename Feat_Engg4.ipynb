{
 "cells": [
  {
   "cell_type": "code",
   "execution_count": 2,
   "id": "0c8fce3a-632b-48d0-acf0-a3ed45bade1e",
   "metadata": {},
   "outputs": [],
   "source": [
    "#Q1\n",
    "\n",
    "# Data Encoding is a technique used to represent categorical data as numerical data, which is more suitable for machine learning algorithms.\n",
    "# Models only work with numerical values. For this reason, it is necessary to convert the categorical values of the features into numerical ones, So the machine can learn from those data and gives the right model. "
   ]
  },
  {
   "cell_type": "code",
   "execution_count": 3,
   "id": "56d164fc-3954-4b8c-8b65-8ecb1a171790",
   "metadata": {},
   "outputs": [],
   "source": [
    "#Q2\n",
    "import pandas as pd\n",
    "from sklearn.preprocessing import OneHotEncoder"
   ]
  },
  {
   "cell_type": "code",
   "execution_count": 4,
   "id": "a09b37af-c313-4135-843e-4ea5a9348e93",
   "metadata": {},
   "outputs": [],
   "source": [
    "df = pd.DataFrame({\n",
    "    'color': ['red', 'blue', 'green', 'green', 'red', 'blue']\n",
    "})"
   ]
  },
  {
   "cell_type": "code",
   "execution_count": 5,
   "id": "c5cceeee-3f3e-4a25-bec9-d5402318dbf8",
   "metadata": {},
   "outputs": [],
   "source": [
    "encoder=OneHotEncoder()"
   ]
  },
  {
   "cell_type": "code",
   "execution_count": 6,
   "id": "4b156ea4-d9d2-47ab-812f-1dc97a635a28",
   "metadata": {},
   "outputs": [],
   "source": [
    "encoded=encoder.fit_transform(df[['color']]).toarray()"
   ]
  },
  {
   "cell_type": "code",
   "execution_count": 7,
   "id": "22e5c270-1543-4912-9eab-22b4363ce6a6",
   "metadata": {},
   "outputs": [],
   "source": [
    "encoder_df=pd.DataFrame(encoded,columns=encoder.get_feature_names_out())"
   ]
  },
  {
   "cell_type": "code",
   "execution_count": 8,
   "id": "fe978f59-a6cf-4d4d-8b7d-874df79267e0",
   "metadata": {},
   "outputs": [
    {
     "data": {
      "text/html": [
       "<div>\n",
       "<style scoped>\n",
       "    .dataframe tbody tr th:only-of-type {\n",
       "        vertical-align: middle;\n",
       "    }\n",
       "\n",
       "    .dataframe tbody tr th {\n",
       "        vertical-align: top;\n",
       "    }\n",
       "\n",
       "    .dataframe thead th {\n",
       "        text-align: right;\n",
       "    }\n",
       "</style>\n",
       "<table border=\"1\" class=\"dataframe\">\n",
       "  <thead>\n",
       "    <tr style=\"text-align: right;\">\n",
       "      <th></th>\n",
       "      <th>color_blue</th>\n",
       "      <th>color_green</th>\n",
       "      <th>color_red</th>\n",
       "    </tr>\n",
       "  </thead>\n",
       "  <tbody>\n",
       "    <tr>\n",
       "      <th>0</th>\n",
       "      <td>0.0</td>\n",
       "      <td>0.0</td>\n",
       "      <td>1.0</td>\n",
       "    </tr>\n",
       "    <tr>\n",
       "      <th>1</th>\n",
       "      <td>1.0</td>\n",
       "      <td>0.0</td>\n",
       "      <td>0.0</td>\n",
       "    </tr>\n",
       "    <tr>\n",
       "      <th>2</th>\n",
       "      <td>0.0</td>\n",
       "      <td>1.0</td>\n",
       "      <td>0.0</td>\n",
       "    </tr>\n",
       "    <tr>\n",
       "      <th>3</th>\n",
       "      <td>0.0</td>\n",
       "      <td>1.0</td>\n",
       "      <td>0.0</td>\n",
       "    </tr>\n",
       "    <tr>\n",
       "      <th>4</th>\n",
       "      <td>0.0</td>\n",
       "      <td>0.0</td>\n",
       "      <td>1.0</td>\n",
       "    </tr>\n",
       "    <tr>\n",
       "      <th>5</th>\n",
       "      <td>1.0</td>\n",
       "      <td>0.0</td>\n",
       "      <td>0.0</td>\n",
       "    </tr>\n",
       "  </tbody>\n",
       "</table>\n",
       "</div>"
      ],
      "text/plain": [
       "   color_blue  color_green  color_red\n",
       "0         0.0          0.0        1.0\n",
       "1         1.0          0.0        0.0\n",
       "2         0.0          1.0        0.0\n",
       "3         0.0          1.0        0.0\n",
       "4         0.0          0.0        1.0\n",
       "5         1.0          0.0        0.0"
      ]
     },
     "execution_count": 8,
     "metadata": {},
     "output_type": "execute_result"
    }
   ],
   "source": [
    "encoder_df"
   ]
  },
  {
   "cell_type": "code",
   "execution_count": 9,
   "id": "c98f5b45-0096-4495-aac1-2e9e674e5b39",
   "metadata": {},
   "outputs": [],
   "source": [
    "#Q3"
   ]
  },
  {
   "cell_type": "code",
   "execution_count": 10,
   "id": "8b9ce419-1abb-4fb4-b1bb-160090220c9c",
   "metadata": {},
   "outputs": [],
   "source": [
    "# To prevent biases from being introduced, One-Hot Encoding is preferable for nominal data (where there is no inherent order among categories). Label encoding, however, might be more appropriate for ordinal data (where categories naturally have an order."
   ]
  },
  {
   "cell_type": "code",
   "execution_count": 11,
   "id": "cb39e2d7-77d3-483d-9b2f-8e2a4769677f",
   "metadata": {},
   "outputs": [],
   "source": [
    "#For Example:\n",
    "# Let say we have a data with Region Faeture['s','n','e','w'] we can use a one hot encoding as there is no inherent order in the Feature. "
   ]
  },
  {
   "cell_type": "code",
   "execution_count": 13,
   "id": "09f18166-a34d-466d-af7b-3000f6f59cf0",
   "metadata": {},
   "outputs": [],
   "source": [
    "#Q4\n",
    "df = pd.DataFrame({\n",
    "    'color': ['red', 'blue', 'green', 'violet', 'pink']\n",
    "})"
   ]
  },
  {
   "cell_type": "code",
   "execution_count": 14,
   "id": "43070471-6f4a-4d39-8c4e-f597c5f39738",
   "metadata": {},
   "outputs": [],
   "source": [
    "encoder=OneHotEncoder()"
   ]
  },
  {
   "cell_type": "code",
   "execution_count": 15,
   "id": "f96df1e2-b2ef-4017-bbc0-6a59975092d4",
   "metadata": {},
   "outputs": [],
   "source": [
    "encoded=encoder.fit_transform(df[['color']]).toarray()"
   ]
  },
  {
   "cell_type": "code",
   "execution_count": 16,
   "id": "7a76c347-be5c-45b6-bbfc-6eaddbf6a7d7",
   "metadata": {},
   "outputs": [
    {
     "data": {
      "text/plain": [
       "array([[0., 0., 0., 1., 0.],\n",
       "       [1., 0., 0., 0., 0.],\n",
       "       [0., 1., 0., 0., 0.],\n",
       "       [0., 0., 0., 0., 1.],\n",
       "       [0., 0., 1., 0., 0.]])"
      ]
     },
     "execution_count": 16,
     "metadata": {},
     "output_type": "execute_result"
    }
   ],
   "source": [
    "encoded"
   ]
  },
  {
   "cell_type": "code",
   "execution_count": 17,
   "id": "71346b75-4dda-4e5a-bc8e-a27a0fc88dcc",
   "metadata": {},
   "outputs": [],
   "source": [
    "# The Reason for Choosing the One hot encoder is that there is no inherent order within the Values and the Number of Columns is manageble "
   ]
  },
  {
   "cell_type": "code",
   "execution_count": 18,
   "id": "53fde823-078e-4a63-8a5c-e88e2c246a5c",
   "metadata": {},
   "outputs": [],
   "source": [
    "#Q5"
   ]
  },
  {
   "cell_type": "code",
   "execution_count": 27,
   "id": "289886de-5480-42bd-beae-f670ac3ee0fb",
   "metadata": {},
   "outputs": [],
   "source": [
    "# Lets us Suppose the Two Columns are \n",
    "df=pd.DataFrame({'Gender':['M','F','M'],\n",
    "'city':['Delhi','Chandigarh','Bangalore']})"
   ]
  },
  {
   "cell_type": "code",
   "execution_count": 28,
   "id": "c87012a1-9776-40d7-8223-72f46e1750de",
   "metadata": {},
   "outputs": [],
   "source": [
    "encoder=OneHotEncoder()"
   ]
  },
  {
   "cell_type": "code",
   "execution_count": 29,
   "id": "e50f633f-91ea-4305-ba81-9181a6563500",
   "metadata": {},
   "outputs": [],
   "source": [
    "encoded=encoder.fit_transform(df[['city','Gender']]).toarray()"
   ]
  },
  {
   "cell_type": "code",
   "execution_count": 30,
   "id": "1f6eb136-7228-44e6-8b93-2b608e8e158b",
   "metadata": {},
   "outputs": [
    {
     "data": {
      "text/plain": [
       "array([[0., 0., 1., 0., 1.],\n",
       "       [0., 1., 0., 1., 0.],\n",
       "       [1., 0., 0., 0., 1.]])"
      ]
     },
     "execution_count": 30,
     "metadata": {},
     "output_type": "execute_result"
    }
   ],
   "source": [
    "encoded"
   ]
  },
  {
   "cell_type": "code",
   "execution_count": 31,
   "id": "88bd783d-80d0-4353-b6e0-259362f06743",
   "metadata": {},
   "outputs": [],
   "source": [
    "#So we will be having Five more Columns"
   ]
  },
  {
   "cell_type": "code",
   "execution_count": 32,
   "id": "07565c50-294c-4894-95dd-6549059e3750",
   "metadata": {},
   "outputs": [],
   "source": [
    "#Q6\n",
    "df=pd.DataFrame({'Type':['Elephant','Lion','eagle','Crocodile','Elephant'],\n",
    "                 'Species':['Mammal','Mammal','Bird','Reptiles','Mammal'],\n",
    "                 'Diet':['Herbivore','Carnivore','Omnivore','Carnivore','Herbivore'],\n",
    "                 'Habitat':['forests', 'grasslands', 'deserts', 'shorelines','Forest']})"
   ]
  },
  {
   "cell_type": "code",
   "execution_count": 33,
   "id": "18b82c5b-0122-4929-8890-f69f36df1165",
   "metadata": {},
   "outputs": [
    {
     "data": {
      "text/html": [
       "<div>\n",
       "<style scoped>\n",
       "    .dataframe tbody tr th:only-of-type {\n",
       "        vertical-align: middle;\n",
       "    }\n",
       "\n",
       "    .dataframe tbody tr th {\n",
       "        vertical-align: top;\n",
       "    }\n",
       "\n",
       "    .dataframe thead th {\n",
       "        text-align: right;\n",
       "    }\n",
       "</style>\n",
       "<table border=\"1\" class=\"dataframe\">\n",
       "  <thead>\n",
       "    <tr style=\"text-align: right;\">\n",
       "      <th></th>\n",
       "      <th>Type</th>\n",
       "      <th>Species</th>\n",
       "      <th>Diet</th>\n",
       "      <th>Habitat</th>\n",
       "    </tr>\n",
       "  </thead>\n",
       "  <tbody>\n",
       "    <tr>\n",
       "      <th>0</th>\n",
       "      <td>Elephant</td>\n",
       "      <td>Mammal</td>\n",
       "      <td>Herbivore</td>\n",
       "      <td>forests</td>\n",
       "    </tr>\n",
       "    <tr>\n",
       "      <th>1</th>\n",
       "      <td>Lion</td>\n",
       "      <td>Mammal</td>\n",
       "      <td>Carnivore</td>\n",
       "      <td>grasslands</td>\n",
       "    </tr>\n",
       "    <tr>\n",
       "      <th>2</th>\n",
       "      <td>eagle</td>\n",
       "      <td>Bird</td>\n",
       "      <td>Omnivore</td>\n",
       "      <td>deserts</td>\n",
       "    </tr>\n",
       "    <tr>\n",
       "      <th>3</th>\n",
       "      <td>Crocodile</td>\n",
       "      <td>Reptiles</td>\n",
       "      <td>Carnivore</td>\n",
       "      <td>shorelines</td>\n",
       "    </tr>\n",
       "    <tr>\n",
       "      <th>4</th>\n",
       "      <td>Elephant</td>\n",
       "      <td>Mammal</td>\n",
       "      <td>Herbivore</td>\n",
       "      <td>Forest</td>\n",
       "    </tr>\n",
       "  </tbody>\n",
       "</table>\n",
       "</div>"
      ],
      "text/plain": [
       "        Type   Species       Diet     Habitat\n",
       "0   Elephant    Mammal  Herbivore     forests\n",
       "1       Lion    Mammal  Carnivore  grasslands\n",
       "2      eagle      Bird   Omnivore     deserts\n",
       "3  Crocodile  Reptiles  Carnivore  shorelines\n",
       "4   Elephant    Mammal  Herbivore      Forest"
      ]
     },
     "execution_count": 33,
     "metadata": {},
     "output_type": "execute_result"
    }
   ],
   "source": [
    "df"
   ]
  },
  {
   "cell_type": "code",
   "execution_count": 35,
   "id": "ddff9557-6c95-4b64-a73e-ecd2735b2c7a",
   "metadata": {},
   "outputs": [],
   "source": [
    "encoded=encoder.fit_transform(df[['Type','Species',\t'Diet',\t'Habitat']]).toarray()"
   ]
  },
  {
   "cell_type": "code",
   "execution_count": 36,
   "id": "a849f9d1-0838-497c-9fca-5bbacc056e57",
   "metadata": {},
   "outputs": [
    {
     "data": {
      "text/plain": [
       "array([[0., 1., 0., 0., 0., 1., 0., 0., 1., 0., 0., 0., 1., 0., 0.],\n",
       "       [0., 0., 1., 0., 0., 1., 0., 1., 0., 0., 0., 0., 0., 1., 0.],\n",
       "       [0., 0., 0., 1., 1., 0., 0., 0., 0., 1., 0., 1., 0., 0., 0.],\n",
       "       [1., 0., 0., 0., 0., 0., 1., 1., 0., 0., 0., 0., 0., 0., 1.],\n",
       "       [0., 1., 0., 0., 0., 1., 0., 0., 1., 0., 1., 0., 0., 0., 0.]])"
      ]
     },
     "execution_count": 36,
     "metadata": {},
     "output_type": "execute_result"
    }
   ],
   "source": [
    "encoded"
   ]
  },
  {
   "cell_type": "code",
   "execution_count": 37,
   "id": "375e0298-dbde-4763-a2dd-3d2f5a68e406",
   "metadata": {},
   "outputs": [],
   "source": [
    "encoder_df=pd.DataFrame(encoded,columns=encoder.get_feature_names_out())"
   ]
  },
  {
   "cell_type": "code",
   "execution_count": 38,
   "id": "32622e2d-b711-4d50-bb17-0d9aa165b6d4",
   "metadata": {},
   "outputs": [
    {
     "data": {
      "text/html": [
       "<div>\n",
       "<style scoped>\n",
       "    .dataframe tbody tr th:only-of-type {\n",
       "        vertical-align: middle;\n",
       "    }\n",
       "\n",
       "    .dataframe tbody tr th {\n",
       "        vertical-align: top;\n",
       "    }\n",
       "\n",
       "    .dataframe thead th {\n",
       "        text-align: right;\n",
       "    }\n",
       "</style>\n",
       "<table border=\"1\" class=\"dataframe\">\n",
       "  <thead>\n",
       "    <tr style=\"text-align: right;\">\n",
       "      <th></th>\n",
       "      <th>Type</th>\n",
       "      <th>Species</th>\n",
       "      <th>Diet</th>\n",
       "      <th>Habitat</th>\n",
       "      <th>Type_Crocodile</th>\n",
       "      <th>Type_Elephant</th>\n",
       "      <th>Type_Lion</th>\n",
       "      <th>Type_eagle</th>\n",
       "      <th>Species_Bird</th>\n",
       "      <th>Species_Mammal</th>\n",
       "      <th>Species_Reptiles</th>\n",
       "      <th>Diet_Carnivore</th>\n",
       "      <th>Diet_Herbivore</th>\n",
       "      <th>Diet_Omnivore</th>\n",
       "      <th>Habitat_Forest</th>\n",
       "      <th>Habitat_deserts</th>\n",
       "      <th>Habitat_forests</th>\n",
       "      <th>Habitat_grasslands</th>\n",
       "      <th>Habitat_shorelines</th>\n",
       "    </tr>\n",
       "  </thead>\n",
       "  <tbody>\n",
       "    <tr>\n",
       "      <th>0</th>\n",
       "      <td>Elephant</td>\n",
       "      <td>Mammal</td>\n",
       "      <td>Herbivore</td>\n",
       "      <td>forests</td>\n",
       "      <td>0.0</td>\n",
       "      <td>1.0</td>\n",
       "      <td>0.0</td>\n",
       "      <td>0.0</td>\n",
       "      <td>0.0</td>\n",
       "      <td>1.0</td>\n",
       "      <td>0.0</td>\n",
       "      <td>0.0</td>\n",
       "      <td>1.0</td>\n",
       "      <td>0.0</td>\n",
       "      <td>0.0</td>\n",
       "      <td>0.0</td>\n",
       "      <td>1.0</td>\n",
       "      <td>0.0</td>\n",
       "      <td>0.0</td>\n",
       "    </tr>\n",
       "    <tr>\n",
       "      <th>1</th>\n",
       "      <td>Lion</td>\n",
       "      <td>Mammal</td>\n",
       "      <td>Carnivore</td>\n",
       "      <td>grasslands</td>\n",
       "      <td>0.0</td>\n",
       "      <td>0.0</td>\n",
       "      <td>1.0</td>\n",
       "      <td>0.0</td>\n",
       "      <td>0.0</td>\n",
       "      <td>1.0</td>\n",
       "      <td>0.0</td>\n",
       "      <td>1.0</td>\n",
       "      <td>0.0</td>\n",
       "      <td>0.0</td>\n",
       "      <td>0.0</td>\n",
       "      <td>0.0</td>\n",
       "      <td>0.0</td>\n",
       "      <td>1.0</td>\n",
       "      <td>0.0</td>\n",
       "    </tr>\n",
       "    <tr>\n",
       "      <th>2</th>\n",
       "      <td>eagle</td>\n",
       "      <td>Bird</td>\n",
       "      <td>Omnivore</td>\n",
       "      <td>deserts</td>\n",
       "      <td>0.0</td>\n",
       "      <td>0.0</td>\n",
       "      <td>0.0</td>\n",
       "      <td>1.0</td>\n",
       "      <td>1.0</td>\n",
       "      <td>0.0</td>\n",
       "      <td>0.0</td>\n",
       "      <td>0.0</td>\n",
       "      <td>0.0</td>\n",
       "      <td>1.0</td>\n",
       "      <td>0.0</td>\n",
       "      <td>1.0</td>\n",
       "      <td>0.0</td>\n",
       "      <td>0.0</td>\n",
       "      <td>0.0</td>\n",
       "    </tr>\n",
       "    <tr>\n",
       "      <th>3</th>\n",
       "      <td>Crocodile</td>\n",
       "      <td>Reptiles</td>\n",
       "      <td>Carnivore</td>\n",
       "      <td>shorelines</td>\n",
       "      <td>1.0</td>\n",
       "      <td>0.0</td>\n",
       "      <td>0.0</td>\n",
       "      <td>0.0</td>\n",
       "      <td>0.0</td>\n",
       "      <td>0.0</td>\n",
       "      <td>1.0</td>\n",
       "      <td>1.0</td>\n",
       "      <td>0.0</td>\n",
       "      <td>0.0</td>\n",
       "      <td>0.0</td>\n",
       "      <td>0.0</td>\n",
       "      <td>0.0</td>\n",
       "      <td>0.0</td>\n",
       "      <td>1.0</td>\n",
       "    </tr>\n",
       "    <tr>\n",
       "      <th>4</th>\n",
       "      <td>Elephant</td>\n",
       "      <td>Mammal</td>\n",
       "      <td>Herbivore</td>\n",
       "      <td>Forest</td>\n",
       "      <td>0.0</td>\n",
       "      <td>1.0</td>\n",
       "      <td>0.0</td>\n",
       "      <td>0.0</td>\n",
       "      <td>0.0</td>\n",
       "      <td>1.0</td>\n",
       "      <td>0.0</td>\n",
       "      <td>0.0</td>\n",
       "      <td>1.0</td>\n",
       "      <td>0.0</td>\n",
       "      <td>1.0</td>\n",
       "      <td>0.0</td>\n",
       "      <td>0.0</td>\n",
       "      <td>0.0</td>\n",
       "      <td>0.0</td>\n",
       "    </tr>\n",
       "  </tbody>\n",
       "</table>\n",
       "</div>"
      ],
      "text/plain": [
       "        Type   Species       Diet     Habitat  Type_Crocodile  Type_Elephant  \\\n",
       "0   Elephant    Mammal  Herbivore     forests             0.0            1.0   \n",
       "1       Lion    Mammal  Carnivore  grasslands             0.0            0.0   \n",
       "2      eagle      Bird   Omnivore     deserts             0.0            0.0   \n",
       "3  Crocodile  Reptiles  Carnivore  shorelines             1.0            0.0   \n",
       "4   Elephant    Mammal  Herbivore      Forest             0.0            1.0   \n",
       "\n",
       "   Type_Lion  Type_eagle  Species_Bird  Species_Mammal  Species_Reptiles  \\\n",
       "0        0.0         0.0           0.0             1.0               0.0   \n",
       "1        1.0         0.0           0.0             1.0               0.0   \n",
       "2        0.0         1.0           1.0             0.0               0.0   \n",
       "3        0.0         0.0           0.0             0.0               1.0   \n",
       "4        0.0         0.0           0.0             1.0               0.0   \n",
       "\n",
       "   Diet_Carnivore  Diet_Herbivore  Diet_Omnivore  Habitat_Forest  \\\n",
       "0             0.0             1.0            0.0             0.0   \n",
       "1             1.0             0.0            0.0             0.0   \n",
       "2             0.0             0.0            1.0             0.0   \n",
       "3             1.0             0.0            0.0             0.0   \n",
       "4             0.0             1.0            0.0             1.0   \n",
       "\n",
       "   Habitat_deserts  Habitat_forests  Habitat_grasslands  Habitat_shorelines  \n",
       "0              0.0              1.0                 0.0                 0.0  \n",
       "1              0.0              0.0                 1.0                 0.0  \n",
       "2              1.0              0.0                 0.0                 0.0  \n",
       "3              0.0              0.0                 0.0                 1.0  \n",
       "4              0.0              0.0                 0.0                 0.0  "
      ]
     },
     "execution_count": 38,
     "metadata": {},
     "output_type": "execute_result"
    }
   ],
   "source": [
    "pd.concat([df,encoder_df],axis=1)"
   ]
  },
  {
   "cell_type": "code",
   "execution_count": 45,
   "id": "549a9bd2-ac97-4e39-824a-f951b750c0a3",
   "metadata": {},
   "outputs": [],
   "source": [
    "# #Q7\n",
    "# For Such a case:\n",
    "#     1. Nominal for Gender\n",
    "#     2. Target Based for Contract type based on Monthly Charges\n",
    "# #Import the database\n",
    "# #Import the Libraries Necessary\n",
    "# #Complete the Encoding\n",
    "# #Present the new Table"
   ]
  },
  {
   "cell_type": "code",
   "execution_count": null,
   "id": "ccc710d9-9f2f-4b18-a21f-adbcf8f7a7d4",
   "metadata": {},
   "outputs": [],
   "source": []
  }
 ],
 "metadata": {
  "kernelspec": {
   "display_name": "Python 3 (ipykernel)",
   "language": "python",
   "name": "python3"
  },
  "language_info": {
   "codemirror_mode": {
    "name": "ipython",
    "version": 3
   },
   "file_extension": ".py",
   "mimetype": "text/x-python",
   "name": "python",
   "nbconvert_exporter": "python",
   "pygments_lexer": "ipython3",
   "version": "3.10.8"
  }
 },
 "nbformat": 4,
 "nbformat_minor": 5
}
