{
 "cells": [
  {
   "cell_type": "code",
   "execution_count": 2,
   "id": "a02e2a56-c00a-430a-a13d-f951f33917fa",
   "metadata": {},
   "outputs": [],
   "source": [
    "#1\n",
    "#APIs are mechanisms that enable two software components(Hetrogeneous orHomogeneous) to communicate with each other using a set of definitions and protocols.\n",
    "#Examples are Google Maps, Chatbots or Gpay and others.For Instance in Gpay for every Transaction there is a to and fro communication done between the banking platform and the phone and app platform. "
   ]
  },
  {
   "cell_type": "code",
   "execution_count": 3,
   "id": "bb6e98a9-1b73-485c-ad82-1706c838c4c1",
   "metadata": {},
   "outputs": [],
   "source": [
    "#2\n",
    "# Advantages\n"
   ]
  },
  {
   "cell_type": "code",
   "execution_count": 4,
   "id": "88bade6a-c6d0-4682-9a9c-8772a130e8fd",
   "metadata": {},
   "outputs": [],
   "source": [
    "#Increased Interoperability: API solutions enable different software systems to communicate with each other, regardless of their programming language or platform. This enhances the interoperability between systems, allowing for the exchange of data and functionality.\n",
    "#Improved Efficiency: API driven infrastructures enable developers to reuse code and functionality from existing software systems, saving time and reducing the amount of code that needs to be written from scratch.\n",
    "#Better User Experience: APIs can enable third-party developers to create applications that integrate with existing software systems, providing a better user experience and increased functionality.\n",
    "#Increased Flexibility: APIs provide developers with greater flexibility, enabling them to choose the best programming languages and frameworks for their needs.\n",
    "#New Revenue Streams: APIs can enable companies to create new revenue streams by providing third-party developers with access to their software systems."
   ]
  },
  {
   "cell_type": "code",
   "execution_count": 5,
   "id": "23e16b04-cfbc-492b-af0d-4cf372113e0d",
   "metadata": {},
   "outputs": [],
   "source": [
    "#Disadvantages\n",
    "#Security Concerns: API infrastructures can be vulnerable to security breaches, such as SQL injection attacks and cross-site scripting (XSS) attacks, making it crucial to implement security measures to protect against these threats.\n",
    "#Complexity: APIs can be complex, requiring a significant amount of development effort to implement and maintain.\n",
    "#Compatibility Issues: APIs can have compatibility issues between different versions of the same software system or between different systems, which can lead to errors and system failures.\n",
    "#Dependency on Third-Party Developers: APIs rely on third-party developers to create applications that integrate with the software system. This can create dependencies that are outside of the control of the company that owns the software system.\n",
    "#Governance and Management: APIs require proper governance and management to ensure they are being used correctly and consistently across different applications and systems."
   ]
  },
  {
   "cell_type": "code",
   "execution_count": 6,
   "id": "53adc98e-f904-4c1f-9b67-97ed41763180",
   "metadata": {},
   "outputs": [],
   "source": [
    "#3\n",
    "#A web API is an application programming interface (API) for either a web server or a web browser.It specifically uses HTTP protocol for communication whereas in API we can use various protocols like SMTP,TCP etc.\n",
    "#A web API is a subset of API.\n"
   ]
  },
  {
   "cell_type": "code",
   "execution_count": 2,
   "id": "3e492973-d830-4d7d-84e3-b3cdb5c96f1d",
   "metadata": {},
   "outputs": [],
   "source": [
    "#4 REST, or REpresentational State Transfer, is an architectural style for providing standards between computer systems on the web, making it easier for systems to communicate with each other. SOAP (Simple Object Access Protocol) is a message protocol that enables the distributed elements of an application to communicate. "
   ]
  },
  {
   "cell_type": "code",
   "execution_count": 3,
   "id": "e1561e2d-bbb0-4089-be51-6490a4acea9c",
   "metadata": {},
   "outputs": [],
   "source": [
    "# Shortcomings of SOAP:\n",
    "#API Calls are not Cached-An API call is a process of sending a request when an API has been set up with the necessary endpoints. The information is transferred, processed, and feedback is supplied as a result of the process. It is not feasible to cache SOAP API requests.\n",
    "#Extremely Complicated-SOAP is substantially more sophisticated than REST. It is also less adaptable. For developers who aren't very experienced, this could be a problem. Performance may be slowed as a result of the substantial processing required.\n",
    "#No Choice of Data Formats-SOAP's support for data formats is likewise severely constrained. HTML, JSON, YAML, XML, and more formats are supported by REST. SOAP, on the other hand, only supports XML.\n",
    "#Requires More Bandwidth-SOAP is often slower than REST, and it also consumes more bandwidth due to its complexity. It's also a limiting issue in the technology's efficacy for some applications."
   ]
  },
  {
   "cell_type": "code",
   "execution_count": null,
   "id": "31c111de-c18e-4de8-8c2b-05d33103ea55",
   "metadata": {},
   "outputs": [],
   "source": [
    "#5 \n",
    "#REST is comparitively more Scalable and Flexible than SOAP.\n",
    "#REST uses HTTP protocol whereas SOAAP uses TCP or SMTP for WEB API services.\n",
    "#REST is less secure than SOAP.\n",
    "#REST is Simpler compared to SOAP.\n",
    "#REST uses functions like PUT GET POST DELETE. Whereas SOAP uses XML for tranfering Messages.\n",
    "#"
   ]
  }
 ],
 "metadata": {
  "kernelspec": {
   "display_name": "Python 3 (ipykernel)",
   "language": "python",
   "name": "python3"
  },
  "language_info": {
   "codemirror_mode": {
    "name": "ipython",
    "version": 3
   },
   "file_extension": ".py",
   "mimetype": "text/x-python",
   "name": "python",
   "nbconvert_exporter": "python",
   "pygments_lexer": "ipython3",
   "version": "3.10.8"
  }
 },
 "nbformat": 4,
 "nbformat_minor": 5
}
