{
 "cells": [
  {
   "cell_type": "code",
   "execution_count": 8,
   "id": "7a410450-49dc-4efd-a4a5-27cf3dd0540f",
   "metadata": {},
   "outputs": [
    {
     "name": "stdout",
     "output_type": "stream",
     "text": [
      "4.387122002085506\n",
      "3.178893104458269\n",
      "Reject the Null Hypothesis\n"
     ]
    }
   ],
   "source": [
    "#q1\n",
    "worker1= [18, 19, 22, 25, 27, 28, 41, 45, 51, 55]\n",
    "worker2= [14, 15, 15, 17, 18, 22, 25, 25, 27, 34]\n",
    "import numpy as np\n",
    "import scipy.stats as stat\n",
    "import matplotlib.pyplot as plt\n",
    "f_test=np.var(worker1)/np.var(worker2)\n",
    "print(f_test)\n",
    "## Degree of freedom\n",
    "df1=len(worker1)-1\n",
    "df2=len(worker2)-1\n",
    "significane_value=0.05\n",
    "critical_value=stat.f.ppf(q=1-significane_value,dfn=df1,dfd=df2)\n",
    "print(critical_value)\n",
    "if f_test>critical_value:\n",
    "    print(\"Reject the Null Hypothesis\")\n",
    "else:\n",
    "    print(\"We fail to reject the null hypothesis\")\n"
   ]
  },
  {
   "cell_type": "code",
   "execution_count": 5,
   "id": "6e610878-364d-4f98-a791-4771163dd886",
   "metadata": {},
   "outputs": [
    {
     "data": {
      "text/plain": [
       "3.178893104458269"
      ]
     },
     "execution_count": 5,
     "metadata": {},
     "output_type": "execute_result"
    }
   ],
   "source": [
    "#Q2\n",
    "significane_value=0.05\n",
    "critical_value=stat.f.ppf(q=1-significane_value,dfn=df1,dfd=df2)\n",
    "critical_value"
   ]
  },
  {
   "cell_type": "code",
   "execution_count": 15,
   "id": "e60e8852-24f3-4739-a2fb-6cf436ed2f87",
   "metadata": {},
   "outputs": [
    {
     "name": "stdout",
     "output_type": "stream",
     "text": [
      "1.1067169640762466\n",
      "3.178893104458269\n",
      "We fail to reject the null hypothesis\n"
     ]
    }
   ],
   "source": [
    "#Q3\n",
    "worker1= stat.norm.rvs(size=10)\n",
    "worker2= stat.norm.rvs(size=10)\n",
    "f_test=np.var(worker1)/np.var(worker2)\n",
    "print(f_test)\n",
    "## Degree of freedom\n",
    "df1=len(worker1)-1\n",
    "df2=len(worker2)-1\n",
    "significane_value=0.05\n",
    "critical_value=stat.f.ppf(q=1-significane_value,dfn=df1,dfd=df2)\n",
    "print(critical_value)\n",
    "if f_test>critical_value:\n",
    "    print(\"Reject the Null Hypothesis\")\n",
    "else:\n",
    "    print(\"We fail to reject the null hypothesis\")"
   ]
  },
  {
   "cell_type": "code",
   "execution_count": 26,
   "id": "a05361b3-32f0-4a31-bfad-58cac2739b13",
   "metadata": {},
   "outputs": [
    {
     "name": "stdout",
     "output_type": "stream",
     "text": [
      "0.6666666666666666\n",
      "2.8179304699530863\n",
      "We fail to reject the null hypothesis\n"
     ]
    }
   ],
   "source": [
    "#Q4\n",
    "v1=10\n",
    "v2=15\n",
    "n1=12\n",
    "n2=12\n",
    "f_test=v1/v2\n",
    "print(f_test)\n",
    "significane_value=0.05\n",
    "critical_value=stat.f.ppf(q=1-significane_value,dfn=n1-1,dfd=n2-1)\n",
    "print(critical_value)\n",
    "if f_test>critical_value:\n",
    "    print(\"Reject the Null Hypothesis\")\n",
    "else:\n",
    "    print(\"We fail to reject the null hypothesis\")"
   ]
  },
  {
   "cell_type": "code",
   "execution_count": 34,
   "id": "323e25ae-1fd7-4679-b596-3f5bad692b03",
   "metadata": {},
   "outputs": [
    {
     "name": "stdout",
     "output_type": "stream",
     "text": [
      "0.8333333333333334\n",
      "2.1297968964373224\n",
      "We fail to reject the null hypothesis\n"
     ]
    }
   ],
   "source": [
    "#Q5\n",
    "v1=.005\n",
    "v2=.006\n",
    "n1=15 # Assumed\n",
    "n2=25\n",
    "f_test=v1/v2\n",
    "print(f_test)\n",
    "significane_value=0.05\n",
    "critical_value=stat.f.ppf(q=1-significane_value,dfn=n1-1,dfd=n2-1)\n",
    "print(critical_value)\n",
    "if f_test>critical_value:\n",
    "    print(\"Reject the Null Hypothesis\")\n",
    "else:\n",
    "    print(\"We fail to reject the null hypothesis\")"
   ]
  },
  {
   "cell_type": "code",
   "execution_count": 49,
   "id": "936d2d0b-5990-41f9-aa43-4666ac1cc83d",
   "metadata": {},
   "outputs": [
    {
     "data": {
      "text/plain": [
       "(0.8695652173913043, 0.2137906202178414)"
      ]
     },
     "execution_count": 49,
     "metadata": {},
     "output_type": "execute_result"
    }
   ],
   "source": [
    "#6\n",
    "def f(v1,v2):\n",
    "    mean=v1/(v2-2)\n",
    "    a=2 * (v2**2) * ( v1 + v1 - 2 )\n",
    "    b=(v1*((v2-2)**2) * ( v2 - 4))\n",
    "    var =a/b\n",
    "    return (mean,var)\n",
    "\n",
    "a=f(20,25)\n",
    "a"
   ]
  },
  {
   "cell_type": "code",
   "execution_count": 33,
   "id": "5cca6f99-ddf1-4787-86dc-b603e936c9a2",
   "metadata": {},
   "outputs": [
    {
     "name": "stdout",
     "output_type": "stream",
     "text": [
      "1.5\n",
      "1.738816562651783\n",
      "We fail to reject the null hypothesis\n"
     ]
    }
   ],
   "source": [
    "#Q7\n",
    "v2=10\n",
    "v1=15\n",
    "n2=25 # Assumed\n",
    "n1=20\n",
    "f_test=v1/v2\n",
    "print(f_test)\n",
    "significane_value=0.1\n",
    "critical_value=stat.f.ppf(q=1-significane_value,dfn=n1-1,dfd=n2-1)\n",
    "print(critical_value)\n",
    "if f_test>critical_value:\n",
    "    print(\"Reject the Null Hypothesis\")\n",
    "else:\n",
    "    print(\"We fail to reject the null hypothesis\")"
   ]
  },
  {
   "cell_type": "code",
   "execution_count": 35,
   "id": "9bc50142-f0b8-4b3e-be40-efb35e46d4e6",
   "metadata": {},
   "outputs": [
    {
     "name": "stdout",
     "output_type": "stream",
     "text": [
      "0.6681063685636857\n",
      "4.387374187406127\n",
      "We fail to reject the null hypothesis\n"
     ]
    }
   ],
   "source": [
    "#Q8The following data represent the waiting times in minutes at two different restaurants on a Saturday\n",
    "#night: Restaurant A: 24, 25, 28, 23, 22, 20, 27; Restaurant B: 31, 33, 35, 30, 32, 36. Conduct an F-test at the 5%\n",
    "#significance level to determine if the variances are significantly different.\n",
    "worker2= [24, 25, 28, 23, 22, 20, 27]\n",
    "worker1= [31, 33, 35, 30, 32, 36]\n",
    "f_test=np.var(worker1)/np.var(worker2)\n",
    "print(f_test)\n",
    "## Degree of freedom\n",
    "df1=len(worker1)-1\n",
    "df2=len(worker2)-1\n",
    "significane_value=0.05\n",
    "critical_value=stat.f.ppf(q=1-significane_value,dfn=df1,dfd=df2)\n",
    "print(critical_value)\n",
    "if f_test>critical_value:\n",
    "    print(\"Reject the Null Hypothesis\")\n",
    "else:\n",
    "    print(\"We fail to reject the null hypothesis\")"
   ]
  },
  {
   "cell_type": "code",
   "execution_count": 31,
   "id": "765ece3f-46f6-4021-a7c4-6b6990137a4c",
   "metadata": {},
   "outputs": [
    {
     "name": "stdout",
     "output_type": "stream",
     "text": [
      "1.9442622950819677\n",
      "10.967020650907992\n",
      "We fail to reject the null hypothesis\n"
     ]
    }
   ],
   "source": [
    "#The following data represent the test scores of two groups of students: Group A: 80, 85, 90, 92, 87, 83;\n",
    "#Group B: 75, 78, 82, 79, 81, 84. Conduct an F-test at the 1% significance level to determine if the variances\n",
    "#are significantly different.\n",
    "worker1= [80, 85, 90, 92, 87, 83]\n",
    "worker2= [75, 78, 82, 79, 81, 84]\n",
    "f_test=np.var(worker1)/np.var(worker2)\n",
    "print(f_test)\n",
    "## Degree of freedom\n",
    "df1=len(worker1)-1\n",
    "df2=len(worker2)-1\n",
    "significane_value=0.01\n",
    "critical_value=stat.f.ppf(q=1-significane_value,dfn=df1,dfd=df2)\n",
    "print(critical_value)\n",
    "if f_test>critical_value:\n",
    "    print(\"Reject the Null Hypothesis\")\n",
    "else:\n",
    "    print(\"We fail to reject the null hypothesis\")"
   ]
  },
  {
   "cell_type": "code",
   "execution_count": 45,
   "id": "6e06b294-d133-458f-acf0-0dcbf3698564",
   "metadata": {},
   "outputs": [],
   "source": [
    "       "
   ]
  },
  {
   "cell_type": "code",
   "execution_count": null,
   "id": "a6bac1fc-6ed8-48fb-bac7-f5ebd5259d27",
   "metadata": {},
   "outputs": [],
   "source": []
  }
 ],
 "metadata": {
  "kernelspec": {
   "display_name": "Python 3 (ipykernel)",
   "language": "python",
   "name": "python3"
  },
  "language_info": {
   "codemirror_mode": {
    "name": "ipython",
    "version": 3
   },
   "file_extension": ".py",
   "mimetype": "text/x-python",
   "name": "python",
   "nbconvert_exporter": "python",
   "pygments_lexer": "ipython3",
   "version": "3.10.8"
  }
 },
 "nbformat": 4,
 "nbformat_minor": 5
}
