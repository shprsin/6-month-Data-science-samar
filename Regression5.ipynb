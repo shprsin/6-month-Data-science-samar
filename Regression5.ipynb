{
 "cells": [
  {
   "cell_type": "code",
   "execution_count": 12,
   "id": "f14997e0-2a72-47f8-8e89-fb53c0d049c2",
   "metadata": {},
   "outputs": [],
   "source": [
    "#Q1"
   ]
  },
  {
   "cell_type": "code",
   "execution_count": 13,
   "id": "1aa63a56-dca0-474d-adc5-c4ac34c891f6",
   "metadata": {},
   "outputs": [],
   "source": [
    "# Elastic net linear regression uses the penalties from both the lasso and ridge techniques to regularize regression models. The technique combines both the lasso and ridge regression methods by learning from their shortcomings to improve the regularization of statistical models."
   ]
  },
  {
   "cell_type": "code",
   "execution_count": 14,
   "id": "6372150f-0269-40d7-8df6-ca5691d5f9ec",
   "metadata": {},
   "outputs": [],
   "source": [
    "# It is different as it can deal with Overfiiting and do Feature Selction\n"
   ]
  },
  {
   "cell_type": "code",
   "execution_count": 15,
   "id": "ec9fb51e-9202-4788-8a35-5329ce445d10",
   "metadata": {},
   "outputs": [],
   "source": [
    "#Q2"
   ]
  },
  {
   "cell_type": "code",
   "execution_count": 17,
   "id": "d7ea346e-0805-40f9-84ca-63e459dbd085",
   "metadata": {},
   "outputs": [],
   "source": [
    "# where α is the mixing parameter between ridge (α = 0) and lasso (α = 1).\n",
    "\n",
    "# Now, there are two parameters to tune: λ and α. The glmnet package allows to tune λ via cross-validation for a fixed α, but it does not support α-tuning, so we will use caret for this job."
   ]
  },
  {
   "cell_type": "code",
   "execution_count": 18,
   "id": "2cd470c9-aa9d-4d18-aa29-58169dee79a6",
   "metadata": {},
   "outputs": [],
   "source": [
    "#q3"
   ]
  },
  {
   "cell_type": "code",
   "execution_count": 19,
   "id": "5b0d69ba-4ac5-4e0f-8553-644fb9c55268",
   "metadata": {},
   "outputs": [],
   "source": [
    "#Elastic Net has several advantages over other regression techniques: \n",
    "#1. It can handle multicollinearity, which occurs when two or more features are highly correlated with each other. \n",
    "#2. It can also handle datasets with a large number of features and a small number of observations"
   ]
  },
  {
   "cell_type": "code",
   "execution_count": 20,
   "id": "2bacf671-9c98-4a7d-9abc-04aba9d04bf3",
   "metadata": {},
   "outputs": [],
   "source": [
    "#Q4"
   ]
  },
  {
   "cell_type": "code",
   "execution_count": 21,
   "id": "cb310141-31e5-4aed-a9cb-30da04883d50",
   "metadata": {},
   "outputs": [],
   "source": [
    "# Elastic net can also be used in other applications, such as in sparse PCA, where it obtains principal components that are modified by sparse loadings. The other application is in the kernel elastic net, where the generation of class kernel machines takes place with support vectors."
   ]
  },
  {
   "cell_type": "code",
   "execution_count": 22,
   "id": "2074c60e-a7df-4082-87cc-67e915637614",
   "metadata": {},
   "outputs": [],
   "source": [
    "# Elastic Net has real-world applications in fields such as finance, economics, genetics, and biomedical research. It is particularly useful when dealing with datasets that have a large number of correlated predictor variable\n"
   ]
  },
  {
   "cell_type": "code",
   "execution_count": 23,
   "id": "e9d6d55a-9e3e-466c-8908-a81ed7a2c6c2",
   "metadata": {},
   "outputs": [],
   "source": [
    "#q5"
   ]
  },
  {
   "cell_type": "code",
   "execution_count": 24,
   "id": "c0c0ccd0-8b29-4840-a21f-efdc34004007",
   "metadata": {},
   "outputs": [],
   "source": [
    "#The sign of a coefficient indicates the direction of the effect: positive for positive correlation, negative for negative correlation.\n",
    "# The coefficients that are zero indicate that the corresponding features are not relevant for the model, and they are eliminated by the lasso penalty. Therefore, you can use the coefficients of elastic net regression to rank the features by their importance and select the ones that have non-zero coefficients."
   ]
  },
  {
   "cell_type": "code",
   "execution_count": 25,
   "id": "9a8dace2-715c-4c19-a97b-3e238c2bc2ee",
   "metadata": {},
   "outputs": [],
   "source": [
    "#q6"
   ]
  },
  {
   "cell_type": "code",
   "execution_count": 27,
   "id": "bd73d7fe-4e2d-4480-917b-b562b39341a2",
   "metadata": {},
   "outputs": [],
   "source": [
    "# We can do \n",
    "# 1. Pairwise Deletion\n",
    "# 2.Impution:Mean ,Median,Mode,\n",
    "# 3. We can drop features\n",
    "# 4. We can scheck For Multicollinearity and Delete Features with Missing Values"
   ]
  },
  {
   "cell_type": "code",
   "execution_count": 28,
   "id": "87d074bf-21a8-4fbe-9ce0-a902ca83728b",
   "metadata": {},
   "outputs": [],
   "source": [
    "#q7"
   ]
  },
  {
   "cell_type": "code",
   "execution_count": 29,
   "id": "314135ef-0dfd-4ba6-babd-5fd62a790a57",
   "metadata": {},
   "outputs": [],
   "source": [
    "# Elastic Net Regression can perform feature selection by shrinking the coefficients of irrelevant variables to zero. This results in a model with fewer variables, which is easier to interpret and less prone to overfitting."
   ]
  },
  {
   "cell_type": "code",
   "execution_count": 30,
   "id": "8f881385-3c10-4e23-a0db-3a0607394a3d",
   "metadata": {},
   "outputs": [],
   "source": [
    "#q8"
   ]
  },
  {
   "cell_type": "code",
   "execution_count": 31,
   "id": "7976d33d-43b6-498d-8e89-3521ba83b193",
   "metadata": {},
   "outputs": [],
   "source": [
    "# Using pickle , simply save your model on disc with dump() function and de-pickle it into your python code with load() function. Use open() function to create and/or read from a . pkl file and make sure you open the file in the binary format by wb for write and rb for read mode."
   ]
  },
  {
   "cell_type": "code",
   "execution_count": 34,
   "id": "355ac72c-7d8e-454d-ab5f-f54c7a7142f0",
   "metadata": {},
   "outputs": [],
   "source": [
    "#Q9"
   ]
  },
  {
   "cell_type": "code",
   "execution_count": 33,
   "id": "94c989a0-c85e-4364-87e9-a272643bf4fe",
   "metadata": {},
   "outputs": [],
   "source": [
    "# The pickle module keeps track of the objects it has already serialized, so that later references to the same object won't be serialized again, thus allowing for faster execution time. Allows saving model in very little time. Good For small models with fewer parameters"
   ]
  },
  {
   "cell_type": "code",
   "execution_count": null,
   "id": "5bd10d75-a600-4e60-bb87-a3496434f4e9",
   "metadata": {},
   "outputs": [],
   "source": []
  }
 ],
 "metadata": {
  "kernelspec": {
   "display_name": "Python 3 (ipykernel)",
   "language": "python",
   "name": "python3"
  },
  "language_info": {
   "codemirror_mode": {
    "name": "ipython",
    "version": 3
   },
   "file_extension": ".py",
   "mimetype": "text/x-python",
   "name": "python",
   "nbconvert_exporter": "python",
   "pygments_lexer": "ipython3",
   "version": "3.10.8"
  }
 },
 "nbformat": 4,
 "nbformat_minor": 5
}
