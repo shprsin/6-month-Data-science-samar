{
 "cells": [
  {
   "cell_type": "code",
   "execution_count": 1,
   "id": "09a5a5ce-29d9-4ac4-a6fc-659c9fcc76f6",
   "metadata": {},
   "outputs": [],
   "source": [
    "#1\n",
    "import pandas as pd"
   ]
  },
  {
   "cell_type": "code",
   "execution_count": 10,
   "id": "29d6b402-2b8d-4fe6-b842-3f5c9fc09919",
   "metadata": {},
   "outputs": [],
   "source": [
    "data = {\"A\":[1,2,3,4],\n",
    "       \"B\":[4,5,6,7],\n",
    "       \"C\":[\"sudh\" , \"krish\",\"hitesh\",\"navin\"]}"
   ]
  },
  {
   "cell_type": "code",
   "execution_count": 11,
   "id": "b3a3874f-5548-43ae-bc6e-80fbf7033f51",
   "metadata": {},
   "outputs": [],
   "source": [
    "df=pd.DataFrame(data)"
   ]
  },
  {
   "cell_type": "code",
   "execution_count": 4,
   "id": "99e831d2-fc17-46f8-8f69-3a900ce3a60b",
   "metadata": {},
   "outputs": [],
   "source": [
    "l=[1,2,3,4,5]"
   ]
  },
  {
   "cell_type": "code",
   "execution_count": 5,
   "id": "22640dad-685b-45a9-b044-4ad6ee5f5a1f",
   "metadata": {},
   "outputs": [],
   "source": [
    "a=pd.Series(data=l)"
   ]
  },
  {
   "cell_type": "code",
   "execution_count": 6,
   "id": "819fc0ef-f944-4e2d-b0cb-018b12fa1e17",
   "metadata": {},
   "outputs": [],
   "source": [
    "pd.set_option(\"display.max_colwidth\" , 1000)\n",
    "df3 = pd.DataFrame({\"desc\": [\"Data Science Masters course is highly curated and uniquely designed according to the latest industry standards. This program instills students the skills essential to knowledge discovery efforts to identify standard, novel, and truly differentiated solutions and decision-making, including skills in managing, querying, analyzing, visualizing, and extracting meaning from extremely large data sets. This trending program provides students with the statistical, mathematical and computational skills needed to meet the large-scale data science challenges of today's professional world. You will learn all the stack required to work in data science industry including cloud infrastructure and real-time industry projects. This course will be taught in Hindi language.\",\"my name is sudh\" , \"i use to take data science mastes class\"]})"
   ]
  },
  {
   "cell_type": "code",
   "execution_count": 7,
   "id": "0068391c-8834-458c-a818-19babe7a288c",
   "metadata": {},
   "outputs": [],
   "source": [
    "data1 = pd.date_range(start = '2022-03-22' ,end = '2022-06-22')"
   ]
  },
  {
   "cell_type": "code",
   "execution_count": 8,
   "id": "1ad1d12e-a8e2-409c-91ae-423b7995d882",
   "metadata": {},
   "outputs": [],
   "source": [
    "dt = pd.to_datetime('2022-06-20')"
   ]
  },
  {
   "cell_type": "code",
   "execution_count": 9,
   "id": "317ea301-0ea3-4aa0-90ac-134854b0b8e9",
   "metadata": {},
   "outputs": [],
   "source": [
    "#2"
   ]
  },
  {
   "cell_type": "code",
   "execution_count": 12,
   "id": "85920735-5c97-4079-bbbb-1765cd6adc1e",
   "metadata": {},
   "outputs": [
    {
     "data": {
      "text/html": [
       "<div>\n",
       "<style scoped>\n",
       "    .dataframe tbody tr th:only-of-type {\n",
       "        vertical-align: middle;\n",
       "    }\n",
       "\n",
       "    .dataframe tbody tr th {\n",
       "        vertical-align: top;\n",
       "    }\n",
       "\n",
       "    .dataframe thead th {\n",
       "        text-align: right;\n",
       "    }\n",
       "</style>\n",
       "<table border=\"1\" class=\"dataframe\">\n",
       "  <thead>\n",
       "    <tr style=\"text-align: right;\">\n",
       "      <th></th>\n",
       "      <th>A</th>\n",
       "      <th>B</th>\n",
       "      <th>C</th>\n",
       "    </tr>\n",
       "  </thead>\n",
       "  <tbody>\n",
       "    <tr>\n",
       "      <th>0</th>\n",
       "      <td>1</td>\n",
       "      <td>4</td>\n",
       "      <td>sudh</td>\n",
       "    </tr>\n",
       "    <tr>\n",
       "      <th>1</th>\n",
       "      <td>2</td>\n",
       "      <td>5</td>\n",
       "      <td>krish</td>\n",
       "    </tr>\n",
       "    <tr>\n",
       "      <th>2</th>\n",
       "      <td>3</td>\n",
       "      <td>6</td>\n",
       "      <td>hitesh</td>\n",
       "    </tr>\n",
       "    <tr>\n",
       "      <th>3</th>\n",
       "      <td>4</td>\n",
       "      <td>7</td>\n",
       "      <td>navin</td>\n",
       "    </tr>\n",
       "  </tbody>\n",
       "</table>\n",
       "</div>"
      ],
      "text/plain": [
       "   A  B       C\n",
       "0  1  4    sudh\n",
       "1  2  5   krish\n",
       "2  3  6  hitesh\n",
       "3  4  7   navin"
      ]
     },
     "execution_count": 12,
     "metadata": {},
     "output_type": "execute_result"
    }
   ],
   "source": [
    "df"
   ]
  },
  {
   "cell_type": "code",
   "execution_count": 20,
   "id": "fcf24ea8-85cd-4785-b0c4-0dc3fba774ae",
   "metadata": {},
   "outputs": [
    {
     "data": {
      "text/html": [
       "<div>\n",
       "<style scoped>\n",
       "    .dataframe tbody tr th:only-of-type {\n",
       "        vertical-align: middle;\n",
       "    }\n",
       "\n",
       "    .dataframe tbody tr th {\n",
       "        vertical-align: top;\n",
       "    }\n",
       "\n",
       "    .dataframe thead th {\n",
       "        text-align: right;\n",
       "    }\n",
       "</style>\n",
       "<table border=\"1\" class=\"dataframe\">\n",
       "  <thead>\n",
       "    <tr style=\"text-align: right;\">\n",
       "      <th></th>\n",
       "      <th>A</th>\n",
       "      <th>B</th>\n",
       "      <th>C</th>\n",
       "    </tr>\n",
       "  </thead>\n",
       "  <tbody>\n",
       "    <tr>\n",
       "      <th>1</th>\n",
       "      <td>2.0</td>\n",
       "      <td>5.0</td>\n",
       "      <td>krish</td>\n",
       "    </tr>\n",
       "    <tr>\n",
       "      <th>3</th>\n",
       "      <td>4.0</td>\n",
       "      <td>7.0</td>\n",
       "      <td>navin</td>\n",
       "    </tr>\n",
       "    <tr>\n",
       "      <th>5</th>\n",
       "      <td>NaN</td>\n",
       "      <td>NaN</td>\n",
       "      <td>NaN</td>\n",
       "    </tr>\n",
       "    <tr>\n",
       "      <th>7</th>\n",
       "      <td>NaN</td>\n",
       "      <td>NaN</td>\n",
       "      <td>NaN</td>\n",
       "    </tr>\n",
       "  </tbody>\n",
       "</table>\n",
       "</div>"
      ],
      "text/plain": [
       "     A    B      C\n",
       "1  2.0  5.0  krish\n",
       "3  4.0  7.0  navin\n",
       "5  NaN  NaN    NaN\n",
       "7  NaN  NaN    NaN"
      ]
     },
     "execution_count": 20,
     "metadata": {},
     "output_type": "execute_result"
    }
   ],
   "source": [
    " \n",
    "df.reindex([1,3,5,7])"
   ]
  },
  {
   "cell_type": "code",
   "execution_count": 21,
   "id": "09961018-c20b-4517-a078-73e30244244c",
   "metadata": {},
   "outputs": [],
   "source": [
    "#3\n",
    "data3={'Value':[10, 20, 30, 40, 50]}"
   ]
  },
  {
   "cell_type": "code",
   "execution_count": 22,
   "id": "eb37d91d-6e15-4c89-b177-ca292c191a6d",
   "metadata": {},
   "outputs": [],
   "source": [
    "df4=pd.DataFrame(data3)"
   ]
  },
  {
   "cell_type": "code",
   "execution_count": 23,
   "id": "5071dfa8-6697-4bb7-8cc6-fdb4b69f1e62",
   "metadata": {},
   "outputs": [
    {
     "data": {
      "text/html": [
       "<div>\n",
       "<style scoped>\n",
       "    .dataframe tbody tr th:only-of-type {\n",
       "        vertical-align: middle;\n",
       "    }\n",
       "\n",
       "    .dataframe tbody tr th {\n",
       "        vertical-align: top;\n",
       "    }\n",
       "\n",
       "    .dataframe thead th {\n",
       "        text-align: right;\n",
       "    }\n",
       "</style>\n",
       "<table border=\"1\" class=\"dataframe\">\n",
       "  <thead>\n",
       "    <tr style=\"text-align: right;\">\n",
       "      <th></th>\n",
       "      <th>Value</th>\n",
       "    </tr>\n",
       "  </thead>\n",
       "  <tbody>\n",
       "    <tr>\n",
       "      <th>0</th>\n",
       "      <td>10</td>\n",
       "    </tr>\n",
       "    <tr>\n",
       "      <th>1</th>\n",
       "      <td>20</td>\n",
       "    </tr>\n",
       "    <tr>\n",
       "      <th>2</th>\n",
       "      <td>30</td>\n",
       "    </tr>\n",
       "    <tr>\n",
       "      <th>3</th>\n",
       "      <td>40</td>\n",
       "    </tr>\n",
       "    <tr>\n",
       "      <th>4</th>\n",
       "      <td>50</td>\n",
       "    </tr>\n",
       "  </tbody>\n",
       "</table>\n",
       "</div>"
      ],
      "text/plain": [
       "   Value\n",
       "0     10\n",
       "1     20\n",
       "2     30\n",
       "3     40\n",
       "4     50"
      ]
     },
     "execution_count": 23,
     "metadata": {},
     "output_type": "execute_result"
    }
   ],
   "source": [
    "df4"
   ]
  },
  {
   "cell_type": "code",
   "execution_count": 35,
   "id": "7071b3b9-9552-4bc1-983d-4a5f05e3ea0a",
   "metadata": {},
   "outputs": [],
   "source": [
    "s=df4['Value'][0:3].sum()"
   ]
  },
  {
   "cell_type": "code",
   "execution_count": 36,
   "id": "97b79d13-c0e8-48ab-899e-8fa29e58f95e",
   "metadata": {},
   "outputs": [
    {
     "data": {
      "text/plain": [
       "60"
      ]
     },
     "execution_count": 36,
     "metadata": {},
     "output_type": "execute_result"
    }
   ],
   "source": [
    "s"
   ]
  },
  {
   "cell_type": "code",
   "execution_count": 37,
   "id": "be2775d0-b615-4069-ba66-acaa9bac4f43",
   "metadata": {},
   "outputs": [],
   "source": [
    "#4"
   ]
  },
  {
   "cell_type": "code",
   "execution_count": 43,
   "id": "0d14b28a-9675-4ade-bf98-7e67d9567857",
   "metadata": {},
   "outputs": [],
   "source": [
    "data5={'Text':[\"sudh is\" , \"krish is is\",\"hitesh is na sdn\",\"navin\"]}"
   ]
  },
  {
   "cell_type": "code",
   "execution_count": 44,
   "id": "2e701c2a-6e61-4552-9592-14ab0d9138bf",
   "metadata": {},
   "outputs": [],
   "source": [
    "df5=pd.DataFrame(data5)"
   ]
  },
  {
   "cell_type": "code",
   "execution_count": 45,
   "id": "23414747-a2ed-4a25-8303-09ec88a52bc8",
   "metadata": {},
   "outputs": [
    {
     "data": {
      "text/html": [
       "<div>\n",
       "<style scoped>\n",
       "    .dataframe tbody tr th:only-of-type {\n",
       "        vertical-align: middle;\n",
       "    }\n",
       "\n",
       "    .dataframe tbody tr th {\n",
       "        vertical-align: top;\n",
       "    }\n",
       "\n",
       "    .dataframe thead th {\n",
       "        text-align: right;\n",
       "    }\n",
       "</style>\n",
       "<table border=\"1\" class=\"dataframe\">\n",
       "  <thead>\n",
       "    <tr style=\"text-align: right;\">\n",
       "      <th></th>\n",
       "      <th>Text</th>\n",
       "    </tr>\n",
       "  </thead>\n",
       "  <tbody>\n",
       "    <tr>\n",
       "      <th>0</th>\n",
       "      <td>sudh is</td>\n",
       "    </tr>\n",
       "    <tr>\n",
       "      <th>1</th>\n",
       "      <td>krish is is</td>\n",
       "    </tr>\n",
       "    <tr>\n",
       "      <th>2</th>\n",
       "      <td>hitesh is na sdn</td>\n",
       "    </tr>\n",
       "    <tr>\n",
       "      <th>3</th>\n",
       "      <td>navin</td>\n",
       "    </tr>\n",
       "  </tbody>\n",
       "</table>\n",
       "</div>"
      ],
      "text/plain": [
       "               Text\n",
       "0           sudh is\n",
       "1       krish is is\n",
       "2  hitesh is na sdn\n",
       "3             navin"
      ]
     },
     "execution_count": 45,
     "metadata": {},
     "output_type": "execute_result"
    }
   ],
   "source": [
    "df5"
   ]
  },
  {
   "cell_type": "code",
   "execution_count": 47,
   "id": "561f7f71-38e0-4d6a-a1ce-a2ee209cb3e3",
   "metadata": {},
   "outputs": [],
   "source": [
    "df5['Word_Count']=df5['Text'].apply(lambda x:len(x.split()))"
   ]
  },
  {
   "cell_type": "code",
   "execution_count": 48,
   "id": "b10359d2-54b4-4b07-ab99-0e8b1ff8e5b1",
   "metadata": {},
   "outputs": [
    {
     "data": {
      "text/html": [
       "<div>\n",
       "<style scoped>\n",
       "    .dataframe tbody tr th:only-of-type {\n",
       "        vertical-align: middle;\n",
       "    }\n",
       "\n",
       "    .dataframe tbody tr th {\n",
       "        vertical-align: top;\n",
       "    }\n",
       "\n",
       "    .dataframe thead th {\n",
       "        text-align: right;\n",
       "    }\n",
       "</style>\n",
       "<table border=\"1\" class=\"dataframe\">\n",
       "  <thead>\n",
       "    <tr style=\"text-align: right;\">\n",
       "      <th></th>\n",
       "      <th>Text</th>\n",
       "      <th>Word_Count</th>\n",
       "    </tr>\n",
       "  </thead>\n",
       "  <tbody>\n",
       "    <tr>\n",
       "      <th>0</th>\n",
       "      <td>sudh is</td>\n",
       "      <td>2</td>\n",
       "    </tr>\n",
       "    <tr>\n",
       "      <th>1</th>\n",
       "      <td>krish is is</td>\n",
       "      <td>3</td>\n",
       "    </tr>\n",
       "    <tr>\n",
       "      <th>2</th>\n",
       "      <td>hitesh is na sdn</td>\n",
       "      <td>4</td>\n",
       "    </tr>\n",
       "    <tr>\n",
       "      <th>3</th>\n",
       "      <td>navin</td>\n",
       "      <td>1</td>\n",
       "    </tr>\n",
       "  </tbody>\n",
       "</table>\n",
       "</div>"
      ],
      "text/plain": [
       "               Text  Word_Count\n",
       "0           sudh is           2\n",
       "1       krish is is           3\n",
       "2  hitesh is na sdn           4\n",
       "3             navin           1"
      ]
     },
     "execution_count": 48,
     "metadata": {},
     "output_type": "execute_result"
    }
   ],
   "source": [
    "df5"
   ]
  },
  {
   "cell_type": "code",
   "execution_count": 50,
   "id": "ac4feabf-aa1a-4629-bde8-a04a77065177",
   "metadata": {},
   "outputs": [
    {
     "data": {
      "text/plain": [
       "8"
      ]
     },
     "execution_count": 50,
     "metadata": {},
     "output_type": "execute_result"
    }
   ],
   "source": [
    "#5 Gives the total number of elements\n",
    "df5.size"
   ]
  },
  {
   "cell_type": "code",
   "execution_count": 52,
   "id": "9315e5e2-743d-4dad-9943-756ca3589adc",
   "metadata": {},
   "outputs": [
    {
     "data": {
      "text/plain": [
       "(4, 2)"
      ]
     },
     "execution_count": 52,
     "metadata": {},
     "output_type": "execute_result"
    }
   ],
   "source": [
    "#Gives the number of rows and columns\n",
    "df5.shape"
   ]
  },
  {
   "cell_type": "code",
   "execution_count": 53,
   "id": "a0998e54-04ad-4fef-be68-5963e3b17bb8",
   "metadata": {},
   "outputs": [],
   "source": [
    "#6 We use read_excel function"
   ]
  },
  {
   "cell_type": "code",
   "execution_count": 56,
   "id": "2718d4ce-5978-4cb8-b28c-70b7ffc809ae",
   "metadata": {},
   "outputs": [],
   "source": [
    "# df6=pd.read_excel('work/Copy of LUSID Excel - Setting up your market data.xlsx')"
   ]
  },
  {
   "cell_type": "code",
   "execution_count": 57,
   "id": "b1d52eed-5751-46b5-ad96-f130186f4ee8",
   "metadata": {},
   "outputs": [],
   "source": [
    "#7"
   ]
  },
  {
   "cell_type": "code",
   "execution_count": 59,
   "id": "7bac62cd-81c6-40c3-8908-7c3a587cb9a1",
   "metadata": {},
   "outputs": [],
   "source": [
    "df7=pd.DataFrame({'Email':['username1@domain.com','username2@domain.com','username3@domain.com']})"
   ]
  },
  {
   "cell_type": "code",
   "execution_count": 60,
   "id": "1d6cfa82-6029-4d65-b013-0a3c64771d7e",
   "metadata": {},
   "outputs": [
    {
     "data": {
      "text/html": [
       "<div>\n",
       "<style scoped>\n",
       "    .dataframe tbody tr th:only-of-type {\n",
       "        vertical-align: middle;\n",
       "    }\n",
       "\n",
       "    .dataframe tbody tr th {\n",
       "        vertical-align: top;\n",
       "    }\n",
       "\n",
       "    .dataframe thead th {\n",
       "        text-align: right;\n",
       "    }\n",
       "</style>\n",
       "<table border=\"1\" class=\"dataframe\">\n",
       "  <thead>\n",
       "    <tr style=\"text-align: right;\">\n",
       "      <th></th>\n",
       "      <th>Email</th>\n",
       "    </tr>\n",
       "  </thead>\n",
       "  <tbody>\n",
       "    <tr>\n",
       "      <th>0</th>\n",
       "      <td>username1@domain.com</td>\n",
       "    </tr>\n",
       "    <tr>\n",
       "      <th>1</th>\n",
       "      <td>username2@domain.com</td>\n",
       "    </tr>\n",
       "    <tr>\n",
       "      <th>2</th>\n",
       "      <td>username3@domain.com</td>\n",
       "    </tr>\n",
       "  </tbody>\n",
       "</table>\n",
       "</div>"
      ],
      "text/plain": [
       "                  Email\n",
       "0  username1@domain.com\n",
       "1  username2@domain.com\n",
       "2  username3@domain.com"
      ]
     },
     "execution_count": 60,
     "metadata": {},
     "output_type": "execute_result"
    }
   ],
   "source": [
    "df7"
   ]
  },
  {
   "cell_type": "code",
   "execution_count": 67,
   "id": "88a4c146-1ebd-40b8-a149-6a93d59f745f",
   "metadata": {},
   "outputs": [],
   "source": [
    "df7['Username']=df7['Email'].apply(lambda x: x[0:x.find('@')])"
   ]
  },
  {
   "cell_type": "code",
   "execution_count": 68,
   "id": "5c58dd43-53fa-4337-8971-d11d0854ce7e",
   "metadata": {},
   "outputs": [
    {
     "data": {
      "text/html": [
       "<div>\n",
       "<style scoped>\n",
       "    .dataframe tbody tr th:only-of-type {\n",
       "        vertical-align: middle;\n",
       "    }\n",
       "\n",
       "    .dataframe tbody tr th {\n",
       "        vertical-align: top;\n",
       "    }\n",
       "\n",
       "    .dataframe thead th {\n",
       "        text-align: right;\n",
       "    }\n",
       "</style>\n",
       "<table border=\"1\" class=\"dataframe\">\n",
       "  <thead>\n",
       "    <tr style=\"text-align: right;\">\n",
       "      <th></th>\n",
       "      <th>Email</th>\n",
       "      <th>Username</th>\n",
       "    </tr>\n",
       "  </thead>\n",
       "  <tbody>\n",
       "    <tr>\n",
       "      <th>0</th>\n",
       "      <td>username1@domain.com</td>\n",
       "      <td>username1</td>\n",
       "    </tr>\n",
       "    <tr>\n",
       "      <th>1</th>\n",
       "      <td>username2@domain.com</td>\n",
       "      <td>username2</td>\n",
       "    </tr>\n",
       "    <tr>\n",
       "      <th>2</th>\n",
       "      <td>username3@domain.com</td>\n",
       "      <td>username3</td>\n",
       "    </tr>\n",
       "  </tbody>\n",
       "</table>\n",
       "</div>"
      ],
      "text/plain": [
       "                  Email   Username\n",
       "0  username1@domain.com  username1\n",
       "1  username2@domain.com  username2\n",
       "2  username3@domain.com  username3"
      ]
     },
     "execution_count": 68,
     "metadata": {},
     "output_type": "execute_result"
    }
   ],
   "source": [
    "df7"
   ]
  },
  {
   "cell_type": "code",
   "execution_count": 69,
   "id": "7f7334fd-84bf-4787-8686-291a13fa1b84",
   "metadata": {},
   "outputs": [],
   "source": [
    "#8"
   ]
  },
  {
   "cell_type": "code",
   "execution_count": 83,
   "id": "a90b9b48-4a40-49ca-8771-f604ba98fe01",
   "metadata": {},
   "outputs": [],
   "source": [
    "df8=pd.DataFrame({'A':[3,8,6,3,9],'B':[5,2,9,3,1],'C':[1,7,4,5,2]})"
   ]
  },
  {
   "cell_type": "code",
   "execution_count": 84,
   "id": "0a569bf8-3a37-41c8-9a6f-7f890b153d1e",
   "metadata": {},
   "outputs": [
    {
     "data": {
      "text/html": [
       "<div>\n",
       "<style scoped>\n",
       "    .dataframe tbody tr th:only-of-type {\n",
       "        vertical-align: middle;\n",
       "    }\n",
       "\n",
       "    .dataframe tbody tr th {\n",
       "        vertical-align: top;\n",
       "    }\n",
       "\n",
       "    .dataframe thead th {\n",
       "        text-align: right;\n",
       "    }\n",
       "</style>\n",
       "<table border=\"1\" class=\"dataframe\">\n",
       "  <thead>\n",
       "    <tr style=\"text-align: right;\">\n",
       "      <th></th>\n",
       "      <th>A</th>\n",
       "      <th>B</th>\n",
       "      <th>C</th>\n",
       "    </tr>\n",
       "  </thead>\n",
       "  <tbody>\n",
       "    <tr>\n",
       "      <th>0</th>\n",
       "      <td>3</td>\n",
       "      <td>5</td>\n",
       "      <td>1</td>\n",
       "    </tr>\n",
       "    <tr>\n",
       "      <th>1</th>\n",
       "      <td>8</td>\n",
       "      <td>2</td>\n",
       "      <td>7</td>\n",
       "    </tr>\n",
       "    <tr>\n",
       "      <th>2</th>\n",
       "      <td>6</td>\n",
       "      <td>9</td>\n",
       "      <td>4</td>\n",
       "    </tr>\n",
       "    <tr>\n",
       "      <th>3</th>\n",
       "      <td>3</td>\n",
       "      <td>3</td>\n",
       "      <td>5</td>\n",
       "    </tr>\n",
       "    <tr>\n",
       "      <th>4</th>\n",
       "      <td>9</td>\n",
       "      <td>1</td>\n",
       "      <td>2</td>\n",
       "    </tr>\n",
       "  </tbody>\n",
       "</table>\n",
       "</div>"
      ],
      "text/plain": [
       "   A  B  C\n",
       "0  3  5  1\n",
       "1  8  2  7\n",
       "2  6  9  4\n",
       "3  3  3  5\n",
       "4  9  1  2"
      ]
     },
     "execution_count": 84,
     "metadata": {},
     "output_type": "execute_result"
    }
   ],
   "source": [
    "df8"
   ]
  },
  {
   "cell_type": "code",
   "execution_count": 89,
   "id": "fc0fb5a0-55d1-48e0-a733-212eeb710062",
   "metadata": {},
   "outputs": [],
   "source": [
    "df9=df8[(df8['A']>5) & (df8['B']<10)]"
   ]
  },
  {
   "cell_type": "code",
   "execution_count": 90,
   "id": "cebbd903-70d7-4688-a452-9c11c5f53280",
   "metadata": {},
   "outputs": [
    {
     "data": {
      "text/html": [
       "<div>\n",
       "<style scoped>\n",
       "    .dataframe tbody tr th:only-of-type {\n",
       "        vertical-align: middle;\n",
       "    }\n",
       "\n",
       "    .dataframe tbody tr th {\n",
       "        vertical-align: top;\n",
       "    }\n",
       "\n",
       "    .dataframe thead th {\n",
       "        text-align: right;\n",
       "    }\n",
       "</style>\n",
       "<table border=\"1\" class=\"dataframe\">\n",
       "  <thead>\n",
       "    <tr style=\"text-align: right;\">\n",
       "      <th></th>\n",
       "      <th>A</th>\n",
       "      <th>B</th>\n",
       "      <th>C</th>\n",
       "    </tr>\n",
       "  </thead>\n",
       "  <tbody>\n",
       "    <tr>\n",
       "      <th>1</th>\n",
       "      <td>8</td>\n",
       "      <td>2</td>\n",
       "      <td>7</td>\n",
       "    </tr>\n",
       "    <tr>\n",
       "      <th>2</th>\n",
       "      <td>6</td>\n",
       "      <td>9</td>\n",
       "      <td>4</td>\n",
       "    </tr>\n",
       "    <tr>\n",
       "      <th>4</th>\n",
       "      <td>9</td>\n",
       "      <td>1</td>\n",
       "      <td>2</td>\n",
       "    </tr>\n",
       "  </tbody>\n",
       "</table>\n",
       "</div>"
      ],
      "text/plain": [
       "   A  B  C\n",
       "1  8  2  7\n",
       "2  6  9  4\n",
       "4  9  1  2"
      ]
     },
     "execution_count": 90,
     "metadata": {},
     "output_type": "execute_result"
    }
   ],
   "source": [
    "df9"
   ]
  },
  {
   "cell_type": "code",
   "execution_count": 91,
   "id": "9b07486c-c811-4e4d-a956-6d89d2885c6e",
   "metadata": {},
   "outputs": [
    {
     "data": {
      "text/plain": [
       "pandas.core.frame.DataFrame"
      ]
     },
     "execution_count": 91,
     "metadata": {},
     "output_type": "execute_result"
    }
   ],
   "source": [
    "type(df9)"
   ]
  },
  {
   "cell_type": "code",
   "execution_count": null,
   "id": "007d22e5-f999-4e07-bbcd-efadd1121efa",
   "metadata": {},
   "outputs": [],
   "source": []
  }
 ],
 "metadata": {
  "kernelspec": {
   "display_name": "Python 3 (ipykernel)",
   "language": "python",
   "name": "python3"
  },
  "language_info": {
   "codemirror_mode": {
    "name": "ipython",
    "version": 3
   },
   "file_extension": ".py",
   "mimetype": "text/x-python",
   "name": "python",
   "nbconvert_exporter": "python",
   "pygments_lexer": "ipython3",
   "version": "3.10.8"
  }
 },
 "nbformat": 4,
 "nbformat_minor": 5
}
