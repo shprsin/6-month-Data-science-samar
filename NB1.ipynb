{
 "cells": [
  {
   "cell_type": "code",
   "execution_count": 1,
   "id": "932f71b5-c3d8-4c49-adaf-b835261dfa06",
   "metadata": {},
   "outputs": [],
   "source": [
    "# Q1\n",
    "# Bayes' Theorem states that the conditional probability of an event, based on the occurrence of another event,\n",
    "# is equal to the likelihood of the second event given the first event multiplied by the probability of the \n",
    "# first event"
   ]
  },
  {
   "cell_type": "code",
   "execution_count": 2,
   "id": "28e1edfa-6a79-49e3-84c8-c457c660d5da",
   "metadata": {},
   "outputs": [],
   "source": [
    "#q2"
   ]
  },
  {
   "cell_type": "code",
   "execution_count": 5,
   "id": "f88f4afd-d92f-45cf-9662-25fc83c50dab",
   "metadata": {},
   "outputs": [],
   "source": [
    "# P(A\\ B)={P(A) * P(B/A)}/{P(B)}\n",
    "# A, B\t=\tevents\n",
    "# P(A|B)\t=\tprobability of A given B is true\n",
    "# P(B|A)\t=\tprobability of B given A is true\n",
    "# P(A), P(B)\t=\tthe independent probabilities of A and B\n"
   ]
  },
  {
   "cell_type": "code",
   "execution_count": 6,
   "id": "8ccfd510-0f57-40a5-818d-f15b26a0cd06",
   "metadata": {},
   "outputs": [],
   "source": [
    "#q3"
   ]
  },
  {
   "cell_type": "code",
   "execution_count": 8,
   "id": "36ecf198-1f79-464a-8679-e2efd884ad58",
   "metadata": {},
   "outputs": [],
   "source": [
    "# It lets us update your beliefs or predictions based on new evidence or data. In Machine Learning, we often \n",
    "# encounter situations where we need to make decisions or predictions based on incomplete or noisy information. \n",
    "# Bayes Theorem allows calculating the probability of a hypothesis or event given the observed data."
   ]
  },
  {
   "cell_type": "code",
   "execution_count": 10,
   "id": "d665bbcc-440c-4354-b2b8-7b4230318c74",
   "metadata": {},
   "outputs": [],
   "source": [
    "# And it is specifically used in ML Algorithm called Naive Bayes fro Predictions"
   ]
  },
  {
   "cell_type": "code",
   "execution_count": 11,
   "id": "97dae898-11ce-4b19-8710-50709f23d5d5",
   "metadata": {},
   "outputs": [],
   "source": [
    "#q4"
   ]
  },
  {
   "cell_type": "code",
   "execution_count": 12,
   "id": "711d0c71-153c-4388-bed6-d9b285d690f8",
   "metadata": {},
   "outputs": [],
   "source": [
    "# Bayes' Theorem, named after 18th-century British mathematician Thomas Bayes, is a mathematical formula for \n",
    "# determining conditional probability. Conditional probability is the likelihood of an outcome occurring, \n",
    "# based on a previous outcome having occurred in similar circumstances."
   ]
  },
  {
   "cell_type": "code",
   "execution_count": 13,
   "id": "bb62fc70-3239-45c1-bfff-597132e912cc",
   "metadata": {},
   "outputs": [],
   "source": [
    "#Q5"
   ]
  },
  {
   "cell_type": "code",
   "execution_count": 14,
   "id": "28114f99-d677-4e5a-82bc-e0e83f0228dc",
   "metadata": {},
   "outputs": [],
   "source": [
    "# There are three types of Naive Bayes Model, which are given below:\n",
    "\n",
    "# Gaussian: The Gaussian model assumes that features follow a normal distribution. This means if predictors take continuous values instead of discrete, then the model assumes that these values are sampled from the Gaussian distribution.\n",
    "# Multinomial: The Multinomial Naïve Bayes classifier is used when the data is multinomial distributed. It is primarily used for document classification problems, it means a particular document belongs to which category such as Sports, Politics, education, etc.\n",
    "# The classifier uses the frequency of words for the predictors.\n",
    "# Bernoulli: The Bernoulli classifier works similar to the Multinomial classifier, but the predictor variables are the independent Booleans variables. Such as if a particular word is present or not in a document. This model is also famous for document classification tasks."
   ]
  },
  {
   "cell_type": "code",
   "execution_count": 15,
   "id": "abda625f-b60e-48fd-9248-6d28e6071bb8",
   "metadata": {},
   "outputs": [],
   "source": [
    "#q6"
   ]
  },
  {
   "cell_type": "code",
   "execution_count": 16,
   "id": "e1c3a977-6137-41af-a4f3-39645e24c41f",
   "metadata": {},
   "outputs": [],
   "source": [
    "# You have a dataset with two features, X1 and X2, and two possible classes, A and B. You want to use Naive\n",
    "# Bayes to classify a new instance with features X1 = 3 and X2 = 4. The following table shows the frequency of\n",
    "# each feature value for each class:\n",
    "# Class X1=1 X1=2 X1=3 X2=1 X2=2 X2=3 X2=4\n",
    "# A  3 3 4 4 3 3 3\n",
    "# B 2 2 1 2 2 2 3\n",
    "# Assuming equal prior probabilities for each class, which class would Naive Bayes predict the new instance\n",
    "# to belong to?"
   ]
  },
  {
   "cell_type": "code",
   "execution_count": 24,
   "id": "b5153cae-539e-43de-9dd4-2184b3175bb7",
   "metadata": {},
   "outputs": [],
   "source": [
    "Pax1x2=1/2*2/3*1/4"
   ]
  },
  {
   "cell_type": "code",
   "execution_count": 18,
   "id": "17c3c589-c79a-4ed6-9318-129761f943aa",
   "metadata": {},
   "outputs": [
    {
     "data": {
      "text/plain": [
       "0.08333333333333333"
      ]
     },
     "execution_count": 18,
     "metadata": {},
     "output_type": "execute_result"
    }
   ],
   "source": [
    "Pax1x2"
   ]
  },
  {
   "cell_type": "code",
   "execution_count": 19,
   "id": "6f798f71-6e57-405b-b91d-4f640979c6bd",
   "metadata": {},
   "outputs": [
    {
     "data": {
      "text/plain": [
       "0.08333333333333333"
      ]
     },
     "execution_count": 19,
     "metadata": {},
     "output_type": "execute_result"
    }
   ],
   "source": [
    "1/12"
   ]
  },
  {
   "cell_type": "code",
   "execution_count": 21,
   "id": "1837445f-65fd-4303-a14c-9a21e95b26c2",
   "metadata": {},
   "outputs": [],
   "source": [
    "Pbx1x2=1/24"
   ]
  },
  {
   "cell_type": "code",
   "execution_count": 22,
   "id": "851bc4c0-cfa8-41b5-ac30-3f738aea3cf7",
   "metadata": {},
   "outputs": [
    {
     "data": {
      "text/plain": [
       "0.041666666666666664"
      ]
     },
     "execution_count": 22,
     "metadata": {},
     "output_type": "execute_result"
    }
   ],
   "source": [
    "Pbx1x2"
   ]
  },
  {
   "cell_type": "code",
   "execution_count": 29,
   "id": "32e76cd1-db63-4743-add6-8e92af945aec",
   "metadata": {},
   "outputs": [],
   "source": [
    "Pa=(Pax1x2/(Pax1x2+Pbx1x2))*100"
   ]
  },
  {
   "cell_type": "code",
   "execution_count": 27,
   "id": "5072dd3a-caf2-4cc0-ac5c-63105a10d12f",
   "metadata": {},
   "outputs": [],
   "source": [
    "Pb=(Pbx1x2/(Pax1x2+Pbx1x2))*100"
   ]
  },
  {
   "cell_type": "code",
   "execution_count": 30,
   "id": "3c8f8222-1b2f-497c-8822-76cf20473b82",
   "metadata": {},
   "outputs": [
    {
     "data": {
      "text/plain": [
       "(66.66666666666666, 33.33333333333333)"
      ]
     },
     "execution_count": 30,
     "metadata": {},
     "output_type": "execute_result"
    }
   ],
   "source": [
    "Pa,Pb"
   ]
  },
  {
   "cell_type": "code",
   "execution_count": 31,
   "id": "2681ba67-5872-4342-82c6-e8e0e55e219a",
   "metadata": {},
   "outputs": [],
   "source": [
    "#Hence X1=3,X2=4 will have 66.6% chance to be classified as A"
   ]
  },
  {
   "cell_type": "code",
   "execution_count": null,
   "id": "92792a95-a1db-4f6d-8e6c-79c8b8cfeba6",
   "metadata": {},
   "outputs": [],
   "source": []
  }
 ],
 "metadata": {
  "kernelspec": {
   "display_name": "Python 3 (ipykernel)",
   "language": "python",
   "name": "python3"
  },
  "language_info": {
   "codemirror_mode": {
    "name": "ipython",
    "version": 3
   },
   "file_extension": ".py",
   "mimetype": "text/x-python",
   "name": "python",
   "nbconvert_exporter": "python",
   "pygments_lexer": "ipython3",
   "version": "3.10.8"
  }
 },
 "nbformat": 4,
 "nbformat_minor": 5
}
