{
 "cells": [
  {
   "cell_type": "code",
   "execution_count": 12,
   "id": "7c1a459b-d106-48bc-a6db-d9a999229c98",
   "metadata": {},
   "outputs": [],
   "source": [
    "#Q1\n",
    "class vehicle:\n",
    "    def __init__(self,name_of_vehicle,max_speed,average_of_vehicle):\n",
    "        self.name_of_vehicle=name_of_vehicle\n",
    "        self.max_speed=max_speed\n",
    "        self.average_of_vehicle=average_of_vehicle"
   ]
  },
  {
   "cell_type": "code",
   "execution_count": 13,
   "id": "7448ba33-0f54-48f8-b553-fb47035f431f",
   "metadata": {},
   "outputs": [],
   "source": [
    "#Q2\n",
    "class car(vehicle):\n",
    "    def __init__(self,name_of_vehicle,max_speed,average_of_vehicle,capacity):\n",
    "        self.name_of_vehicle=name_of_vehicle\n",
    "        self.max_speed=max_speed\n",
    "        self.average_of_vehicle=average_of_vehicle\n",
    "        self.capacity=capacity\n",
    "    def seating_capacity(self,capacity):\n",
    "        return self.name_of_vehicle, self.capacity\n",
    "        "
   ]
  },
  {
   "cell_type": "code",
   "execution_count": 15,
   "id": "3bfe0534-8518-4c3b-8e6b-a48ae60a4778",
   "metadata": {},
   "outputs": [],
   "source": [
    "obj = car(\"Ford cayan\",245,12,3)"
   ]
  },
  {
   "cell_type": "code",
   "execution_count": 16,
   "id": "21910b2f-0bca-4861-bcad-5f650c002ab6",
   "metadata": {},
   "outputs": [
    {
     "data": {
      "text/plain": [
       "('Ford cayan', 3)"
      ]
     },
     "execution_count": 16,
     "metadata": {},
     "output_type": "execute_result"
    }
   ],
   "source": [
    "obj.seating_capacity(3)"
   ]
  },
  {
   "cell_type": "code",
   "execution_count": 17,
   "id": "85d145c0-d54d-4c62-b45e-3605cc43676b",
   "metadata": {},
   "outputs": [],
   "source": [
    "class parent:\n",
    "    def test_print(self):\n",
    "        print(\"This is my parent class\")"
   ]
  },
  {
   "cell_type": "code",
   "execution_count": 18,
   "id": "30784215-2588-44d1-a90d-3737bf33d5dd",
   "metadata": {},
   "outputs": [],
   "source": [
    "class child(parent):\n",
    "    def test_print1(self):\n",
    "        print(\"this is inherited class\")"
   ]
  },
  {
   "cell_type": "code",
   "execution_count": 19,
   "id": "307d220b-c08f-47cf-91f8-3fbb5d8516cc",
   "metadata": {},
   "outputs": [],
   "source": [
    "obj=child()"
   ]
  },
  {
   "cell_type": "code",
   "execution_count": 20,
   "id": "b6585364-17f2-49ef-ab61-a70c276b4616",
   "metadata": {},
   "outputs": [
    {
     "name": "stdout",
     "output_type": "stream",
     "text": [
      "This is my parent class\n"
     ]
    }
   ],
   "source": [
    "#Q5\n",
    "obj.test_print() #Method_overriding"
   ]
  },
  {
   "cell_type": "code",
   "execution_count": 21,
   "id": "87a29ba7-17ed-470d-a4d8-07fc5597b9ab",
   "metadata": {},
   "outputs": [],
   "source": [
    "#Q3\n",
    "class parent1(child,parent):\n",
    "    pass"
   ]
  },
  {
   "cell_type": "code",
   "execution_count": 22,
   "id": "b7d98ca6-0d27-4cab-9dcc-0b051331c365",
   "metadata": {},
   "outputs": [],
   "source": [
    "obj1=parent1()"
   ]
  },
  {
   "cell_type": "code",
   "execution_count": 23,
   "id": "5b5d8aaf-f653-4bfd-87e7-c4a893d84b84",
   "metadata": {},
   "outputs": [
    {
     "name": "stdout",
     "output_type": "stream",
     "text": [
      "this is inherited class\n"
     ]
    }
   ],
   "source": [
    "\n",
    "obj1.test_print1()"
   ]
  },
  {
   "cell_type": "code",
   "execution_count": 5,
   "id": "5692a753-66b3-48a2-bc56-098aeb01f233",
   "metadata": {},
   "outputs": [],
   "source": [
    "#Q4\n",
    "class student:\n",
    "    def __init__(self,name,marks):\n",
    "        self.name=name\n",
    "        self.__marks=marks\n",
    "    def get(self):\n",
    "        return self.__marks\n",
    "    def set_m(self,marks):\n",
    "        self.__marks=marks"
   ]
  },
  {
   "cell_type": "code",
   "execution_count": 6,
   "id": "6ee12e74-f863-4220-b72a-31ba5e0640f8",
   "metadata": {},
   "outputs": [],
   "source": [
    "ob=student(\"Rahul\",96)"
   ]
  },
  {
   "cell_type": "code",
   "execution_count": 7,
   "id": "197762f1-5fb7-413b-a3f8-93225491e23d",
   "metadata": {},
   "outputs": [
    {
     "ename": "AttributeError",
     "evalue": "'student' object has no attribute 'marks'",
     "output_type": "error",
     "traceback": [
      "\u001b[0;31m---------------------------------------------------------------------------\u001b[0m",
      "\u001b[0;31mAttributeError\u001b[0m                            Traceback (most recent call last)",
      "Cell \u001b[0;32mIn[7], line 1\u001b[0m\n\u001b[0;32m----> 1\u001b[0m \u001b[43mob\u001b[49m\u001b[38;5;241;43m.\u001b[39;49m\u001b[43mmarks\u001b[49m\n",
      "\u001b[0;31mAttributeError\u001b[0m: 'student' object has no attribute 'marks'"
     ]
    }
   ],
   "source": [
    "ob.marks # Cant access as it private"
   ]
  },
  {
   "cell_type": "code",
   "execution_count": 8,
   "id": "5fd2a60c-85df-4ba9-805a-afb1d363ff86",
   "metadata": {},
   "outputs": [
    {
     "data": {
      "text/plain": [
       "96"
      ]
     },
     "execution_count": 8,
     "metadata": {},
     "output_type": "execute_result"
    }
   ],
   "source": [
    "ob.get() # Hence use Getter"
   ]
  },
  {
   "cell_type": "code",
   "execution_count": 10,
   "id": "45a15252-eacf-4a9c-b8b5-c134902a2be1",
   "metadata": {},
   "outputs": [],
   "source": [
    "ob.set_m(100) #Setter to change value of "
   ]
  },
  {
   "cell_type": "code",
   "execution_count": 11,
   "id": "9021215f-e18b-4a0c-8c3f-1e3c05becae3",
   "metadata": {},
   "outputs": [
    {
     "data": {
      "text/plain": [
       "100"
      ]
     },
     "execution_count": 11,
     "metadata": {},
     "output_type": "execute_result"
    }
   ],
   "source": [
    "ob.get()"
   ]
  },
  {
   "cell_type": "code",
   "execution_count": null,
   "id": "243214df-7454-45fe-b0ef-c3096de51010",
   "metadata": {},
   "outputs": [],
   "source": []
  }
 ],
 "metadata": {
  "kernelspec": {
   "display_name": "Python 3 (ipykernel)",
   "language": "python",
   "name": "python3"
  },
  "language_info": {
   "codemirror_mode": {
    "name": "ipython",
    "version": 3
   },
   "file_extension": ".py",
   "mimetype": "text/x-python",
   "name": "python",
   "nbconvert_exporter": "python",
   "pygments_lexer": "ipython3",
   "version": "3.10.8"
  }
 },
 "nbformat": 4,
 "nbformat_minor": 5
}
