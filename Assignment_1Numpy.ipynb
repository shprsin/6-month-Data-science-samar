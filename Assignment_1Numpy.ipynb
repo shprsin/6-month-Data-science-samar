{
 "cells": [
  {
   "cell_type": "markdown",
   "id": "75673675-2b30-4da0-899a-89616d5af10e",
   "metadata": {},
   "source": [
    "Q1\n",
    "Yes there is a difference"
   ]
  },
  {
   "cell_type": "code",
   "execution_count": 3,
   "id": "41f9f875-b3fc-47e2-826f-4f0225c0a9e0",
   "metadata": {},
   "outputs": [],
   "source": [
    "import numpy as np\n",
    "list_ = [ '1' , '2' , '3' , '4', '5' ]\n",
    "array_list = np.array(object = list_)"
   ]
  },
  {
   "cell_type": "code",
   "execution_count": 4,
   "id": "47165c52-89ea-43b6-abac-d0c1630754d9",
   "metadata": {},
   "outputs": [
    {
     "data": {
      "text/plain": [
       "list"
      ]
     },
     "execution_count": 4,
     "metadata": {},
     "output_type": "execute_result"
    }
   ],
   "source": [
    "type(list_)"
   ]
  },
  {
   "cell_type": "code",
   "execution_count": 5,
   "id": "9c99522b-b3f6-41f5-8086-6ae6eb6975b3",
   "metadata": {},
   "outputs": [
    {
     "data": {
      "text/plain": [
       "numpy.ndarray"
      ]
     },
     "execution_count": 5,
     "metadata": {},
     "output_type": "execute_result"
    }
   ],
   "source": [
    "type(array_list)"
   ]
  },
  {
   "cell_type": "markdown",
   "id": "dda5f34d-23db-456c-aa4b-f0c1cafdbf71",
   "metadata": {},
   "source": [
    "Q2."
   ]
  },
  {
   "cell_type": "code",
   "execution_count": 28,
   "id": "5b7ee82f-3aa7-4e7b-9462-da290fc21734",
   "metadata": {},
   "outputs": [],
   "source": [
    "def l():\n",
    "    for i in list_:\n",
    "        print(f\"List element is : {i}\")\n",
    "    for i in array_list:\n",
    "        print(f\"Arry element is : {i}\")\n",
    "        "
   ]
  },
  {
   "cell_type": "code",
   "execution_count": 29,
   "id": "289fd73b-1a43-439a-96e1-aa1f3aae0a76",
   "metadata": {},
   "outputs": [
    {
     "name": "stdout",
     "output_type": "stream",
     "text": [
      "List element is : 1\n",
      "List element is : 2\n",
      "List element is : 3\n",
      "List element is : 4\n",
      "List element is : 5\n",
      "Arry element is : 1\n",
      "Arry element is : 2\n",
      "Arry element is : 3\n",
      "Arry element is : 4\n",
      "Arry element is : 5\n"
     ]
    }
   ],
   "source": [
    "l()"
   ]
  },
  {
   "cell_type": "code",
   "execution_count": 30,
   "id": "e3da9ff3-574f-415f-9c1e-9e2aea615f21",
   "metadata": {},
   "outputs": [],
   "source": []
  },
  {
   "cell_type": "markdown",
   "id": "54230429-cbe4-48b7-90ec-1bc48e711d00",
   "metadata": {},
   "source": [
    "Q3 Yes There will be a dfference"
   ]
  },
  {
   "cell_type": "code",
   "execution_count": 35,
   "id": "fc9e98d6-29b9-4487-8cd1-bb4e0745fc3a",
   "metadata": {},
   "outputs": [
    {
     "name": "stdout",
     "output_type": "stream",
     "text": [
      "List element is :  <class 'str'>\n",
      "List element is :  <class 'str'>\n",
      "List element is :  <class 'str'>\n",
      "List element is :  <class 'str'>\n",
      "List element is :  <class 'str'>\n",
      "Arry element is : <class 'numpy.int64'>\n",
      "Arry element is : <class 'numpy.int64'>\n",
      "Arry element is : <class 'numpy.int64'>\n",
      "Arry element is : <class 'numpy.int64'>\n",
      "Arry element is : <class 'numpy.int64'>\n"
     ]
    }
   ],
   "source": [
    "array_list = np.array(object = list_, dtype = int)\n",
    "for i in list_:\n",
    "    print(\"List element is : \",type(i))\n",
    "for i in array_list:\n",
    "    print(\"Arry element is :\", type(i))"
   ]
  },
  {
   "cell_type": "markdown",
   "id": "405bfbab-1a0a-4777-9cc3-73e3f94cc926",
   "metadata": {},
   "source": [
    "Q4"
   ]
  },
  {
   "cell_type": "code",
   "execution_count": 36,
   "id": "b04e7cc7-83c9-4423-ab46-e906fbd403c6",
   "metadata": {},
   "outputs": [],
   "source": [
    "num_list = [ [ 1 , 2 , 3 ] , [ 4 , 5 , 6 ] ]\n",
    "num_array = np.array(object = num_list)"
   ]
  },
  {
   "cell_type": "code",
   "execution_count": 37,
   "id": "14cc0e35-15a8-401b-84b2-0752f465912b",
   "metadata": {},
   "outputs": [
    {
     "data": {
      "text/plain": [
       "(2, 3)"
      ]
     },
     "execution_count": 37,
     "metadata": {},
     "output_type": "execute_result"
    }
   ],
   "source": [
    "num_array.shape"
   ]
  },
  {
   "cell_type": "code",
   "execution_count": 38,
   "id": "b5508637-2ee3-4714-b0c9-6031abe1f205",
   "metadata": {},
   "outputs": [
    {
     "data": {
      "text/plain": [
       "6"
      ]
     },
     "execution_count": 38,
     "metadata": {},
     "output_type": "execute_result"
    }
   ],
   "source": [
    "num_array.size"
   ]
  },
  {
   "cell_type": "markdown",
   "id": "0a766468-9f25-4223-aa04-406876d9997f",
   "metadata": {},
   "source": [
    "Q5"
   ]
  },
  {
   "cell_type": "code",
   "execution_count": 41,
   "id": "678db346-9830-4d81-b7f4-d11f3bac9e4c",
   "metadata": {},
   "outputs": [
    {
     "data": {
      "text/plain": [
       "array([[0., 0., 0.],\n",
       "       [0., 0., 0.],\n",
       "       [0., 0., 0.]])"
      ]
     },
     "execution_count": 41,
     "metadata": {},
     "output_type": "execute_result"
    }
   ],
   "source": [
    "np.fromfunction(lambda i,j : i*0, (3,3))"
   ]
  },
  {
   "cell_type": "markdown",
   "id": "296e2c3e-2c4c-4bc3-892f-59a7c9decdd0",
   "metadata": {},
   "source": [
    "Q6\n",
    "        "
   ]
  },
  {
   "cell_type": "code",
   "execution_count": 82,
   "id": "3c60493a-ea7e-4cd8-9b58-b3c5ecd8a067",
   "metadata": {},
   "outputs": [],
   "source": [
    "m=np.identity(5)"
   ]
  },
  {
   "cell_type": "code",
   "execution_count": 83,
   "id": "0d6c0cd9-7721-4b68-82fd-8e6e1298cc7f",
   "metadata": {},
   "outputs": [
    {
     "data": {
      "text/plain": [
       "array([[1., 0., 0., 0., 0.],\n",
       "       [0., 1., 0., 0., 0.],\n",
       "       [0., 0., 1., 0., 0.],\n",
       "       [0., 0., 0., 1., 0.],\n",
       "       [0., 0., 0., 0., 1.]])"
      ]
     },
     "execution_count": 83,
     "metadata": {},
     "output_type": "execute_result"
    }
   ],
   "source": [
    "m"
   ]
  },
  {
   "cell_type": "code",
   "execution_count": null,
   "id": "cee50e33-b6ed-4711-9155-4329c77599e7",
   "metadata": {},
   "outputs": [],
   "source": []
  }
 ],
 "metadata": {
  "kernelspec": {
   "display_name": "Python 3 (ipykernel)",
   "language": "python",
   "name": "python3"
  },
  "language_info": {
   "codemirror_mode": {
    "name": "ipython",
    "version": 3
   },
   "file_extension": ".py",
   "mimetype": "text/x-python",
   "name": "python",
   "nbconvert_exporter": "python",
   "pygments_lexer": "ipython3",
   "version": "3.10.8"
  }
 },
 "nbformat": 4,
 "nbformat_minor": 5
}
