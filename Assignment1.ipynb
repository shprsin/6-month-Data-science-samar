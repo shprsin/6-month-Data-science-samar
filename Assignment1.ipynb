{
 "cells": [
  {
   "cell_type": "code",
   "execution_count": 1,
   "id": "5d4e9b5f-8822-41ac-80cf-9933f94bc4d8",
   "metadata": {},
   "outputs": [],
   "source": [
    "#Q1"
   ]
  },
  {
   "cell_type": "code",
   "execution_count": 4,
   "id": "2c4fc5fe-9206-4039-8762-87a423ea15b6",
   "metadata": {},
   "outputs": [],
   "source": [
    "s=\"abc\"\n",
    "l=[1,2,3,\"abc\"]\n",
    "f=4.25\n",
    "t=(1,2,3,\"abc\",[34,35,36])"
   ]
  },
  {
   "cell_type": "code",
   "execution_count": 5,
   "id": "62f4004b-1967-4656-bde4-1f48a6b02e75",
   "metadata": {},
   "outputs": [],
   "source": [
    "#Q2"
   ]
  },
  {
   "cell_type": "code",
   "execution_count": 10,
   "id": "c2fd508b-22cd-41d6-90b1-e03a16343467",
   "metadata": {},
   "outputs": [],
   "source": [
    "var1 =' '\n",
    "var2 = '[ DS , ML , Python]'\n",
    "var3 = ['DS', 'ML' , 'Python']\n",
    "var4 = 1"
   ]
  },
  {
   "cell_type": "code",
   "execution_count": 12,
   "id": "613f0257-d3a0-465b-bf6e-291a20b018a4",
   "metadata": {},
   "outputs": [
    {
     "name": "stdout",
     "output_type": "stream",
     "text": [
      "<class 'str'> <class 'str'> <class 'list'> <class 'int'>\n"
     ]
    }
   ],
   "source": [
    "print(type(var1),type(var2),type(var3),type(var4))"
   ]
  },
  {
   "cell_type": "code",
   "execution_count": 14,
   "id": "ee139bd9-6baa-4bc8-b5ec-d0cd0d3ff8b2",
   "metadata": {},
   "outputs": [
    {
     "data": {
      "text/plain": [
       "1.5"
      ]
     },
     "execution_count": 14,
     "metadata": {},
     "output_type": "execute_result"
    }
   ],
   "source": [
    "#Q3\n",
    "3/2 #Division"
   ]
  },
  {
   "cell_type": "code",
   "execution_count": 15,
   "id": "540cd4a3-cdb3-4eb6-8177-956bd3414eaa",
   "metadata": {},
   "outputs": [
    {
     "data": {
      "text/plain": [
       "8"
      ]
     },
     "execution_count": 15,
     "metadata": {},
     "output_type": "execute_result"
    }
   ],
   "source": [
    "2**3 # Power"
   ]
  },
  {
   "cell_type": "code",
   "execution_count": 16,
   "id": "fda50cd7-4ade-41ee-ba8a-9bda52982c33",
   "metadata": {},
   "outputs": [
    {
     "data": {
      "text/plain": [
       "4"
      ]
     },
     "execution_count": 16,
     "metadata": {},
     "output_type": "execute_result"
    }
   ],
   "source": [
    "9//2 ## Floor"
   ]
  },
  {
   "cell_type": "code",
   "execution_count": 17,
   "id": "3f320f6b-4134-439e-b5ca-195fd426bff7",
   "metadata": {},
   "outputs": [
    {
     "data": {
      "text/plain": [
       "3"
      ]
     },
     "execution_count": 17,
     "metadata": {},
     "output_type": "execute_result"
    }
   ],
   "source": [
    "9%6 #Remainder"
   ]
  },
  {
   "cell_type": "code",
   "execution_count": 22,
   "id": "d0cd1d58-3a8c-4987-81ad-95e40c894e6d",
   "metadata": {},
   "outputs": [
    {
     "name": "stdout",
     "output_type": "stream",
     "text": [
      "1\n",
      "2\n",
      "3\n",
      "4\n",
      "5\n",
      "6\n",
      "7\n",
      "8\n",
      "9\n",
      "0\n"
     ]
    }
   ],
   "source": [
    "#Q4\n",
    "l=[1,2,3,4,5,6,7,8,9,0]\n",
    "for i in l:\n",
    "    print(i)"
   ]
  },
  {
   "cell_type": "code",
   "execution_count": 32,
   "id": "86d6fdec-0d24-46ff-ab47-59dbfcc5dfe8",
   "metadata": {},
   "outputs": [
    {
     "name": "stdout",
     "output_type": "stream",
     "text": [
      "27 is divisible by 3 : 3 times\n"
     ]
    }
   ],
   "source": [
    "#Q5\n",
    "n=27\n",
    "a=n\n",
    "i=3\n",
    "count=0\n",
    "while n%i==0:\n",
    "    count+=1\n",
    "    n/=i\n",
    "else:\n",
    "    print(f\"{a} is divisible by {i} : {count} times\")"
   ]
  },
  {
   "cell_type": "code",
   "execution_count": 35,
   "id": "d94ddb29-b48b-4bc2-aa45-a4f2eae24dce",
   "metadata": {},
   "outputs": [
    {
     "name": "stdin",
     "output_type": "stream",
     "text": [
      " Enter the 1th Element :  1\n",
      " Enter the 2th Element :  2\n",
      " Enter the 3th Element :  3\n",
      " Enter the 4th Element :  4\n",
      " Enter the 5th Element :  5\n",
      " Enter the 6th Element :  6\n",
      " Enter the 7th Element :  7\n",
      " Enter the 8th Element :  8\n",
      " Enter the 9th Element :  9\n",
      " Enter the 10th Element :  10\n",
      " Enter the 11th Element :  11\n",
      " Enter the 12th Element :  12\n",
      " Enter the 13th Element :  13\n",
      " Enter the 14th Element :  14\n",
      " Enter the 15th Element :  15\n",
      " Enter the 16th Element :  16\n",
      " Enter the 17th Element :  17\n",
      " Enter the 18th Element :  18\n",
      " Enter the 19th Element :  19\n",
      " Enter the 20th Element :  20\n",
      " Enter the 21th Element :  213\n",
      " Enter the 22th Element :  232\n",
      " Enter the 23th Element :  34\n",
      " Enter the 24th Element :  45\n",
      " Enter the 25th Element :  56\n"
     ]
    },
    {
     "name": "stdout",
     "output_type": "stream",
     "text": [
      "Not divisible by 3\n",
      "Not divisible by 3\n",
      "Divisible by 3\n",
      "Not divisible by 3\n",
      "Not divisible by 3\n",
      "Divisible by 3\n",
      "Not divisible by 3\n",
      "Not divisible by 3\n",
      "Divisible by 3\n",
      "Not divisible by 3\n",
      "Not divisible by 3\n",
      "Divisible by 3\n",
      "Not divisible by 3\n",
      "Not divisible by 3\n",
      "Divisible by 3\n",
      "Not divisible by 3\n",
      "Not divisible by 3\n",
      "Divisible by 3\n",
      "Not divisible by 3\n",
      "Not divisible by 3\n",
      "Divisible by 3\n",
      "Not divisible by 3\n",
      "Not divisible by 3\n",
      "Divisible by 3\n",
      "Not divisible by 3\n"
     ]
    }
   ],
   "source": [
    "#Q6\n",
    "l=[]\n",
    "i=0\n",
    "while i<25:\n",
    "    l.append(int(input(f\" Enter the {i+1}th Element : \")))\n",
    "    i+=1\n",
    "i=0\n",
    "while i<25:\n",
    "    if(l[i]%3==0):\n",
    "        print(f\"{l[i]} is divisible by 3\")\n",
    "    else:\n",
    "        print(f\"{l[i]} is not divisible by 3\")\n",
    "    i+=1\n",
    "    "
   ]
  },
  {
   "cell_type": "code",
   "execution_count": 38,
   "id": "0726d1de-29d2-47b0-bb8d-f0468082fe28",
   "metadata": {},
   "outputs": [
    {
     "name": "stdout",
     "output_type": "stream",
     "text": [
      "[1, 2, 34, 5, 6]\n",
      "[1, 2, 3, 5, 6]\n"
     ]
    }
   ],
   "source": [
    "#Q7\n",
    "# Mutable\n",
    "l=[1,2,34,5,6]\n",
    "print(l)\n",
    "l[2]=3\n",
    "print(l) # Value by index can be changed"
   ]
  },
  {
   "cell_type": "code",
   "execution_count": 40,
   "id": "e07aef27-761b-4230-8223-6f90ccdb93f4",
   "metadata": {},
   "outputs": [
    {
     "ename": "NameError",
     "evalue": "name 'y' is not defined",
     "output_type": "error",
     "traceback": [
      "\u001b[0;31m---------------------------------------------------------------------------\u001b[0m",
      "\u001b[0;31mNameError\u001b[0m                                 Traceback (most recent call last)",
      "Cell \u001b[0;32mIn[40], line 3\u001b[0m\n\u001b[1;32m      1\u001b[0m \u001b[38;5;66;03m#Immutable\u001b[39;00m\n\u001b[1;32m      2\u001b[0m st\u001b[38;5;241m=\u001b[39m\u001b[38;5;124m\"\u001b[39m\u001b[38;5;124mShreyansh\u001b[39m\u001b[38;5;124m\"\u001b[39m\n\u001b[0;32m----> 3\u001b[0m st[\u001b[38;5;241m2\u001b[39m]\u001b[38;5;241m=\u001b[39m\u001b[43my\u001b[49m\n",
      "\u001b[0;31mNameError\u001b[0m: name 'y' is not defined"
     ]
    }
   ],
   "source": [
    "#Immutable\n",
    "st=\"Shreyansh\"\n",
    "st[2]=y# value by index cann"
   ]
  },
  {
   "cell_type": "code",
   "execution_count": null,
   "id": "429628d7-47b7-46b4-b08d-2a5c10f46383",
   "metadata": {},
   "outputs": [],
   "source": []
  }
 ],
 "metadata": {
  "kernelspec": {
   "display_name": "Python 3 (ipykernel)",
   "language": "python",
   "name": "python3"
  },
  "language_info": {
   "codemirror_mode": {
    "name": "ipython",
    "version": 3
   },
   "file_extension": ".py",
   "mimetype": "text/x-python",
   "name": "python",
   "nbconvert_exporter": "python",
   "pygments_lexer": "ipython3",
   "version": "3.10.8"
  }
 },
 "nbformat": 4,
 "nbformat_minor": 5
}
